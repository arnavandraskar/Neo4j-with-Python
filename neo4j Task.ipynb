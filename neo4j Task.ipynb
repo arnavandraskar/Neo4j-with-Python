{
 "cells": [
  {
   "cell_type": "code",
   "execution_count": 28,
   "id": "1139d86c",
   "metadata": {},
   "outputs": [],
   "source": [
    "import numpy as np\n",
    "import random\n",
    "import pandas as pd\n",
    "from tqdm.notebook import tqdm\n",
    "from neo4j import GraphDatabase"
   ]
  },
  {
   "cell_type": "code",
   "execution_count": 2,
   "id": "a9be189f",
   "metadata": {},
   "outputs": [],
   "source": [
    "df = pd.read_csv(\"D:/Blackcoffer/Neo4j/ipl_2022_dataset.csv\" )"
   ]
  },
  {
   "cell_type": "code",
   "execution_count": 475,
   "id": "0766f9ae",
   "metadata": {
    "scrolled": false
   },
   "outputs": [
    {
     "data": {
      "text/html": [
       "<div>\n",
       "<style scoped>\n",
       "    .dataframe tbody tr th:only-of-type {\n",
       "        vertical-align: middle;\n",
       "    }\n",
       "\n",
       "    .dataframe tbody tr th {\n",
       "        vertical-align: top;\n",
       "    }\n",
       "\n",
       "    .dataframe thead th {\n",
       "        text-align: right;\n",
       "    }\n",
       "</style>\n",
       "<table border=\"1\" class=\"dataframe\">\n",
       "  <thead>\n",
       "    <tr style=\"text-align: right;\">\n",
       "      <th></th>\n",
       "      <th>Unnamed: 0</th>\n",
       "      <th>Player</th>\n",
       "      <th>Base Price</th>\n",
       "      <th>TYPE</th>\n",
       "      <th>COST IN ₹ (CR.)</th>\n",
       "      <th>Cost IN $ (000)</th>\n",
       "      <th>2021 Squad</th>\n",
       "      <th>Team</th>\n",
       "    </tr>\n",
       "  </thead>\n",
       "  <tbody>\n",
       "    <tr>\n",
       "      <th>0</th>\n",
       "      <td>0</td>\n",
       "      <td>Rashid Khan</td>\n",
       "      <td>Draft Pick</td>\n",
       "      <td>BOWLER</td>\n",
       "      <td>15.0</td>\n",
       "      <td>1950.0</td>\n",
       "      <td>SRH</td>\n",
       "      <td>Gujarat Titans</td>\n",
       "    </tr>\n",
       "    <tr>\n",
       "      <th>1</th>\n",
       "      <td>1</td>\n",
       "      <td>Hardik Pandya</td>\n",
       "      <td>Draft Pick</td>\n",
       "      <td>ALL-ROUNDER</td>\n",
       "      <td>15.0</td>\n",
       "      <td>1950.0</td>\n",
       "      <td>MI</td>\n",
       "      <td>Gujarat Titans</td>\n",
       "    </tr>\n",
       "    <tr>\n",
       "      <th>2</th>\n",
       "      <td>2</td>\n",
       "      <td>Lockie Ferguson</td>\n",
       "      <td>2 Cr</td>\n",
       "      <td>BOWLER</td>\n",
       "      <td>10.0</td>\n",
       "      <td>1300.0</td>\n",
       "      <td>KKR</td>\n",
       "      <td>Gujarat Titans</td>\n",
       "    </tr>\n",
       "    <tr>\n",
       "      <th>3</th>\n",
       "      <td>3</td>\n",
       "      <td>Rahul Tewatia</td>\n",
       "      <td>40 Lakh</td>\n",
       "      <td>ALL-ROUNDER</td>\n",
       "      <td>9.0</td>\n",
       "      <td>1170.0</td>\n",
       "      <td>RR</td>\n",
       "      <td>Gujarat Titans</td>\n",
       "    </tr>\n",
       "    <tr>\n",
       "      <th>4</th>\n",
       "      <td>4</td>\n",
       "      <td>Shubman Gill</td>\n",
       "      <td>Draft Pick</td>\n",
       "      <td>BATTER</td>\n",
       "      <td>8.0</td>\n",
       "      <td>1040.0</td>\n",
       "      <td>KKR</td>\n",
       "      <td>Gujarat Titans</td>\n",
       "    </tr>\n",
       "  </tbody>\n",
       "</table>\n",
       "</div>"
      ],
      "text/plain": [
       "   Unnamed: 0           Player  Base Price         TYPE  COST IN ₹ (CR.)  \\\n",
       "0           0      Rashid Khan  Draft Pick       BOWLER             15.0   \n",
       "1           1    Hardik Pandya  Draft Pick  ALL-ROUNDER             15.0   \n",
       "2           2  Lockie Ferguson        2 Cr       BOWLER             10.0   \n",
       "3           3    Rahul Tewatia     40 Lakh  ALL-ROUNDER              9.0   \n",
       "4           4     Shubman Gill  Draft Pick       BATTER              8.0   \n",
       "\n",
       "   Cost IN $ (000) 2021 Squad            Team  \n",
       "0           1950.0        SRH  Gujarat Titans  \n",
       "1           1950.0         MI  Gujarat Titans  \n",
       "2           1300.0        KKR  Gujarat Titans  \n",
       "3           1170.0         RR  Gujarat Titans  \n",
       "4           1040.0        KKR  Gujarat Titans  "
      ]
     },
     "execution_count": 475,
     "metadata": {},
     "output_type": "execute_result"
    }
   ],
   "source": [
    "df.head()"
   ]
  },
  {
   "cell_type": "code",
   "execution_count": 476,
   "id": "16b5c2b6",
   "metadata": {},
   "outputs": [],
   "source": [
    "df = df[df[\"Team\"]!=\"Unsold\"]\n",
    "df = df.drop(['Unnamed: 0'],axis=1)\n",
    "\n",
    "df.columns = ['Player', 'Base Price', 'TYPE', 'cost',\n",
    "       'Cost IN $ (000)', '2021 Squad', 'Team']\n",
    "\n",
    "df['short_team']= df[\"Team\"].apply(lambda x : \"\".join(e[0] for e in x.split()))\n",
    "df['player_id'] = [\"t\"+str(i) for i in range(len(df))]"
   ]
  },
  {
   "cell_type": "code",
   "execution_count": 479,
   "id": "f1b409fb",
   "metadata": {},
   "outputs": [],
   "source": [
    "team_players={}\n",
    "for t in df.Team.unique():\n",
    "    target = df[df.Team==t]\n",
    "    team_players[t] = target.player_id.values.tolist()"
   ]
  },
  {
   "cell_type": "code",
   "execution_count": 480,
   "id": "bb5ade05",
   "metadata": {},
   "outputs": [],
   "source": [
    "df[\"cost\"] = df[\"cost\"].apply(lambda x: x*10000000)\n",
    "\n",
    "df[\"colleagues\"] = df[\"Team\"].apply(lambda x: team_players[x])\n",
    "coll = []\n",
    "for i, j in tqdm(enumerate(df.player_id.values)):\n",
    "    values = [k for k in df.iloc[i][\"colleagues\"] if j != k] \n",
    "    coll.append(values)\n",
    "    \n",
    "df['colleagues'] = coll   "
   ]
  },
  {
   "cell_type": "code",
   "execution_count": 485,
   "id": "ccbe2d27",
   "metadata": {
    "scrolled": false
   },
   "outputs": [
    {
     "data": {
      "text/html": [
       "<div>\n",
       "<style scoped>\n",
       "    .dataframe tbody tr th:only-of-type {\n",
       "        vertical-align: middle;\n",
       "    }\n",
       "\n",
       "    .dataframe tbody tr th {\n",
       "        vertical-align: top;\n",
       "    }\n",
       "\n",
       "    .dataframe thead th {\n",
       "        text-align: right;\n",
       "    }\n",
       "</style>\n",
       "<table border=\"1\" class=\"dataframe\">\n",
       "  <thead>\n",
       "    <tr style=\"text-align: right;\">\n",
       "      <th></th>\n",
       "      <th>Player</th>\n",
       "      <th>Base Price</th>\n",
       "      <th>TYPE</th>\n",
       "      <th>cost</th>\n",
       "      <th>Cost IN $ (000)</th>\n",
       "      <th>2021 Squad</th>\n",
       "      <th>Team</th>\n",
       "      <th>short_team</th>\n",
       "      <th>player_id</th>\n",
       "      <th>colleagues</th>\n",
       "    </tr>\n",
       "  </thead>\n",
       "  <tbody>\n",
       "    <tr>\n",
       "      <th>0</th>\n",
       "      <td>Rashid Khan</td>\n",
       "      <td>Draft Pick</td>\n",
       "      <td>BOWLER</td>\n",
       "      <td>150000000.0</td>\n",
       "      <td>1950.0</td>\n",
       "      <td>SRH</td>\n",
       "      <td>Gujarat Titans</td>\n",
       "      <td>GT</td>\n",
       "      <td>t0</td>\n",
       "      <td>[t1, t2, t3, t4, t5, t6, t7, t8, t9, t10, t11,...</td>\n",
       "    </tr>\n",
       "    <tr>\n",
       "      <th>1</th>\n",
       "      <td>Hardik Pandya</td>\n",
       "      <td>Draft Pick</td>\n",
       "      <td>ALL-ROUNDER</td>\n",
       "      <td>150000000.0</td>\n",
       "      <td>1950.0</td>\n",
       "      <td>MI</td>\n",
       "      <td>Gujarat Titans</td>\n",
       "      <td>GT</td>\n",
       "      <td>t1</td>\n",
       "      <td>[t0, t2, t3, t4, t5, t6, t7, t8, t9, t10, t11,...</td>\n",
       "    </tr>\n",
       "    <tr>\n",
       "      <th>2</th>\n",
       "      <td>Lockie Ferguson</td>\n",
       "      <td>2 Cr</td>\n",
       "      <td>BOWLER</td>\n",
       "      <td>100000000.0</td>\n",
       "      <td>1300.0</td>\n",
       "      <td>KKR</td>\n",
       "      <td>Gujarat Titans</td>\n",
       "      <td>GT</td>\n",
       "      <td>t2</td>\n",
       "      <td>[t0, t1, t3, t4, t5, t6, t7, t8, t9, t10, t11,...</td>\n",
       "    </tr>\n",
       "    <tr>\n",
       "      <th>3</th>\n",
       "      <td>Rahul Tewatia</td>\n",
       "      <td>40 Lakh</td>\n",
       "      <td>ALL-ROUNDER</td>\n",
       "      <td>90000000.0</td>\n",
       "      <td>1170.0</td>\n",
       "      <td>RR</td>\n",
       "      <td>Gujarat Titans</td>\n",
       "      <td>GT</td>\n",
       "      <td>t3</td>\n",
       "      <td>[t0, t1, t2, t4, t5, t6, t7, t8, t9, t10, t11,...</td>\n",
       "    </tr>\n",
       "    <tr>\n",
       "      <th>4</th>\n",
       "      <td>Shubman Gill</td>\n",
       "      <td>Draft Pick</td>\n",
       "      <td>BATTER</td>\n",
       "      <td>80000000.0</td>\n",
       "      <td>1040.0</td>\n",
       "      <td>KKR</td>\n",
       "      <td>Gujarat Titans</td>\n",
       "      <td>GT</td>\n",
       "      <td>t4</td>\n",
       "      <td>[t0, t1, t2, t3, t5, t6, t7, t8, t9, t10, t11,...</td>\n",
       "    </tr>\n",
       "  </tbody>\n",
       "</table>\n",
       "</div>"
      ],
      "text/plain": [
       "            Player  Base Price         TYPE         cost  Cost IN $ (000)  \\\n",
       "0      Rashid Khan  Draft Pick       BOWLER  150000000.0           1950.0   \n",
       "1    Hardik Pandya  Draft Pick  ALL-ROUNDER  150000000.0           1950.0   \n",
       "2  Lockie Ferguson        2 Cr       BOWLER  100000000.0           1300.0   \n",
       "3    Rahul Tewatia     40 Lakh  ALL-ROUNDER   90000000.0           1170.0   \n",
       "4     Shubman Gill  Draft Pick       BATTER   80000000.0           1040.0   \n",
       "\n",
       "  2021 Squad            Team short_team player_id  \\\n",
       "0        SRH  Gujarat Titans         GT        t0   \n",
       "1         MI  Gujarat Titans         GT        t1   \n",
       "2        KKR  Gujarat Titans         GT        t2   \n",
       "3         RR  Gujarat Titans         GT        t3   \n",
       "4        KKR  Gujarat Titans         GT        t4   \n",
       "\n",
       "                                          colleagues  \n",
       "0  [t1, t2, t3, t4, t5, t6, t7, t8, t9, t10, t11,...  \n",
       "1  [t0, t2, t3, t4, t5, t6, t7, t8, t9, t10, t11,...  \n",
       "2  [t0, t1, t3, t4, t5, t6, t7, t8, t9, t10, t11,...  \n",
       "3  [t0, t1, t2, t4, t5, t6, t7, t8, t9, t10, t11,...  \n",
       "4  [t0, t1, t2, t3, t5, t6, t7, t8, t9, t10, t11,...  "
      ]
     },
     "execution_count": 485,
     "metadata": {},
     "output_type": "execute_result"
    }
   ],
   "source": [
    "df.head()"
   ]
  },
  {
   "cell_type": "code",
   "execution_count": 29,
   "id": "be5d957f",
   "metadata": {},
   "outputs": [],
   "source": [
    "class neo4j_python:\n",
    "    def __init__(self, uri=\"bolt://localhost:7687\", user = \"neo4j\", password = \"password\"):       \n",
    "        self.data_base_connection = GraphDatabase.driver(uri = uri, auth=(user, password))\n",
    "        self.session = self.data_base_connection.session()\n",
    "        \n",
    "    def execute_query(self,query, read= False):\n",
    "        result =self.session.run(query)\n",
    "        if read:\n",
    "            return result\n",
    "            \n",
    "    def return_df(self,query):\n",
    "        result = self.execute_query(query, read= True).data()\n",
    "        return pd.DataFrame(result)"
   ]
  },
  {
   "cell_type": "code",
   "execution_count": 486,
   "id": "0185ce14",
   "metadata": {
    "scrolled": false
   },
   "outputs": [
    {
     "data": {
      "application/vnd.jupyter.widget-view+json": {
       "model_id": "2d704483ba0948419349b0c9db79bbb9",
       "version_major": 2,
       "version_minor": 0
      },
      "text/plain": [
       "  0%|          | 0/10 [00:00<?, ?it/s]"
      ]
     },
     "metadata": {},
     "output_type": "display_data"
    },
    {
     "data": {
      "application/vnd.jupyter.widget-view+json": {
       "model_id": "1bf22f5a499f4774b3bcdbb35d375345",
       "version_major": 2,
       "version_minor": 0
      },
      "text/plain": [
       "  0%|          | 0/237 [00:00<?, ?it/s]"
      ]
     },
     "metadata": {},
     "output_type": "display_data"
    },
    {
     "data": {
      "application/vnd.jupyter.widget-view+json": {
       "model_id": "45ee2d71ee5947cabd576030bfdaafee",
       "version_major": 2,
       "version_minor": 0
      },
      "text/plain": [
       "  0%|          | 0/237 [00:00<?, ?it/s]"
      ]
     },
     "metadata": {},
     "output_type": "display_data"
    },
    {
     "data": {
      "application/vnd.jupyter.widget-view+json": {
       "model_id": "6043861072ec415c897712fbaf9d77f5",
       "version_major": 2,
       "version_minor": 0
      },
      "text/plain": [
       "  0%|          | 0/237 [00:00<?, ?it/s]"
      ]
     },
     "metadata": {},
     "output_type": "display_data"
    }
   ],
   "source": [
    "queries=[]\n",
    "\n",
    "# create a node TEAM\n",
    "# eg: (GT:TEAM{name: 'GT' })\n",
    "for i in tqdm(df['short_team'].unique()):\n",
    "    team = \"(\"+str(i)+\":TEAM{name: '\"+str(i)+\"' })\"\n",
    "    queries.append(team)\n",
    "    \n",
    "# create a node PLAYERS\n",
    "# eg: (t5:PLAYER{name: 'Mohammad Shami' , type: 'BOWLER' })\n",
    "for i in tqdm(range(len(df))):\n",
    "    player = \"(\"+str(df[\"player_id\"].values[i].split()[0])+\":PLAYER{name: '\"+str(df[\"Player\"].values[i])+\"' , type: '\"+str(df[\"TYPE\"].values[i])+\"' })\"\n",
    "    queries.append(player)\n",
    "\n",
    "# create a relationship COLLEAGUE\n",
    "# eg: (t0)-[:COLLEAGUE]->(t4)\n",
    "for i in tqdm(range(len(df))):\n",
    "    for j in df[\"colleagues\"].values[i]:\n",
    "        colleague = \"(\" +str(df[\"player_id\"].values[i].split()[0])+ \")-[:COLLEAGUE]->\" + \"(\"+str(j)+\")\"\n",
    "        queries.append(colleague)\n",
    "        \n",
    "# create a relationship SOLD_TO\n",
    "# eg: (t154)-[:SOLD_TO{cost:15000000.0}]->(MI)       \n",
    "for i in tqdm(range(len(df))):\n",
    "    sold_to = \"(\" +str(df[\"player_id\"].values[i].split()[0])+ \")-[:SOLD_TO{cost:\"+str(df[\"cost\"].values[i])+\"}]->\" + \"(\"+str(df[\"short_team\"].values[i])+\")\"\n",
    "    queries.append(sold_to)\n",
    "\n",
    "                            "
   ]
  },
  {
   "cell_type": "code",
   "execution_count": 488,
   "id": "9b956e9d",
   "metadata": {},
   "outputs": [],
   "source": [
    "final_query = \",\".join(i for i in queries)\n",
    "final_query = \"CREATE \"+ final_query"
   ]
  },
  {
   "cell_type": "code",
   "execution_count": 545,
   "id": "8fc6d8c0",
   "metadata": {
    "scrolled": true
   },
   "outputs": [
    {
     "data": {
      "text/plain": [
       "\"CREATE (GT:TEAM{name: 'GT' }),(CSK:TEAM{name: 'CSK' }),(DC:TEAM{name: 'DC' }),(KKR:TEAM{name: 'KKR' }),(PK:TEAM{name: 'PK' }),(LSG:TEAM{name: 'LSG' }),(MI:TEAM{name: 'MI' }),(RCB:TEAM{name: 'RCB' }),(RR:TEAM{name: 'RR' }),(SH:TEAM{name: 'SH' }),(t0:PLAYER{name: 'Rashid Khan' , type: 'BOWLER' }),(t1:PLAYER{name: 'Hardik Pandya' , type: 'ALL-ROUNDER' }),(t2:PLAYER{name: 'Lockie Ferguson' , type: 'BOWLER' }),(t3:PLAYER{name: 'Rahul Tewatia' , type: 'ALL-ROUNDER' }),(t4:PLAYER{name: 'Shubman Gill' , type: 'BATTER' }),(t5:PLAYER{name: 'Mohammad Shami' , type: 'BOWLER' }),(t6:PLAYER{name: 'Yash Dayal' , type: 'BOWLER' }),(t7:PLAYER{name: 'David Miller' , type: 'BATTER' }),(t8:PLAYER{name: 'R. Sai Kishore' , type: 'BOWLER' }),(t9:PLAYER{name: 'Abhinav Sadarangani' , type: 'BATTER' }),(t10:PLAYER{name: 'Matthew Wade' , type: 'WICKETKEEPER' }),(t11:PLAYER{name: 'Alzarri Joseph' , type: 'BOWLER' }),(t12:PLAYER{name: 'Jason Roy' , type: 'BATTER' }),(t13:PLAYER{name: 'Wriddhiman Saha' , type: 'WICKETKEEPER' }),(t14:PLAYER{name: 'Jayant Yadav' , type: 'ALL-ROUNDER' }),(t15:PLAYER{name: 'Vijay Shankar' , type: 'ALL-ROUNDER' }),(t16:PLAYER{name: 'Dominic Drakes' , type: 'ALL-ROUNDER' }),(t17:PLAYER{name: 'Varun Aaron' , type: 'BOWLER' }),(t18:PLAYER{name: 'Gurkeerat Singh' , type: 'ALL-ROUNDER' }),(t19:PLAYER{name: 'Noor Ahmad' , type: 'BOWLER' }),(t20:PLAYER{name: 'Darshan Nalkande' , type: 'ALL-ROUNDER' }),(t21:PLAYER{name: 'Pradeep Sangwan' , type: 'ALL-ROUNDER' }),(t22:PLAYER{name: 'Ravindra Jadeja' , type: 'ALL-ROUNDER' }),(t23:PLAYER{name: 'Deepak Chahar' , type: 'BOWLER' }),(t24:PLAYER{name: 'MS Dhoni' , type: 'WICKETKEEPER' }),(t25:PLAYER{name: 'Moeen Ali' , type: 'ALL-ROUNDER' }),(t26:PLAYER{name: 'Ambati Rayudu' , type: 'WICKETKEEPER' }),(t27:PLAYER{name: 'Ruturaj Gaikwad' , type: 'BATTER' }),(t28:PLAYER{name: 'Dwayne Bravo' , type: 'ALL-ROUNDER' }),(t29:PLAYER{name: 'Shivam Dube' , type: 'ALL-ROUNDER' }),(t30:PLAYER{name: 'Chris Jordan' , type: 'ALL-ROUNDER' }),(t31:PLAYER{name: 'Robin Uthappa' , type: 'BATTER' }),(t32:PLAYER{name: 'Mitchell Santner' , type: 'ALL-ROUNDER' }),(t33:PLAYER{name: 'Adam Milne' , type: 'BOWLER' }),(t34:PLAYER{name: 'Rajvardhan Hangargekar' , type: 'ALL-ROUNDER' }),(t35:PLAYER{name: 'Prashant Solanki' , type: 'BOWLER' }),(t36:PLAYER{name: 'Devon Conway' , type: 'BATTER' }),(t37:PLAYER{name: 'Maheesh Theekshana' , type: 'BOWLER' }),(t38:PLAYER{name: 'Dwaine Pretorius' , type: 'ALL-ROUNDER' }),(t39:PLAYER{name: 'K.Bhagath Varma' , type: 'ALL-ROUNDER' }),(t40:PLAYER{name: 'Simarjeet Singh' , type: 'BOWLER' }),(t41:PLAYER{name: 'N. Jagadeesan' , type: 'WICKETKEEPER' }),(t42:PLAYER{name: 'C.Hari Nishaanth' , type: 'BATTER' }),(t43:PLAYER{name: 'K.M. Asif' , type: 'BOWLER' }),(t44:PLAYER{name: 'Tushar Deshpande' , type: 'BOWLER' }),(t45:PLAYER{name: 'Subhranshu Senapati' , type: 'BATTER' }),(t46:PLAYER{name: 'Mukesh Choudhary' , type: 'BOWLER' }),(t47:PLAYER{name: 'Rishabh Pant' , type: 'WICKETKEEPER' }),(t48:PLAYER{name: 'Shardul Thakur' , type: 'BOWLER' }),(t49:PLAYER{name: 'Axar Patel' , type: 'ALL-ROUNDER' }),(t50:PLAYER{name: 'Prithvi Shaw' , type: 'BATTER' }),(t51:PLAYER{name: 'Mitchell Marsh' , type: 'ALL-ROUNDER' }),(t52:PLAYER{name: 'Anrich Nortje' , type: 'BOWLER' }),(t53:PLAYER{name: 'David Warner' , type: 'BATTER' }),(t54:PLAYER{name: 'Syed Khaleel Ahmed' , type: 'BOWLER' }),(t55:PLAYER{name: 'Chetan Sakariya' , type: 'BOWLER' }),(t56:PLAYER{name: 'Rovman Powell' , type: 'BATTER' }),(t57:PLAYER{name: 'K.S. Bharat' , type: 'WICKETKEEPER' }),(t58:PLAYER{name: 'Mustafizur Rahman' , type: 'BOWLER' }),(t59:PLAYER{name: 'Kuldeep Yadav' , type: 'BOWLER' }),(t60:PLAYER{name: 'Kamlesh Nagarkoti' , type: 'ALL-ROUNDER' }),(t61:PLAYER{name: 'Mandeep Singh' , type: 'BATTER' }),(t62:PLAYER{name: 'Lalit Yadav' , type: 'ALL-ROUNDER' }),(t63:PLAYER{name: 'Tim Seifert' , type: 'WICKETKEEPER' }),(t64:PLAYER{name: 'Pravin Dubey' , type: 'ALL-ROUNDER' }),(t65:PLAYER{name: 'Lungisani Ngidi' , type: 'BOWLER' }),(t66:PLAYER{name: 'Yash Dhull' , type: 'ALL-ROUNDER' }),(t67:PLAYER{name: 'Ashwin Hebbar' , type: 'BATTER' }),(t68:PLAYER{name: 'Sarfaraz Khan' , type: 'ALL-ROUNDER' }),(t69:PLAYER{name: 'Ripal Patel' , type: 'ALL-ROUNDER' }),(t70:PLAYER{name: 'Vicky Ostwal' , type: 'ALL-ROUNDER' }),(t71:PLAYER{name: 'Shreyas Iyer' , type: 'BATTER' }),(t72:PLAYER{name: 'Andre Russell' , type: 'ALL-ROUNDER' }),(t73:PLAYER{name: 'Nitish Rana' , type: 'ALL-ROUNDER' }),(t74:PLAYER{name: 'Venkatesh Iyer' , type: 'ALL-ROUNDER' }),(t75:PLAYER{name: 'Varun Chakaravarthy' , type: 'BOWLER' }),(t76:PLAYER{name: 'Pat Cummins' , type: 'ALL-ROUNDER' }),(t77:PLAYER{name: 'Shivam Mavi' , type: 'ALL-ROUNDER' }),(t78:PLAYER{name: 'Sunil Narine' , type: 'ALL-ROUNDER' }),(t79:PLAYER{name: 'Sam Billings' , type: 'WICKETKEEPER' }),(t80:PLAYER{name: 'Umesh Yadav' , type: 'BOWLER' }),(t81:PLAYER{name: 'Tim Southee' , type: 'BOWLER' }),(t82:PLAYER{name: 'Alex Hales' , type: 'BATTER' }),(t83:PLAYER{name: 'Ajinkya Rahane' , type: 'BATTER' }),(t84:PLAYER{name: 'Mohammad Nabi' , type: 'ALL-ROUNDER' }),(t85:PLAYER{name: 'Sheldon Jackson' , type: 'WICKETKEEPER' }),(t86:PLAYER{name: 'Rinku Singh' , type: 'BATTER' }),(t87:PLAYER{name: 'Ashok Sharma' , type: 'BOWLER' }),(t88:PLAYER{name: 'Chamika Karunaratne' , type: 'ALL-ROUNDER' }),(t89:PLAYER{name: 'Abhijeet Tomar' , type: 'BATTER' }),(t90:PLAYER{name: 'Rasikh Dar' , type: 'BOWLER' }),(t91:PLAYER{name: 'Anukul Roy' , type: 'ALL-ROUNDER' }),(t92:PLAYER{name: 'Baba Indrajith' , type: 'WICKETKEEPER' }),(t93:PLAYER{name: 'Aman Khan' , type: 'ALL-ROUNDER' }),(t94:PLAYER{name: 'Ramesh Kumar' , type: 'BATTER' }),(t95:PLAYER{name: 'Pratham Singh' , type: 'BATTER' }),(t96:PLAYER{name: 'Mayank Agarwal' , type: 'BATTER' }),(t97:PLAYER{name: 'Liam Livingstone' , type: 'ALL-ROUNDER' }),(t98:PLAYER{name: 'Kagiso Rabada' , type: 'BOWLER' }),(t99:PLAYER{name: 'Shahrukh Khan' , type: 'ALL-ROUNDER' }),(t100:PLAYER{name: 'Shikhar Dhawan' , type: 'BATTER' }),(t101:PLAYER{name: 'Jonny Bairstow' , type: 'WICKETKEEPER' }),(t102:PLAYER{name: 'Odean Smith' , type: 'ALL-ROUNDER' }),(t103:PLAYER{name: 'Rahul Chahar' , type: 'BOWLER' }),(t104:PLAYER{name: 'Arshdeep Singh' , type: 'BOWLER' }),(t105:PLAYER{name: 'Harpreet Brar' , type: 'ALL-ROUNDER' }),(t106:PLAYER{name: 'Vaibhav Arora' , type: 'BOWLER' }),(t107:PLAYER{name: 'Raj Angad Bawa' , type: 'ALL-ROUNDER' }),(t108:PLAYER{name: 'Nathan Ellis' , type: 'BOWLER' }),(t109:PLAYER{name: 'Prabhsimran Singh' , type: 'WICKETKEEPER' }),(t110:PLAYER{name: 'Rishi Dhawan' , type: 'ALL-ROUNDER' }),(t111:PLAYER{name: 'Sandeep Sharma' , type: 'BOWLER' }),(t112:PLAYER{name: 'Bhanuka Rajapaksa' , type: 'BATTER' }),(t113:PLAYER{name: 'Benny Howell' , type: 'ALL-ROUNDER' }),(t114:PLAYER{name: 'Ishan Porel' , type: 'BOWLER' }),(t115:PLAYER{name: 'Prerak Mankad' , type: 'ALL-ROUNDER' }),(t116:PLAYER{name: 'Ansh Patel' , type: 'ALL-ROUNDER' }),(t117:PLAYER{name: 'Jitesh Sharma' , type: 'WICKETKEEPER' }),(t118:PLAYER{name: 'Writtick Chatterjee' , type: 'ALL-ROUNDER' }),(t119:PLAYER{name: 'Atharva Taide' , type: 'ALL-ROUNDER' }),(t120:PLAYER{name: 'Baltej Dhanda' , type: 'BOWLER' }),(t121:PLAYER{name: 'KL Rahul' , type: 'WICKETKEEPER' }),(t122:PLAYER{name: 'Avesh Khan' , type: 'BOWLER' }),(t123:PLAYER{name: 'Marcus Stoinis' , type: 'ALL-ROUNDER' }),(t124:PLAYER{name: 'Jason Holder' , type: 'ALL-ROUNDER' }),(t125:PLAYER{name: 'Krunal Pandya' , type: 'ALL-ROUNDER' }),(t126:PLAYER{name: 'Mark Wood' , type: 'BOWLER' }),(t127:PLAYER{name: 'Quinton De Kock' , type: 'WICKETKEEPER' }),(t128:PLAYER{name: 'Deepak Hooda' , type: 'ALL-ROUNDER' }),(t129:PLAYER{name: 'Manish Pandey' , type: 'BATTER' }),(t130:PLAYER{name: 'Ravi Bishnoi' , type: 'BOWLER' }),(t131:PLAYER{name: 'Dushmanta Chameera' , type: 'BOWLER' }),(t132:PLAYER{name: 'Evin Lewis' , type: 'BATTER' }),(t133:PLAYER{name: 'K. Gowtham' , type: 'ALL-ROUNDER' }),(t134:PLAYER{name: 'Kyle Mayers' , type: 'ALL-ROUNDER' }),(t135:PLAYER{name: 'Shahbaz Nadeem' , type: 'BOWLER' }),(t136:PLAYER{name: 'Ankit Singh Rajpoot' , type: 'BOWLER' }),(t137:PLAYER{name: 'Manan Vohra' , type: 'BATTER' }),(t138:PLAYER{name: 'B. Sai Sudharsan' , type: 'ALL-ROUNDER' }),(t139:PLAYER{name: 'Karan Sharma' , type: 'ALL-ROUNDER' }),(t140:PLAYER{name: 'Ayush Badoni' , type: 'ALL-ROUNDER' }),(t141:PLAYER{name: 'Mohsin Khan' , type: 'BOWLER' }),(t142:PLAYER{name: 'Mayank Yadav' , type: 'BOWLER' }),(t143:PLAYER{name: 'Rohit Sharma' , type: 'BATTER' }),(t144:PLAYER{name: 'Ishan Kishan' , type: 'WICKETKEEPER' }),(t145:PLAYER{name: 'Jasprit Bumrah' , type: 'BOWLER' }),(t146:PLAYER{name: 'Tim David' , type: 'ALL-ROUNDER' }),(t147:PLAYER{name: 'Jofra Archer' , type: 'ALL-ROUNDER' }),(t148:PLAYER{name: 'Suryakumar Yadav' , type: 'BATTER' }),(t149:PLAYER{name: 'Kieron Pollard' , type: 'ALL-ROUNDER' }),(t150:PLAYER{name: 'Dewald Brevis' , type: 'BATTER' }),(t151:PLAYER{name: 'Daniel Sams' , type: 'ALL-ROUNDER' }),(t152:PLAYER{name: 'N. Tilak Varma' , type: 'ALL-ROUNDER' }),(t153:PLAYER{name: 'Murugan Ashwin' , type: 'BOWLER' }),(t154:PLAYER{name: 'Tymal Mills' , type: 'BOWLER' }),(t155:PLAYER{name: 'Jaydev Unadkat' , type: 'BOWLER' }),(t156:PLAYER{name: 'Riley Meredith' , type: 'BOWLER' }),(t157:PLAYER{name: 'Fabian Allen' , type: 'ALL-ROUNDER' }),(t158:PLAYER{name: 'Mayank Markande' , type: 'BOWLER' }),(t159:PLAYER{name: 'Sanjay Yadav' , type: 'ALL-ROUNDER' }),(t160:PLAYER{name: 'Arjun Tendulkar' , type: 'ALL-ROUNDER' }),(t161:PLAYER{name: 'Basil Thampi' , type: 'BOWLER' }),(t162:PLAYER{name: 'Anmolpreet Singh' , type: 'BATTER' }),(t163:PLAYER{name: 'Aryan Juyal' , type: 'WICKETKEEPER' }),(t164:PLAYER{name: 'Ramandeep Singh' , type: 'ALL-ROUNDER' }),(t165:PLAYER{name: 'Rahul Buddhi' , type: 'BATTER' }),(t166:PLAYER{name: 'Hrithik Shokeen' , type: 'ALL-ROUNDER' }),(t167:PLAYER{name: 'Mohd. Arshad Khan' , type: 'ALL-ROUNDER' }),(t168:PLAYER{name: 'Virat Kohli' , type: 'BATTER' }),(t169:PLAYER{name: 'Glenn Maxwell' , type: 'ALL-ROUNDER' }),(t170:PLAYER{name: 'Wanindu Hasaranga' , type: 'ALL-ROUNDER' }),(t171:PLAYER{name: 'Harshal Patel' , type: 'ALL-ROUNDER' }),(t172:PLAYER{name: 'Josh Hazlewood' , type: 'BOWLER' }),(t173:PLAYER{name: 'Faf Du Plessis' , type: 'BATTER' }),(t174:PLAYER{name: 'Mohammed Siraj' , type: 'BOWLER' }),(t175:PLAYER{name: 'Dinesh Karthik' , type: 'WICKETKEEPER' }),(t176:PLAYER{name: 'Anuj Rawat' , type: 'WICKETKEEPER' }),(t177:PLAYER{name: 'Shahbaz Ahamad' , type: 'ALL-ROUNDER' }),(t178:PLAYER{name: 'David Willey' , type: 'ALL-ROUNDER' }),(t179:PLAYER{name: 'Sherfane Rutherford' , type: 'ALL-ROUNDER' }),(t180:PLAYER{name: 'Mahipal Lomror' , type: 'ALL-ROUNDER' }),(t181:PLAYER{name: 'Finn Allen' , type: 'BATTER' }),(t182:PLAYER{name: 'Siddharth Kaul' , type: 'BOWLER' }),(t183:PLAYER{name: 'Jason Behrendorff' , type: 'BOWLER' }),(t184:PLAYER{name: 'Karn Sharma' , type: 'BOWLER' }),(t185:PLAYER{name: 'Suyash Prabhudessai' , type: 'ALL-ROUNDER' }),(t186:PLAYER{name: 'Chama Milind' , type: 'BOWLER' }),(t187:PLAYER{name: 'Akash Deep' , type: 'BOWLER' }),(t188:PLAYER{name: 'Aneeshwar Gautam' , type: 'ALL-ROUNDER' }),(t189:PLAYER{name: 'Luvnith Sisodia' , type: 'WICKETKEEPER' }),(t190:PLAYER{name: 'Sanju Samson' , type: 'WICKETKEEPER' }),(t191:PLAYER{name: 'Jos Buttler' , type: 'WICKETKEEPER' }),(t192:PLAYER{name: 'Prasidh Krishna' , type: 'BOWLER' }),(t193:PLAYER{name: 'Shimron Hetmyer' , type: 'BATTER' }),(t194:PLAYER{name: 'Trent Boult' , type: 'BOWLER' }),(t195:PLAYER{name: 'Devdutt Padikkal' , type: 'BATTER' }),(t196:PLAYER{name: 'Yuzvendra Chahal' , type: 'BOWLER' }),(t197:PLAYER{name: 'R. Ashwin' , type: 'ALL-ROUNDER' }),(t198:PLAYER{name: 'Yashaswi Jaiswal' , type: 'BATTER' }),(t199:PLAYER{name: 'Riyan Parag' , type: 'ALL-ROUNDER' }),(t200:PLAYER{name: 'Navdeep Saini' , type: 'BOWLER' }),(t201:PLAYER{name: 'Nathan Coulter-Nile' , type: 'BOWLER' }),(t202:PLAYER{name: 'James Neesham' , type: 'ALL-ROUNDER' }),(t203:PLAYER{name: 'Karun Nair' , type: 'BATTER' }),(t204:PLAYER{name: 'Rassie Van Der Dussen' , type: 'BATTER' }),(t205:PLAYER{name: 'Obed Mccoy' , type: 'BOWLER' }),(t206:PLAYER{name: 'Daryl Mitchell' , type: 'ALL-ROUNDER' }),(t207:PLAYER{name: 'K.C Cariappa' , type: 'BOWLER' }),(t208:PLAYER{name: 'Anunay Singh' , type: 'ALL-ROUNDER' }),(t209:PLAYER{name: 'Kuldeep Sen' , type: 'BOWLER' }),(t210:PLAYER{name: 'Dhruv Jurel' , type: 'WICKETKEEPER' }),(t211:PLAYER{name: 'Tejas Baroka' , type: 'BOWLER' }),(t212:PLAYER{name: 'Kuldip Yadav' , type: 'BOWLER' }),(t213:PLAYER{name: 'Shubham Garhwal' , type: 'ALL-ROUNDER' }),(t214:PLAYER{name: 'Kane Williamson' , type: 'BATTER' }),(t215:PLAYER{name: 'Nicholas Pooran' , type: 'WICKETKEEPER' }),(t216:PLAYER{name: 'Washington Sundar' , type: 'ALL-ROUNDER' }),(t217:PLAYER{name: 'Rahul Tripathi' , type: 'BATTER' }),(t218:PLAYER{name: 'Romario Shepherd' , type: 'ALL-ROUNDER' }),(t219:PLAYER{name: 'Abhishek Sharma' , type: 'ALL-ROUNDER' }),(t220:PLAYER{name: 'Marco Jansen' , type: 'ALL-ROUNDER' }),(t221:PLAYER{name: 'Bhuvneshwar Kumar' , type: 'BOWLER' }),(t222:PLAYER{name: 'T. Natarajan' , type: 'BOWLER' }),(t223:PLAYER{name: 'Abdul Samad' , type: 'ALL-ROUNDER' }),(t224:PLAYER{name: 'Umran Malik' , type: 'BOWLER' }),(t225:PLAYER{name: 'Kartik Tyagi' , type: 'BOWLER' }),(t226:PLAYER{name: 'Aiden Markram' , type: 'BATTER' }),(t227:PLAYER{name: 'Sean Abbott' , type: 'BOWLER' }),(t228:PLAYER{name: 'Glenn Phillips' , type: 'WICKETKEEPER' }),(t229:PLAYER{name: 'Shreyas Gopal' , type: 'BOWLER' }),(t230:PLAYER{name: 'Vishnu Vinod' , type: 'WICKETKEEPER' }),(t231:PLAYER{name: 'Fazalhaq Farooqi' , type: 'BOWLER' }),(t232:PLAYER{name: 'Priyam Garg' , type: 'BATTER' }),(t233:PLAYER{name: 'R Samarth' , type: 'BATTER' }),(t234:PLAYER{name: 'Jagadeesha Suchith' , type: 'BOWLER' }),(t235:PLAYER{name: 'Shashank Singh' , type: 'ALL-ROUNDER' }),(t236:PLAYER{name: 'Saurabh Dubey' , type: 'BOWLER' }),(t0)-[:COLLEAGUE]->(t1),(t0)-[:COLLEAGUE]->(t2),(t0)-[:COLLEAGUE]->(t3),(t0)-[:COLLEAGUE]->(t4),(t0)-[:COLLEAGUE]->(t5),(t0)-[:COLLEAGUE]->(t6),(t0)-[:COLLEAGUE]->(t7),(t0)-[:COLLEAGUE]->(t8),(t0)-[:COLLEAGUE]->(t9),(t0)-[:COLLEAGUE]->(t10),(t0)-[:COLLEAGUE]->(t11),(t0)-[:COLLEAGUE]->(t12),(t0)-[:COLLEAGUE]->(t13),(t0)-[:COLLEAGUE]->(t14),(t0)-[:COLLEAGUE]->(t15),(t0)-[:COLLEAGUE]->(t16),(t0)-[:COLLEAGUE]->(t17),(t0)-[:COLLEAGUE]->(t18),(t0)-[:COLLEAGUE]->(t19),(t0)-[:COLLEAGUE]->(t20),(t0)-[:COLLEAGUE]->(t21),(t1)-[:COLLEAGUE]->(t0),(t1)-[:COLLEAGUE]->(t2),(t1)-[:COLLEAGUE]->(t3),(t1)-[:COLLEAGUE]->(t4),(t1)-[:COLLEAGUE]->(t5),(t1)-[:COLLEAGUE]->(t6),(t1)-[:COLLEAGUE]->(t7),(t1)-[:COLLEAGUE]->(t8),(t1)-[:COLLEAGUE]->(t9),(t1)-[:COLLEAGUE]->(t10),(t1)-[:COLLEAGUE]->(t11),(t1)-[:COLLEAGUE]->(t12),(t1)-[:COLLEAGUE]->(t13),(t1)-[:COLLEAGUE]->(t14),(t1)-[:COLLEAGUE]->(t15),(t1)-[:COLLEAGUE]->(t16),(t1)-[:COLLEAGUE]->(t17),(t1)-[:COLLEAGUE]->(t18),(t1)-[:COLLEAGUE]->(t19),(t1)-[:COLLEAGUE]->(t20),(t1)-[:COLLEAGUE]->(t21),(t2)-[:COLLEAGUE]->(t0),(t2)-[:COLLEAGUE]->(t1),(t2)-[:COLLEAGUE]->(t3),(t2)-[:COLLEAGUE]->(t4),(t2)-[:COLLEAGUE]->(t5),(t2)-[:COLLEAGUE]->(t6),(t2)-[:COLLEAGUE]->(t7),(t2)-[:COLLEAGUE]->(t8),(t2)-[:COLLEAGUE]->(t9),(t2)-[:COLLEAGUE]->(t10),(t2)-[:COLLEAGUE]->(t11),(t2)-[:COLLEAGUE]->(t12),(t2)-[:COLLEAGUE]->(t13),(t2)-[:COLLEAGUE]->(t14),(t2)-[:COLLEAGUE]->(t15),(t2)-[:COLLEAGUE]->(t16),(t2)-[:COLLEAGUE]->(t17),(t2)-[:COLLEAGUE]->(t18),(t2)-[:COLLEAGUE]->(t19),(t2)-[:COLLEAGUE]->(t20),(t2)-[:COLLEAGUE]->(t21),(t3)-[:COLLEAGUE]->(t0),(t3)-[:COLLEAGUE]->(t1),(t3)-[:COLLEAGUE]->(t2),(t3)-[:COLLEAGUE]->(t4),(t3)-[:COLLEAGUE]->(t5),(t3)-[:COLLEAGUE]->(t6),(t3)-[:COLLEAGUE]->(t7),(t3)-[:COLLEAGUE]->(t8),(t3)-[:COLLEAGUE]->(t9),(t3)-[:COLLEAGUE]->(t10),(t3)-[:COLLEAGUE]->(t11),(t3)-[:COLLEAGUE]->(t12),(t3)-[:COLLEAGUE]->(t13),(t3)-[:COLLEAGUE]->(t14),(t3)-[:COLLEAGUE]->(t15),(t3)-[:COLLEAGUE]->(t16),(t3)-[:COLLEAGUE]->(t17),(t3)-[:COLLEAGUE]->(t18),(t3)-[:COLLEAGUE]->(t19),(t3)-[:COLLEAGUE]->(t20),(t3)-[:COLLEAGUE]->(t21),(t4)-[:COLLEAGUE]->(t0),(t4)-[:COLLEAGUE]->(t1),(t4)-[:COLLEAGUE]->(t2),(t4)-[:COLLEAGUE]->(t3),(t4)-[:COLLEAGUE]->(t5),(t4)-[:COLLEAGUE]->(t6),(t4)-[:COLLEAGUE]->(t7),(t4)-[:COLLEAGUE]->(t8),(t4)-[:COLLEAGUE]->(t9),(t4)-[:COLLEAGUE]->(t10),(t4)-[:COLLEAGUE]->(t11),(t4)-[:COLLEAGUE]->(t12),(t4)-[:COLLEAGUE]->(t13),(t4)-[:COLLEAGUE]->(t14),(t4)-[:COLLEAGUE]->(t15),(t4)-[:COLLEAGUE]->(t16),(t4)-[:COLLEAGUE]->(t17),(t4)-[:COLLEAGUE]->(t18),(t4)-[:COLLEAGUE]->(t19),(t4)-[:COLLEAGUE]->(t20),(t4)-[:COLLEAGUE]->(t21),(t5)-[:COLLEAGUE]->(t0),(t5)-[:COLLEAGUE]->(t1),(t5)-[:COLLEAGUE]->(t2),(t5)-[:COLLEAGUE]->(t3),(t5)-[:COLLEAGUE]->(t4),(t5)-[:COLLEAGUE]->(t6),(t5)-[:COLLEAGUE]->(t7),(t5)-[:COLLEAGUE]->(t8),(t5)-[:COLLEAGUE]->(t9),(t5)-[:COLLEAGUE]->(t10),(t5)-[:COLLEAGUE]->(t11),(t5)-[:COLLEAGUE]->(t12),(t5)-[:COLLEAGUE]->(t13),(t5)-[:COLLEAGUE]->(t14),(t5)-[:COLLEAGUE]->(t15),(t5)-[:COLLEAGUE]->(t16),(t5)-[:COLLEAGUE]->(t17),(t5)-[:COLLEAGUE]->(t18),(t5)-[:COLLEAGUE]->(t19),(t5)-[:COLLEAGUE]->(t20),(t5)-[:COLLEAGUE]->(t21),(t6)-[:COLLEAGUE]->(t0),(t6)-[:COLLEAGUE]->(t1),(t6)-[:COLLEAGUE]->(t2),(t6)-[:COLLEAGUE]->(t3),(t6)-[:COLLEAGUE]->(t4),(t6)-[:COLLEAGUE]->(t5),(t6)-[:COLLEAGUE]->(t7),(t6)-[:COLLEAGUE]->(t8),(t6)-[:COLLEAGUE]->(t9),(t6)-[:COLLEAGUE]->(t10),(t6)-[:COLLEAGUE]->(t11),(t6)-[:COLLEAGUE]->(t12),(t6)-[:COLLEAGUE]->(t13),(t6)-[:COLLEAGUE]->(t14),(t6)-[:COLLEAGUE]->(t15),(t6)-[:COLLEAGUE]->(t16),(t6)-[:COLLEAGUE]->(t17),(t6)-[:COLLEAGUE]->(t18),(t6)-[:COLLEAGUE]->(t19),(t6)-[:COLLEAGUE]->(t20),(t6)-[:COLLEAGUE]->(t21),(t7)-[:COLLEAGUE]->(t0),(t7)-[:COLLEAGUE]->(t1),(t7)-[:COLLEAGUE]->(t2),(t7)-[:COLLEAGUE]->(t3),(t7)-[:COLLEAGUE]->(t4),(t7)-[:COLLEAGUE]->(t5),(t7)-[:COLLEAGUE]->(t6),(t7)-[:COLLEAGUE]->(t8),(t7)-[:COLLEAGUE]->(t9),(t7)-[:COLLEAGUE]->(t10),(t7)-[:COLLEAGUE]->(t11),(t7)-[:COLLEAGUE]->(t12),(t7)-[:COLLEAGUE]->(t13),(t7)-[:COLLEAGUE]->(t14),(t7)-[:COLLEAGUE]->(t15),(t7)-[:COLLEAGUE]->(t16),(t7)-[:COLLEAGUE]->(t17),(t7)-[:COLLEAGUE]->(t18),(t7)-[:COLLEAGUE]->(t19),(t7)-[:COLLEAGUE]->(t20),(t7)-[:COLLEAGUE]->(t21),(t8)-[:COLLEAGUE]->(t0),(t8)-[:COLLEAGUE]->(t1),(t8)-[:COLLEAGUE]->(t2),(t8)-[:COLLEAGUE]->(t3),(t8)-[:COLLEAGUE]->(t4),(t8)-[:COLLEAGUE]->(t5),(t8)-[:COLLEAGUE]->(t6),(t8)-[:COLLEAGUE]->(t7),(t8)-[:COLLEAGUE]->(t9),(t8)-[:COLLEAGUE]->(t10),(t8)-[:COLLEAGUE]->(t11),(t8)-[:COLLEAGUE]->(t12),(t8)-[:COLLEAGUE]->(t13),(t8)-[:COLLEAGUE]->(t14),(t8)-[:COLLEAGUE]->(t15),(t8)-[:COLLEAGUE]->(t16),(t8)-[:COLLEAGUE]->(t17),(t8)-[:COLLEAGUE]->(t18),(t8)-[:COLLEAGUE]->(t19),(t8)-[:COLLEAGUE]->(t20),(t8)-[:COLLEAGUE]->(t21),(t9)-[:COLLEAGUE]->(t0),(t9)-[:COLLEAGUE]->(t1),(t9)-[:COLLEAGUE]->(t2),(t9)-[:COLLEAGUE]->(t3),(t9)-[:COLLEAGUE]->(t4),(t9)-[:COLLEAGUE]->(t5),(t9)-[:COLLEAGUE]->(t6),(t9)-[:COLLEAGUE]->(t7),(t9)-[:COLLEAGUE]->(t8),(t9)-[:COLLEAGUE]->(t10),(t9)-[:COLLEAGUE]->(t11),(t9)-[:COLLEAGUE]->(t12),(t9)-[:COLLEAGUE]->(t13),(t9)-[:COLLEAGUE]->(t14),(t9)-[:COLLEAGUE]->(t15),(t9)-[:COLLEAGUE]->(t16),(t9)-[:COLLEAGUE]->(t17),(t9)-[:COLLEAGUE]->(t18),(t9)-[:COLLEAGUE]->(t19),(t9)-[:COLLEAGUE]->(t20),(t9)-[:COLLEAGUE]->(t21),(t10)-[:COLLEAGUE]->(t0),(t10)-[:COLLEAGUE]->(t1),(t10)-[:COLLEAGUE]->(t2),(t10)-[:COLLEAGUE]->(t3),(t10)-[:COLLEAGUE]->(t4),(t10)-[:COLLEAGUE]->(t5),(t10)-[:COLLEAGUE]->(t6),(t10)-[:COLLEAGUE]->(t7),(t10)-[:COLLEAGUE]->(t8),(t10)-[:COLLEAGUE]->(t9),(t10)-[:COLLEAGUE]->(t11),(t10)-[:COLLEAGUE]->(t12),(t10)-[:COLLEAGUE]->(t13),(t10)-[:COLLEAGUE]->(t14),(t10)-[:COLLEAGUE]->(t15),(t10)-[:COLLEAGUE]->(t16),(t10)-[:COLLEAGUE]->(t17),(t10)-[:COLLEAGUE]->(t18),(t10)-[:COLLEAGUE]->(t19),(t10)-[:COLLEAGUE]->(t20),(t10)-[:COLLEAGUE]->(t21),(t11)-[:COLLEAGUE]->(t0),(t11)-[:COLLEAGUE]->(t1),(t11)-[:COLLEAGUE]->(t2),(t11)-[:COLLEAGUE]->(t3),(t11)-[:COLLEAGUE]->(t4),(t11)-[:COLLEAGUE]->(t5),(t11)-[:COLLEAGUE]->(t6),(t11)-[:COLLEAGUE]->(t7),(t11)-[:COLLEAGUE]->(t8),(t11)-[:COLLEAGUE]->(t9),(t11)-[:COLLEAGUE]->(t10),(t11)-[:COLLEAGUE]->(t12),(t11)-[:COLLEAGUE]->(t13),(t11)-[:COLLEAGUE]->(t14),(t11)-[:COLLEAGUE]->(t15),(t11)-[:COLLEAGUE]->(t16),(t11)-[:COLLEAGUE]->(t17),(t11)-[:COLLEAGUE]->(t18),(t11)-[:COLLEAGUE]->(t19),(t11)-[:COLLEAGUE]->(t20),(t11)-[:COLLEAGUE]->(t21),(t12)-[:COLLEAGUE]->(t0),(t12)-[:COLLEAGUE]->(t1),(t12)-[:COLLEAGUE]->(t2),(t12)-[:COLLEAGUE]->(t3),(t12)-[:COLLEAGUE]->(t4),(t12)-[:COLLEAGUE]->(t5),(t12)-[:COLLEAGUE]->(t6),(t12)-[:COLLEAGUE]->(t7),(t12)-[:COLLEAGUE]->(t8),(t12)-[:COLLEAGUE]->(t9),(t12)-[:COLLEAGUE]->(t10),(t12)-[:COLLEAGUE]->(t11),(t12)-[:COLLEAGUE]->(t13),(t12)-[:COLLEAGUE]->(t14),(t12)-[:COLLEAGUE]->(t15),(t12)-[:COLLEAGUE]->(t16),(t12)-[:COLLEAGUE]->(t17),(t12)-[:COLLEAGUE]->(t18),(t12)-[:COLLEAGUE]->(t19),(t12)-[:COLLEAGUE]->(t20),(t12)-[:COLLEAGUE]->(t21),(t13)-[:COLLEAGUE]->(t0),(t13)-[:COLLEAGUE]->(t1),(t13)-[:COLLEAGUE]->(t2),(t13)-[:COLLEAGUE]->(t3),(t13)-[:COLLEAGUE]->(t4),(t13)-[:COLLEAGUE]->(t5),(t13)-[:COLLEAGUE]->(t6),(t13)-[:COLLEAGUE]->(t7),(t13)-[:COLLEAGUE]->(t8),(t13)-[:COLLEAGUE]->(t9),(t13)-[:COLLEAGUE]->(t10),(t13)-[:COLLEAGUE]->(t11),(t13)-[:COLLEAGUE]->(t12),(t13)-[:COLLEAGUE]->(t14),(t13)-[:COLLEAGUE]->(t15),(t13)-[:COLLEAGUE]->(t16),(t13)-[:COLLEAGUE]->(t17),(t13)-[:COLLEAGUE]->(t18),(t13)-[:COLLEAGUE]->(t19),(t13)-[:COLLEAGUE]->(t20),(t13)-[:COLLEAGUE]->(t21),(t14)-[:COLLEAGUE]->(t0),(t14)-[:COLLEAGUE]->(t1),(t14)-[:COLLEAGUE]->(t2),(t14)-[:COLLEAGUE]->(t3),(t14)-[:COLLEAGUE]->(t4),(t14)-[:COLLEAGUE]->(t5),(t14)-[:COLLEAGUE]->(t6),(t14)-[:COLLEAGUE]->(t7),(t14)-[:COLLEAGUE]->(t8),(t14)-[:COLLEAGUE]->(t9),(t14)-[:COLLEAGUE]->(t10),(t14)-[:COLLEAGUE]->(t11),(t14)-[:COLLEAGUE]->(t12),(t14)-[:COLLEAGUE]->(t13),(t14)-[:COLLEAGUE]->(t15),(t14)-[:COLLEAGUE]->(t16),(t14)-[:COLLEAGUE]->(t17),(t14)-[:COLLEAGUE]->(t18),(t14)-[:COLLEAGUE]->(t19),(t14)-[:COLLEAGUE]->(t20),(t14)-[:COLLEAGUE]->(t21),(t15)-[:COLLEAGUE]->(t0),(t15)-[:COLLEAGUE]->(t1),(t15)-[:COLLEAGUE]->(t2),(t15)-[:COLLEAGUE]->(t3),(t15)-[:COLLEAGUE]->(t4),(t15)-[:COLLEAGUE]->(t5),(t15)-[:COLLEAGUE]->(t6),(t15)-[:COLLEAGUE]->(t7),(t15)-[:COLLEAGUE]->(t8),(t15)-[:COLLEAGUE]->(t9),(t15)-[:COLLEAGUE]->(t10),(t15)-[:COLLEAGUE]->(t11),(t15)-[:COLLEAGUE]->(t12),(t15)-[:COLLEAGUE]->(t13),(t15)-[:COLLEAGUE]->(t14),(t15)-[:COLLEAGUE]->(t16),(t15)-[:COLLEAGUE]->(t17),(t15)-[:COLLEAGUE]->(t18),(t15)-[:COLLEAGUE]->(t19),(t15)-[:COLLEAGUE]->(t20),(t15)-[:COLLEAGUE]->(t21),(t16)-[:COLLEAGUE]->(t0),(t16)-[:COLLEAGUE]->(t1),(t16)-[:COLLEAGUE]->(t2),(t16)-[:COLLEAGUE]->(t3),(t16)-[:COLLEAGUE]->(t4),(t16)-[:COLLEAGUE]->(t5),(t16)-[:COLLEAGUE]->(t6),(t16)-[:COLLEAGUE]->(t7),(t16)-[:COLLEAGUE]->(t8),(t16)-[:COLLEAGUE]->(t9),(t16)-[:COLLEAGUE]->(t10),(t16)-[:COLLEAGUE]->(t11),(t16)-[:COLLEAGUE]->(t12),(t16)-[:COLLEAGUE]->(t13),(t16)-[:COLLEAGUE]->(t14),(t16)-[:COLLEAGUE]->(t15),(t16)-[:COLLEAGUE]->(t17),(t16)-[:COLLEAGUE]->(t18),(t16)-[:COLLEAGUE]->(t19),(t16)-[:COLLEAGUE]->(t20),(t16)-[:COLLEAGUE]->(t21),(t17)-[:COLLEAGUE]->(t0),(t17)-[:COLLEAGUE]->(t1),(t17)-[:COLLEAGUE]->(t2),(t17)-[:COLLEAGUE]->(t3),(t17)-[:COLLEAGUE]->(t4),(t17)-[:COLLEAGUE]->(t5),(t17)-[:COLLEAGUE]->(t6),(t17)-[:COLLEAGUE]->(t7),(t17)-[:COLLEAGUE]->(t8),(t17)-[:COLLEAGUE]->(t9),(t17)-[:COLLEAGUE]->(t10),(t17)-[:COLLEAGUE]->(t11),(t17)-[:COLLEAGUE]->(t12),(t17)-[:COLLEAGUE]->(t13),(t17)-[:COLLEAGUE]->(t14),(t17)-[:COLLEAGUE]->(t15),(t17)-[:COLLEAGUE]->(t16),(t17)-[:COLLEAGUE]->(t18),(t17)-[:COLLEAGUE]->(t19),(t17)-[:COLLEAGUE]->(t20),(t17)-[:COLLEAGUE]->(t21),(t18)-[:COLLEAGUE]->(t0),(t18)-[:COLLEAGUE]->(t1),(t18)-[:COLLEAGUE]->(t2),(t18)-[:COLLEAGUE]->(t3),(t18)-[:COLLEAGUE]->(t4),(t18)-[:COLLEAGUE]->(t5),(t18)-[:COLLEAGUE]->(t6),(t18)-[:COLLEAGUE]->(t7),(t18)-[:COLLEAGUE]->(t8),(t18)-[:COLLEAGUE]->(t9),(t18)-[:COLLEAGUE]->(t10),(t18)-[:COLLEAGUE]->(t11),(t18)-[:COLLEAGUE]->(t12),(t18)-[:COLLEAGUE]->(t13),(t18)-[:COLLEAGUE]->(t14),(t18)-[:COLLEAGUE]->(t15),(t18)-[:COLLEAGUE]->(t16),(t18)-[:COLLEAGUE]->(t17),(t18)-[:COLLEAGUE]->(t19),(t18)-[:COLLEAGUE]->(t20),(t18)-[:COLLEAGUE]->(t21),(t19)-[:COLLEAGUE]->(t0),(t19)-[:COLLEAGUE]->(t1),(t19)-[:COLLEAGUE]->(t2),(t19)-[:COLLEAGUE]->(t3),(t19)-[:COLLEAGUE]->(t4),(t19)-[:COLLEAGUE]->(t5),(t19)-[:COLLEAGUE]->(t6),(t19)-[:COLLEAGUE]->(t7),(t19)-[:COLLEAGUE]->(t8),(t19)-[:COLLEAGUE]->(t9),(t19)-[:COLLEAGUE]->(t10),(t19)-[:COLLEAGUE]->(t11),(t19)-[:COLLEAGUE]->(t12),(t19)-[:COLLEAGUE]->(t13),(t19)-[:COLLEAGUE]->(t14),(t19)-[:COLLEAGUE]->(t15),(t19)-[:COLLEAGUE]->(t16),(t19)-[:COLLEAGUE]->(t17),(t19)-[:COLLEAGUE]->(t18),(t19)-[:COLLEAGUE]->(t20),(t19)-[:COLLEAGUE]->(t21),(t20)-[:COLLEAGUE]->(t0),(t20)-[:COLLEAGUE]->(t1),(t20)-[:COLLEAGUE]->(t2),(t20)-[:COLLEAGUE]->(t3),(t20)-[:COLLEAGUE]->(t4),(t20)-[:COLLEAGUE]->(t5),(t20)-[:COLLEAGUE]->(t6),(t20)-[:COLLEAGUE]->(t7),(t20)-[:COLLEAGUE]->(t8),(t20)-[:COLLEAGUE]->(t9),(t20)-[:COLLEAGUE]->(t10),(t20)-[:COLLEAGUE]->(t11),(t20)-[:COLLEAGUE]->(t12),(t20)-[:COLLEAGUE]->(t13),(t20)-[:COLLEAGUE]->(t14),(t20)-[:COLLEAGUE]->(t15),(t20)-[:COLLEAGUE]->(t16),(t20)-[:COLLEAGUE]->(t17),(t20)-[:COLLEAGUE]->(t18),(t20)-[:COLLEAGUE]->(t19),(t20)-[:COLLEAGUE]->(t21),(t21)-[:COLLEAGUE]->(t0),(t21)-[:COLLEAGUE]->(t1),(t21)-[:COLLEAGUE]->(t2),(t21)-[:COLLEAGUE]->(t3),(t21)-[:COLLEAGUE]->(t4),(t21)-[:COLLEAGUE]->(t5),(t21)-[:COLLEAGUE]->(t6),(t21)-[:COLLEAGUE]->(t7),(t21)-[:COLLEAGUE]->(t8),(t21)-[:COLLEAGUE]->(t9),(t21)-[:COLLEAGUE]->(t10),(t21)-[:COLLEAGUE]->(t11),(t21)-[:COLLEAGUE]->(t12),(t21)-[:COLLEAGUE]->(t13),(t21)-[:COLLEAGUE]->(t14),(t21)-[:COLLEAGUE]->(t15),(t21)-[:COLLEAGUE]->(t16),(t21)-[:COLLEAGUE]->(t17),(t21)-[:COLLEAGUE]->(t18),(t21)-[:COLLEAGUE]->(t19),(t21)-[:COLLEAGUE]->(t20),(t22)-[:COLLEAGUE]->(t23),(t22)-[:COLLEAGUE]->(t24),(t22)-[:COLLEAGUE]->(t25),(t22)-[:COLLEAGUE]->(t26),(t22)-[:COLLEAGUE]->(t27),(t22)-[:COLLEAGUE]->(t28),(t22)-[:COLLEAGUE]->(t29),(t22)-[:COLLEAGUE]->(t30),(t22)-[:COLLEAGUE]->(t31),(t22)-[:COLLEAGUE]->(t32),(t22)-[:COLLEAGUE]->(t33),(t22)-[:COLLEAGUE]->(t34),(t22)-[:COLLEAGUE]->(t35),(t22)-[:COLLEAGUE]->(t36),(t22)-[:COLLEAGUE]->(t37),(t22)-[:COLLEAGUE]->(t38),(t22)-[:COLLEAGUE]->(t39),(t22)-[:COLLEAGUE]->(t40),(t22)-[:COLLEAGUE]->(t41),(t22)-[:COLLEAGUE]->(t42),(t22)-[:COLLEAGUE]->(t43),(t22)-[:COLLEAGUE]->(t44),(t22)-[:COLLEAGUE]->(t45),(t22)-[:COLLEAGUE]->(t46),(t23)-[:COLLEAGUE]->(t22),(t23)-[:COLLEAGUE]->(t24),(t23)-[:COLLEAGUE]->(t25),(t23)-[:COLLEAGUE]->(t26),(t23)-[:COLLEAGUE]->(t27),(t23)-[:COLLEAGUE]->(t28),(t23)-[:COLLEAGUE]->(t29),(t23)-[:COLLEAGUE]->(t30),(t23)-[:COLLEAGUE]->(t31),(t23)-[:COLLEAGUE]->(t32),(t23)-[:COLLEAGUE]->(t33),(t23)-[:COLLEAGUE]->(t34),(t23)-[:COLLEAGUE]->(t35),(t23)-[:COLLEAGUE]->(t36),(t23)-[:COLLEAGUE]->(t37),(t23)-[:COLLEAGUE]->(t38),(t23)-[:COLLEAGUE]->(t39),(t23)-[:COLLEAGUE]->(t40),(t23)-[:COLLEAGUE]->(t41),(t23)-[:COLLEAGUE]->(t42),(t23)-[:COLLEAGUE]->(t43),(t23)-[:COLLEAGUE]->(t44),(t23)-[:COLLEAGUE]->(t45),(t23)-[:COLLEAGUE]->(t46),(t24)-[:COLLEAGUE]->(t22),(t24)-[:COLLEAGUE]->(t23),(t24)-[:COLLEAGUE]->(t25),(t24)-[:COLLEAGUE]->(t26),(t24)-[:COLLEAGUE]->(t27),(t24)-[:COLLEAGUE]->(t28),(t24)-[:COLLEAGUE]->(t29),(t24)-[:COLLEAGUE]->(t30),(t24)-[:COLLEAGUE]->(t31),(t24)-[:COLLEAGUE]->(t32),(t24)-[:COLLEAGUE]->(t33),(t24)-[:COLLEAGUE]->(t34),(t24)-[:COLLEAGUE]->(t35),(t24)-[:COLLEAGUE]->(t36),(t24)-[:COLLEAGUE]->(t37),(t24)-[:COLLEAGUE]->(t38),(t24)-[:COLLEAGUE]->(t39),(t24)-[:COLLEAGUE]->(t40),(t24)-[:COLLEAGUE]->(t41),(t24)-[:COLLEAGUE]->(t42),(t24)-[:COLLEAGUE]->(t43),(t24)-[:COLLEAGUE]->(t44),(t24)-[:COLLEAGUE]->(t45),(t24)-[:COLLEAGUE]->(t46),(t25)-[:COLLEAGUE]->(t22),(t25)-[:COLLEAGUE]->(t23),(t25)-[:COLLEAGUE]->(t24),(t25)-[:COLLEAGUE]->(t26),(t25)-[:COLLEAGUE]->(t27),(t25)-[:COLLEAGUE]->(t28),(t25)-[:COLLEAGUE]->(t29),(t25)-[:COLLEAGUE]->(t30),(t25)-[:COLLEAGUE]->(t31),(t25)-[:COLLEAGUE]->(t32),(t25)-[:COLLEAGUE]->(t33),(t25)-[:COLLEAGUE]->(t34),(t25)-[:COLLEAGUE]->(t35),(t25)-[:COLLEAGUE]->(t36),(t25)-[:COLLEAGUE]->(t37),(t25)-[:COLLEAGUE]->(t38),(t25)-[:COLLEAGUE]->(t39),(t25)-[:COLLEAGUE]->(t40),(t25)-[:COLLEAGUE]->(t41),(t25)-[:COLLEAGUE]->(t42),(t25)-[:COLLEAGUE]->(t43),(t25)-[:COLLEAGUE]->(t44),(t25)-[:COLLEAGUE]->(t45),(t25)-[:COLLEAGUE]->(t46),(t26)-[:COLLEAGUE]->(t22),(t26)-[:COLLEAGUE]->(t23),(t26)-[:COLLEAGUE]->(t24),(t26)-[:COLLEAGUE]->(t25),(t26)-[:COLLEAGUE]->(t27),(t26)-[:COLLEAGUE]->(t28),(t26)-[:COLLEAGUE]->(t29),(t26)-[:COLLEAGUE]->(t30),(t26)-[:COLLEAGUE]->(t31),(t26)-[:COLLEAGUE]->(t32),(t26)-[:COLLEAGUE]->(t33),(t26)-[:COLLEAGUE]->(t34),(t26)-[:COLLEAGUE]->(t35),(t26)-[:COLLEAGUE]->(t36),(t26)-[:COLLEAGUE]->(t37),(t26)-[:COLLEAGUE]->(t38),(t26)-[:COLLEAGUE]->(t39),(t26)-[:COLLEAGUE]->(t40),(t26)-[:COLLEAGUE]->(t41),(t26)-[:COLLEAGUE]->(t42),(t26)-[:COLLEAGUE]->(t43),(t26)-[:COLLEAGUE]->(t44),(t26)-[:COLLEAGUE]->(t45),(t26)-[:COLLEAGUE]->(t46),(t27)-[:COLLEAGUE]->(t22),(t27)-[:COLLEAGUE]->(t23),(t27)-[:COLLEAGUE]->(t24),(t27)-[:COLLEAGUE]->(t25),(t27)-[:COLLEAGUE]->(t26),(t27)-[:COLLEAGUE]->(t28),(t27)-[:COLLEAGUE]->(t29),(t27)-[:COLLEAGUE]->(t30),(t27)-[:COLLEAGUE]->(t31),(t27)-[:COLLEAGUE]->(t32),(t27)-[:COLLEAGUE]->(t33),(t27)-[:COLLEAGUE]->(t34),(t27)-[:COLLEAGUE]->(t35),(t27)-[:COLLEAGUE]->(t36),(t27)-[:COLLEAGUE]->(t37),(t27)-[:COLLEAGUE]->(t38),(t27)-[:COLLEAGUE]->(t39),(t27)-[:COLLEAGUE]->(t40),(t27)-[:COLLEAGUE]->(t41),(t27)-[:COLLEAGUE]->(t42),(t27)-[:COLLEAGUE]->(t43),(t27)-[:COLLEAGUE]->(t44),(t27)-[:COLLEAGUE]->(t45),(t27)-[:COLLEAGUE]->(t46),(t28)-[:COLLEAGUE]->(t22),(t28)-[:COLLEAGUE]->(t23),(t28)-[:COLLEAGUE]->(t24),(t28)-[:COLLEAGUE]->(t25),(t28)-[:COLLEAGUE]->(t26),(t28)-[:COLLEAGUE]->(t27),(t28)-[:COLLEAGUE]->(t29),(t28)-[:COLLEAGUE]->(t30),(t28)-[:COLLEAGUE]->(t31),(t28)-[:COLLEAGUE]->(t32),(t28)-[:COLLEAGUE]->(t33),(t28)-[:COLLEAGUE]->(t34),(t28)-[:COLLEAGUE]->(t35),(t28)-[:COLLEAGUE]->(t36),(t28)-[:COLLEAGUE]->(t37),(t28)-[:COLLEAGUE]->(t38),(t28)-[:COLLEAGUE]->(t39),(t28)-[:COLLEAGUE]->(t40),(t28)-[:COLLEAGUE]->(t41),(t28)-[:COLLEAGUE]->(t42),(t28)-[:COLLEAGUE]->(t43),(t28)-[:COLLEAGUE]->(t44),(t28)-[:COLLEAGUE]->(t45),(t28)-[:COLLEAGUE]->(t46),(t29)-[:COLLEAGUE]->(t22),(t29)-[:COLLEAGUE]->(t23),(t29)-[:COLLEAGUE]->(t24),(t29)-[:COLLEAGUE]->(t25),(t29)-[:COLLEAGUE]->(t26),(t29)-[:COLLEAGUE]->(t27),(t29)-[:COLLEAGUE]->(t28),(t29)-[:COLLEAGUE]->(t30),(t29)-[:COLLEAGUE]->(t31),(t29)-[:COLLEAGUE]->(t32),(t29)-[:COLLEAGUE]->(t33),(t29)-[:COLLEAGUE]->(t34),(t29)-[:COLLEAGUE]->(t35),(t29)-[:COLLEAGUE]->(t36),(t29)-[:COLLEAGUE]->(t37),(t29)-[:COLLEAGUE]->(t38),(t29)-[:COLLEAGUE]->(t39),(t29)-[:COLLEAGUE]->(t40),(t29)-[:COLLEAGUE]->(t41),(t29)-[:COLLEAGUE]->(t42),(t29)-[:COLLEAGUE]->(t43),(t29)-[:COLLEAGUE]->(t44),(t29)-[:COLLEAGUE]->(t45),(t29)-[:COLLEAGUE]->(t46),(t30)-[:COLLEAGUE]->(t22),(t30)-[:COLLEAGUE]->(t23),(t30)-[:COLLEAGUE]->(t24),(t30)-[:COLLEAGUE]->(t25),(t30)-[:COLLEAGUE]->(t26),(t30)-[:COLLEAGUE]->(t27),(t30)-[:COLLEAGUE]->(t28),(t30)-[:COLLEAGUE]->(t29),(t30)-[:COLLEAGUE]->(t31),(t30)-[:COLLEAGUE]->(t32),(t30)-[:COLLEAGUE]->(t33),(t30)-[:COLLEAGUE]->(t34),(t30)-[:COLLEAGUE]->(t35),(t30)-[:COLLEAGUE]->(t36),(t30)-[:COLLEAGUE]->(t37),(t30)-[:COLLEAGUE]->(t38),(t30)-[:COLLEAGUE]->(t39),(t30)-[:COLLEAGUE]->(t40),(t30)-[:COLLEAGUE]->(t41),(t30)-[:COLLEAGUE]->(t42),(t30)-[:COLLEAGUE]->(t43),(t30)-[:COLLEAGUE]->(t44),(t30)-[:COLLEAGUE]->(t45),(t30)-[:COLLEAGUE]->(t46),(t31)-[:COLLEAGUE]->(t22),(t31)-[:COLLEAGUE]->(t23),(t31)-[:COLLEAGUE]->(t24),(t31)-[:COLLEAGUE]->(t25),(t31)-[:COLLEAGUE]->(t26),(t31)-[:COLLEAGUE]->(t27),(t31)-[:COLLEAGUE]->(t28),(t31)-[:COLLEAGUE]->(t29),(t31)-[:COLLEAGUE]->(t30),(t31)-[:COLLEAGUE]->(t32),(t31)-[:COLLEAGUE]->(t33),(t31)-[:COLLEAGUE]->(t34),(t31)-[:COLLEAGUE]->(t35),(t31)-[:COLLEAGUE]->(t36),(t31)-[:COLLEAGUE]->(t37),(t31)-[:COLLEAGUE]->(t38),(t31)-[:COLLEAGUE]->(t39),(t31)-[:COLLEAGUE]->(t40),(t31)-[:COLLEAGUE]->(t41),(t31)-[:COLLEAGUE]->(t42),(t31)-[:COLLEAGUE]->(t43),(t31)-[:COLLEAGUE]->(t44),(t31)-[:COLLEAGUE]->(t45),(t31)-[:COLLEAGUE]->(t46),(t32)-[:COLLEAGUE]->(t22),(t32)-[:COLLEAGUE]->(t23),(t32)-[:COLLEAGUE]->(t24),(t32)-[:COLLEAGUE]->(t25),(t32)-[:COLLEAGUE]->(t26),(t32)-[:COLLEAGUE]->(t27),(t32)-[:COLLEAGUE]->(t28),(t32)-[:COLLEAGUE]->(t29),(t32)-[:COLLEAGUE]->(t30),(t32)-[:COLLEAGUE]->(t31),(t32)-[:COLLEAGUE]->(t33),(t32)-[:COLLEAGUE]->(t34),(t32)-[:COLLEAGUE]->(t35),(t32)-[:COLLEAGUE]->(t36),(t32)-[:COLLEAGUE]->(t37),(t32)-[:COLLEAGUE]->(t38),(t32)-[:COLLEAGUE]->(t39),(t32)-[:COLLEAGUE]->(t40),(t32)-[:COLLEAGUE]->(t41),(t32)-[:COLLEAGUE]->(t42),(t32)-[:COLLEAGUE]->(t43),(t32)-[:COLLEAGUE]->(t44),(t32)-[:COLLEAGUE]->(t45),(t32)-[:COLLEAGUE]->(t46),(t33)-[:COLLEAGUE]->(t22),(t33)-[:COLLEAGUE]->(t23),(t33)-[:COLLEAGUE]->(t24),(t33)-[:COLLEAGUE]->(t25),(t33)-[:COLLEAGUE]->(t26),(t33)-[:COLLEAGUE]->(t27),(t33)-[:COLLEAGUE]->(t28),(t33)-[:COLLEAGUE]->(t29),(t33)-[:COLLEAGUE]->(t30),(t33)-[:COLLEAGUE]->(t31),(t33)-[:COLLEAGUE]->(t32),(t33)-[:COLLEAGUE]->(t34),(t33)-[:COLLEAGUE]->(t35),(t33)-[:COLLEAGUE]->(t36),(t33)-[:COLLEAGUE]->(t37),(t33)-[:COLLEAGUE]->(t38),(t33)-[:COLLEAGUE]->(t39),(t33)-[:COLLEAGUE]->(t40),(t33)-[:COLLEAGUE]->(t41),(t33)-[:COLLEAGUE]->(t42),(t33)-[:COLLEAGUE]->(t43),(t33)-[:COLLEAGUE]->(t44),(t33)-[:COLLEAGUE]->(t45),(t33)-[:COLLEAGUE]->(t46),(t34)-[:COLLEAGUE]->(t22),(t34)-[:COLLEAGUE]->(t23),(t34)-[:COLLEAGUE]->(t24),(t34)-[:COLLEAGUE]->(t25),(t34)-[:COLLEAGUE]->(t26),(t34)-[:COLLEAGUE]->(t27),(t34)-[:COLLEAGUE]->(t28),(t34)-[:COLLEAGUE]->(t29),(t34)-[:COLLEAGUE]->(t30),(t34)-[:COLLEAGUE]->(t31),(t34)-[:COLLEAGUE]->(t32),(t34)-[:COLLEAGUE]->(t33),(t34)-[:COLLEAGUE]->(t35),(t34)-[:COLLEAGUE]->(t36),(t34)-[:COLLEAGUE]->(t37),(t34)-[:COLLEAGUE]->(t38),(t34)-[:COLLEAGUE]->(t39),(t34)-[:COLLEAGUE]->(t40),(t34)-[:COLLEAGUE]->(t41),(t34)-[:COLLEAGUE]->(t42),(t34)-[:COLLEAGUE]->(t43),(t34)-[:COLLEAGUE]->(t44),(t34)-[:COLLEAGUE]->(t45),(t34)-[:COLLEAGUE]->(t46),(t35)-[:COLLEAGUE]->(t22),(t35)-[:COLLEAGUE]->(t23),(t35)-[:COLLEAGUE]->(t24),(t35)-[:COLLEAGUE]->(t25),(t35)-[:COLLEAGUE]->(t26),(t35)-[:COLLEAGUE]->(t27),(t35)-[:COLLEAGUE]->(t28),(t35)-[:COLLEAGUE]->(t29),(t35)-[:COLLEAGUE]->(t30),(t35)-[:COLLEAGUE]->(t31),(t35)-[:COLLEAGUE]->(t32),(t35)-[:COLLEAGUE]->(t33),(t35)-[:COLLEAGUE]->(t34),(t35)-[:COLLEAGUE]->(t36),(t35)-[:COLLEAGUE]->(t37),(t35)-[:COLLEAGUE]->(t38),(t35)-[:COLLEAGUE]->(t39),(t35)-[:COLLEAGUE]->(t40),(t35)-[:COLLEAGUE]->(t41),(t35)-[:COLLEAGUE]->(t42),(t35)-[:COLLEAGUE]->(t43),(t35)-[:COLLEAGUE]->(t44),(t35)-[:COLLEAGUE]->(t45),(t35)-[:COLLEAGUE]->(t46),(t36)-[:COLLEAGUE]->(t22),(t36)-[:COLLEAGUE]->(t23),(t36)-[:COLLEAGUE]->(t24),(t36)-[:COLLEAGUE]->(t25),(t36)-[:COLLEAGUE]->(t26),(t36)-[:COLLEAGUE]->(t27),(t36)-[:COLLEAGUE]->(t28),(t36)-[:COLLEAGUE]->(t29),(t36)-[:COLLEAGUE]->(t30),(t36)-[:COLLEAGUE]->(t31),(t36)-[:COLLEAGUE]->(t32),(t36)-[:COLLEAGUE]->(t33),(t36)-[:COLLEAGUE]->(t34),(t36)-[:COLLEAGUE]->(t35),(t36)-[:COLLEAGUE]->(t37),(t36)-[:COLLEAGUE]->(t38),(t36)-[:COLLEAGUE]->(t39),(t36)-[:COLLEAGUE]->(t40),(t36)-[:COLLEAGUE]->(t41),(t36)-[:COLLEAGUE]->(t42),(t36)-[:COLLEAGUE]->(t43),(t36)-[:COLLEAGUE]->(t44),(t36)-[:COLLEAGUE]->(t45),(t36)-[:COLLEAGUE]->(t46),(t37)-[:COLLEAGUE]->(t22),(t37)-[:COLLEAGUE]->(t23),(t37)-[:COLLEAGUE]->(t24),(t37)-[:COLLEAGUE]->(t25),(t37)-[:COLLEAGUE]->(t26),(t37)-[:COLLEAGUE]->(t27),(t37)-[:COLLEAGUE]->(t28),(t37)-[:COLLEAGUE]->(t29),(t37)-[:COLLEAGUE]->(t30),(t37)-[:COLLEAGUE]->(t31),(t37)-[:COLLEAGUE]->(t32),(t37)-[:COLLEAGUE]->(t33),(t37)-[:COLLEAGUE]->(t34),(t37)-[:COLLEAGUE]->(t35),(t37)-[:COLLEAGUE]->(t36),(t37)-[:COLLEAGUE]->(t38),(t37)-[:COLLEAGUE]->(t39),(t37)-[:COLLEAGUE]->(t40),(t37)-[:COLLEAGUE]->(t41),(t37)-[:COLLEAGUE]->(t42),(t37)-[:COLLEAGUE]->(t43),(t37)-[:COLLEAGUE]->(t44),(t37)-[:COLLEAGUE]->(t45),(t37)-[:COLLEAGUE]->(t46),(t38)-[:COLLEAGUE]->(t22),(t38)-[:COLLEAGUE]->(t23),(t38)-[:COLLEAGUE]->(t24),(t38)-[:COLLEAGUE]->(t25),(t38)-[:COLLEAGUE]->(t26),(t38)-[:COLLEAGUE]->(t27),(t38)-[:COLLEAGUE]->(t28),(t38)-[:COLLEAGUE]->(t29),(t38)-[:COLLEAGUE]->(t30),(t38)-[:COLLEAGUE]->(t31),(t38)-[:COLLEAGUE]->(t32),(t38)-[:COLLEAGUE]->(t33),(t38)-[:COLLEAGUE]->(t34),(t38)-[:COLLEAGUE]->(t35),(t38)-[:COLLEAGUE]->(t36),(t38)-[:COLLEAGUE]->(t37),(t38)-[:COLLEAGUE]->(t39),(t38)-[:COLLEAGUE]->(t40),(t38)-[:COLLEAGUE]->(t41),(t38)-[:COLLEAGUE]->(t42),(t38)-[:COLLEAGUE]->(t43),(t38)-[:COLLEAGUE]->(t44),(t38)-[:COLLEAGUE]->(t45),(t38)-[:COLLEAGUE]->(t46),(t39)-[:COLLEAGUE]->(t22),(t39)-[:COLLEAGUE]->(t23),(t39)-[:COLLEAGUE]->(t24),(t39)-[:COLLEAGUE]->(t25),(t39)-[:COLLEAGUE]->(t26),(t39)-[:COLLEAGUE]->(t27),(t39)-[:COLLEAGUE]->(t28),(t39)-[:COLLEAGUE]->(t29),(t39)-[:COLLEAGUE]->(t30),(t39)-[:COLLEAGUE]->(t31),(t39)-[:COLLEAGUE]->(t32),(t39)-[:COLLEAGUE]->(t33),(t39)-[:COLLEAGUE]->(t34),(t39)-[:COLLEAGUE]->(t35),(t39)-[:COLLEAGUE]->(t36),(t39)-[:COLLEAGUE]->(t37),(t39)-[:COLLEAGUE]->(t38),(t39)-[:COLLEAGUE]->(t40),(t39)-[:COLLEAGUE]->(t41),(t39)-[:COLLEAGUE]->(t42),(t39)-[:COLLEAGUE]->(t43),(t39)-[:COLLEAGUE]->(t44),(t39)-[:COLLEAGUE]->(t45),(t39)-[:COLLEAGUE]->(t46),(t40)-[:COLLEAGUE]->(t22),(t40)-[:COLLEAGUE]->(t23),(t40)-[:COLLEAGUE]->(t24),(t40)-[:COLLEAGUE]->(t25),(t40)-[:COLLEAGUE]->(t26),(t40)-[:COLLEAGUE]->(t27),(t40)-[:COLLEAGUE]->(t28),(t40)-[:COLLEAGUE]->(t29),(t40)-[:COLLEAGUE]->(t30),(t40)-[:COLLEAGUE]->(t31),(t40)-[:COLLEAGUE]->(t32),(t40)-[:COLLEAGUE]->(t33),(t40)-[:COLLEAGUE]->(t34),(t40)-[:COLLEAGUE]->(t35),(t40)-[:COLLEAGUE]->(t36),(t40)-[:COLLEAGUE]->(t37),(t40)-[:COLLEAGUE]->(t38),(t40)-[:COLLEAGUE]->(t39),(t40)-[:COLLEAGUE]->(t41),(t40)-[:COLLEAGUE]->(t42),(t40)-[:COLLEAGUE]->(t43),(t40)-[:COLLEAGUE]->(t44),(t40)-[:COLLEAGUE]->(t45),(t40)-[:COLLEAGUE]->(t46),(t41)-[:COLLEAGUE]->(t22),(t41)-[:COLLEAGUE]->(t23),(t41)-[:COLLEAGUE]->(t24),(t41)-[:COLLEAGUE]->(t25),(t41)-[:COLLEAGUE]->(t26),(t41)-[:COLLEAGUE]->(t27),(t41)-[:COLLEAGUE]->(t28),(t41)-[:COLLEAGUE]->(t29),(t41)-[:COLLEAGUE]->(t30),(t41)-[:COLLEAGUE]->(t31),(t41)-[:COLLEAGUE]->(t32),(t41)-[:COLLEAGUE]->(t33),(t41)-[:COLLEAGUE]->(t34),(t41)-[:COLLEAGUE]->(t35),(t41)-[:COLLEAGUE]->(t36),(t41)-[:COLLEAGUE]->(t37),(t41)-[:COLLEAGUE]->(t38),(t41)-[:COLLEAGUE]->(t39),(t41)-[:COLLEAGUE]->(t40),(t41)-[:COLLEAGUE]->(t42),(t41)-[:COLLEAGUE]->(t43),(t41)-[:COLLEAGUE]->(t44),(t41)-[:COLLEAGUE]->(t45),(t41)-[:COLLEAGUE]->(t46),(t42)-[:COLLEAGUE]->(t22),(t42)-[:COLLEAGUE]->(t23),(t42)-[:COLLEAGUE]->(t24),(t42)-[:COLLEAGUE]->(t25),(t42)-[:COLLEAGUE]->(t26),(t42)-[:COLLEAGUE]->(t27),(t42)-[:COLLEAGUE]->(t28),(t42)-[:COLLEAGUE]->(t29),(t42)-[:COLLEAGUE]->(t30),(t42)-[:COLLEAGUE]->(t31),(t42)-[:COLLEAGUE]->(t32),(t42)-[:COLLEAGUE]->(t33),(t42)-[:COLLEAGUE]->(t34),(t42)-[:COLLEAGUE]->(t35),(t42)-[:COLLEAGUE]->(t36),(t42)-[:COLLEAGUE]->(t37),(t42)-[:COLLEAGUE]->(t38),(t42)-[:COLLEAGUE]->(t39),(t42)-[:COLLEAGUE]->(t40),(t42)-[:COLLEAGUE]->(t41),(t42)-[:COLLEAGUE]->(t43),(t42)-[:COLLEAGUE]->(t44),(t42)-[:COLLEAGUE]->(t45),(t42)-[:COLLEAGUE]->(t46),(t43)-[:COLLEAGUE]->(t22),(t43)-[:COLLEAGUE]->(t23),(t43)-[:COLLEAGUE]->(t24),(t43)-[:COLLEAGUE]->(t25),(t43)-[:COLLEAGUE]->(t26),(t43)-[:COLLEAGUE]->(t27),(t43)-[:COLLEAGUE]->(t28),(t43)-[:COLLEAGUE]->(t29),(t43)-[:COLLEAGUE]->(t30),(t43)-[:COLLEAGUE]->(t31),(t43)-[:COLLEAGUE]->(t32),(t43)-[:COLLEAGUE]->(t33),(t43)-[:COLLEAGUE]->(t34),(t43)-[:COLLEAGUE]->(t35),(t43)-[:COLLEAGUE]->(t36),(t43)-[:COLLEAGUE]->(t37),(t43)-[:COLLEAGUE]->(t38),(t43)-[:COLLEAGUE]->(t39),(t43)-[:COLLEAGUE]->(t40),(t43)-[:COLLEAGUE]->(t41),(t43)-[:COLLEAGUE]->(t42),(t43)-[:COLLEAGUE]->(t44),(t43)-[:COLLEAGUE]->(t45),(t43)-[:COLLEAGUE]->(t46),(t44)-[:COLLEAGUE]->(t22),(t44)-[:COLLEAGUE]->(t23),(t44)-[:COLLEAGUE]->(t24),(t44)-[:COLLEAGUE]->(t25),(t44)-[:COLLEAGUE]->(t26),(t44)-[:COLLEAGUE]->(t27),(t44)-[:COLLEAGUE]->(t28),(t44)-[:COLLEAGUE]->(t29),(t44)-[:COLLEAGUE]->(t30),(t44)-[:COLLEAGUE]->(t31),(t44)-[:COLLEAGUE]->(t32),(t44)-[:COLLEAGUE]->(t33),(t44)-[:COLLEAGUE]->(t34),(t44)-[:COLLEAGUE]->(t35),(t44)-[:COLLEAGUE]->(t36),(t44)-[:COLLEAGUE]->(t37),(t44)-[:COLLEAGUE]->(t38),(t44)-[:COLLEAGUE]->(t39),(t44)-[:COLLEAGUE]->(t40),(t44)-[:COLLEAGUE]->(t41),(t44)-[:COLLEAGUE]->(t42),(t44)-[:COLLEAGUE]->(t43),(t44)-[:COLLEAGUE]->(t45),(t44)-[:COLLEAGUE]->(t46),(t45)-[:COLLEAGUE]->(t22),(t45)-[:COLLEAGUE]->(t23),(t45)-[:COLLEAGUE]->(t24),(t45)-[:COLLEAGUE]->(t25),(t45)-[:COLLEAGUE]->(t26),(t45)-[:COLLEAGUE]->(t27),(t45)-[:COLLEAGUE]->(t28),(t45)-[:COLLEAGUE]->(t29),(t45)-[:COLLEAGUE]->(t30),(t45)-[:COLLEAGUE]->(t31),(t45)-[:COLLEAGUE]->(t32),(t45)-[:COLLEAGUE]->(t33),(t45)-[:COLLEAGUE]->(t34),(t45)-[:COLLEAGUE]->(t35),(t45)-[:COLLEAGUE]->(t36),(t45)-[:COLLEAGUE]->(t37),(t45)-[:COLLEAGUE]->(t38),(t45)-[:COLLEAGUE]->(t39),(t45)-[:COLLEAGUE]->(t40),(t45)-[:COLLEAGUE]->(t41),(t45)-[:COLLEAGUE]->(t42),(t45)-[:COLLEAGUE]->(t43),(t45)-[:COLLEAGUE]->(t44),(t45)-[:COLLEAGUE]->(t46),(t46)-[:COLLEAGUE]->(t22),(t46)-[:COLLEAGUE]->(t23),(t46)-[:COLLEAGUE]->(t24),(t46)-[:COLLEAGUE]->(t25),(t46)-[:COLLEAGUE]->(t26),(t46)-[:COLLEAGUE]->(t27),(t46)-[:COLLEAGUE]->(t28),(t46)-[:COLLEAGUE]->(t29),(t46)-[:COLLEAGUE]->(t30),(t46)-[:COLLEAGUE]->(t31),(t46)-[:COLLEAGUE]->(t32),(t46)-[:COLLEAGUE]->(t33),(t46)-[:COLLEAGUE]->(t34),(t46)-[:COLLEAGUE]->(t35),(t46)-[:COLLEAGUE]->(t36),(t46)-[:COLLEAGUE]->(t37),(t46)-[:COLLEAGUE]->(t38),(t46)-[:COLLEAGUE]->(t39),(t46)-[:COLLEAGUE]->(t40),(t46)-[:COLLEAGUE]->(t41),(t46)-[:COLLEAGUE]->(t42),(t46)-[:COLLEAGUE]->(t43),(t46)-[:COLLEAGUE]->(t44),(t46)-[:COLLEAGUE]->(t45),(t47)-[:COLLEAGUE]->(t48),(t47)-[:COLLEAGUE]->(t49),(t47)-[:COLLEAGUE]->(t50),(t47)-[:COLLEAGUE]->(t51),(t47)-[:COLLEAGUE]->(t52),(t47)-[:COLLEAGUE]->(t53),(t47)-[:COLLEAGUE]->(t54),(t47)-[:COLLEAGUE]->(t55),(t47)-[:COLLEAGUE]->(t56),(t47)-[:COLLEAGUE]->(t57),(t47)-[:COLLEAGUE]->(t58),(t47)-[:COLLEAGUE]->(t59),(t47)-[:COLLEAGUE]->(t60),(t47)-[:COLLEAGUE]->(t61),(t47)-[:COLLEAGUE]->(t62),(t47)-[:COLLEAGUE]->(t63),(t47)-[:COLLEAGUE]->(t64),(t47)-[:COLLEAGUE]->(t65),(t47)-[:COLLEAGUE]->(t66),(t47)-[:COLLEAGUE]->(t67),(t47)-[:COLLEAGUE]->(t68),(t47)-[:COLLEAGUE]->(t69),(t47)-[:COLLEAGUE]->(t70),(t48)-[:COLLEAGUE]->(t47),(t48)-[:COLLEAGUE]->(t49),(t48)-[:COLLEAGUE]->(t50),(t48)-[:COLLEAGUE]->(t51),(t48)-[:COLLEAGUE]->(t52),(t48)-[:COLLEAGUE]->(t53),(t48)-[:COLLEAGUE]->(t54),(t48)-[:COLLEAGUE]->(t55),(t48)-[:COLLEAGUE]->(t56),(t48)-[:COLLEAGUE]->(t57),(t48)-[:COLLEAGUE]->(t58),(t48)-[:COLLEAGUE]->(t59),(t48)-[:COLLEAGUE]->(t60),(t48)-[:COLLEAGUE]->(t61),(t48)-[:COLLEAGUE]->(t62),(t48)-[:COLLEAGUE]->(t63),(t48)-[:COLLEAGUE]->(t64),(t48)-[:COLLEAGUE]->(t65),(t48)-[:COLLEAGUE]->(t66),(t48)-[:COLLEAGUE]->(t67),(t48)-[:COLLEAGUE]->(t68),(t48)-[:COLLEAGUE]->(t69),(t48)-[:COLLEAGUE]->(t70),(t49)-[:COLLEAGUE]->(t47),(t49)-[:COLLEAGUE]->(t48),(t49)-[:COLLEAGUE]->(t50),(t49)-[:COLLEAGUE]->(t51),(t49)-[:COLLEAGUE]->(t52),(t49)-[:COLLEAGUE]->(t53),(t49)-[:COLLEAGUE]->(t54),(t49)-[:COLLEAGUE]->(t55),(t49)-[:COLLEAGUE]->(t56),(t49)-[:COLLEAGUE]->(t57),(t49)-[:COLLEAGUE]->(t58),(t49)-[:COLLEAGUE]->(t59),(t49)-[:COLLEAGUE]->(t60),(t49)-[:COLLEAGUE]->(t61),(t49)-[:COLLEAGUE]->(t62),(t49)-[:COLLEAGUE]->(t63),(t49)-[:COLLEAGUE]->(t64),(t49)-[:COLLEAGUE]->(t65),(t49)-[:COLLEAGUE]->(t66),(t49)-[:COLLEAGUE]->(t67),(t49)-[:COLLEAGUE]->(t68),(t49)-[:COLLEAGUE]->(t69),(t49)-[:COLLEAGUE]->(t70),(t50)-[:COLLEAGUE]->(t47),(t50)-[:COLLEAGUE]->(t48),(t50)-[:COLLEAGUE]->(t49),(t50)-[:COLLEAGUE]->(t51),(t50)-[:COLLEAGUE]->(t52),(t50)-[:COLLEAGUE]->(t53),(t50)-[:COLLEAGUE]->(t54),(t50)-[:COLLEAGUE]->(t55),(t50)-[:COLLEAGUE]->(t56),(t50)-[:COLLEAGUE]->(t57),(t50)-[:COLLEAGUE]->(t58),(t50)-[:COLLEAGUE]->(t59),(t50)-[:COLLEAGUE]->(t60),(t50)-[:COLLEAGUE]->(t61),(t50)-[:COLLEAGUE]->(t62),(t50)-[:COLLEAGUE]->(t63),(t50)-[:COLLEAGUE]->(t64),(t50)-[:COLLEAGUE]->(t65),(t50)-[:COLLEAGUE]->(t66),(t50)-[:COLLEAGUE]->(t67),(t50)-[:COLLEAGUE]->(t68),(t50)-[:COLLEAGUE]->(t69),(t50)-[:COLLEAGUE]->(t70),(t51)-[:COLLEAGUE]->(t47),(t51)-[:COLLEAGUE]->(t48),(t51)-[:COLLEAGUE]->(t49),(t51)-[:COLLEAGUE]->(t50),(t51)-[:COLLEAGUE]->(t52),(t51)-[:COLLEAGUE]->(t53),(t51)-[:COLLEAGUE]->(t54),(t51)-[:COLLEAGUE]->(t55),(t51)-[:COLLEAGUE]->(t56),(t51)-[:COLLEAGUE]->(t57),(t51)-[:COLLEAGUE]->(t58),(t51)-[:COLLEAGUE]->(t59),(t51)-[:COLLEAGUE]->(t60),(t51)-[:COLLEAGUE]->(t61),(t51)-[:COLLEAGUE]->(t62),(t51)-[:COLLEAGUE]->(t63),(t51)-[:COLLEAGUE]->(t64),(t51)-[:COLLEAGUE]->(t65),(t51)-[:COLLEAGUE]->(t66),(t51)-[:COLLEAGUE]->(t67),(t51)-[:COLLEAGUE]->(t68),(t51)-[:COLLEAGUE]->(t69),(t51)-[:COLLEAGUE]->(t70),(t52)-[:COLLEAGUE]->(t47),(t52)-[:COLLEAGUE]->(t48),(t52)-[:COLLEAGUE]->(t49),(t52)-[:COLLEAGUE]->(t50),(t52)-[:COLLEAGUE]->(t51),(t52)-[:COLLEAGUE]->(t53),(t52)-[:COLLEAGUE]->(t54),(t52)-[:COLLEAGUE]->(t55),(t52)-[:COLLEAGUE]->(t56),(t52)-[:COLLEAGUE]->(t57),(t52)-[:COLLEAGUE]->(t58),(t52)-[:COLLEAGUE]->(t59),(t52)-[:COLLEAGUE]->(t60),(t52)-[:COLLEAGUE]->(t61),(t52)-[:COLLEAGUE]->(t62),(t52)-[:COLLEAGUE]->(t63),(t52)-[:COLLEAGUE]->(t64),(t52)-[:COLLEAGUE]->(t65),(t52)-[:COLLEAGUE]->(t66),(t52)-[:COLLEAGUE]->(t67),(t52)-[:COLLEAGUE]->(t68),(t52)-[:COLLEAGUE]->(t69),(t52)-[:COLLEAGUE]->(t70),(t53)-[:COLLEAGUE]->(t47),(t53)-[:COLLEAGUE]->(t48),(t53)-[:COLLEAGUE]->(t49),(t53)-[:COLLEAGUE]->(t50),(t53)-[:COLLEAGUE]->(t51),(t53)-[:COLLEAGUE]->(t52),(t53)-[:COLLEAGUE]->(t54),(t53)-[:COLLEAGUE]->(t55),(t53)-[:COLLEAGUE]->(t56),(t53)-[:COLLEAGUE]->(t57),(t53)-[:COLLEAGUE]->(t58),(t53)-[:COLLEAGUE]->(t59),(t53)-[:COLLEAGUE]->(t60),(t53)-[:COLLEAGUE]->(t61),(t53)-[:COLLEAGUE]->(t62),(t53)-[:COLLEAGUE]->(t63),(t53)-[:COLLEAGUE]->(t64),(t53)-[:COLLEAGUE]->(t65),(t53)-[:COLLEAGUE]->(t66),(t53)-[:COLLEAGUE]->(t67),(t53)-[:COLLEAGUE]->(t68),(t53)-[:COLLEAGUE]->(t69),(t53)-[:COLLEAGUE]->(t70),(t54)-[:COLLEAGUE]->(t47),(t54)-[:COLLEAGUE]->(t48),(t54)-[:COLLEAGUE]->(t49),(t54)-[:COLLEAGUE]->(t50),(t54)-[:COLLEAGUE]->(t51),(t54)-[:COLLEAGUE]->(t52),(t54)-[:COLLEAGUE]->(t53),(t54)-[:COLLEAGUE]->(t55),(t54)-[:COLLEAGUE]->(t56),(t54)-[:COLLEAGUE]->(t57),(t54)-[:COLLEAGUE]->(t58),(t54)-[:COLLEAGUE]->(t59),(t54)-[:COLLEAGUE]->(t60),(t54)-[:COLLEAGUE]->(t61),(t54)-[:COLLEAGUE]->(t62),(t54)-[:COLLEAGUE]->(t63),(t54)-[:COLLEAGUE]->(t64),(t54)-[:COLLEAGUE]->(t65),(t54)-[:COLLEAGUE]->(t66),(t54)-[:COLLEAGUE]->(t67),(t54)-[:COLLEAGUE]->(t68),(t54)-[:COLLEAGUE]->(t69),(t54)-[:COLLEAGUE]->(t70),(t55)-[:COLLEAGUE]->(t47),(t55)-[:COLLEAGUE]->(t48),(t55)-[:COLLEAGUE]->(t49),(t55)-[:COLLEAGUE]->(t50),(t55)-[:COLLEAGUE]->(t51),(t55)-[:COLLEAGUE]->(t52),(t55)-[:COLLEAGUE]->(t53),(t55)-[:COLLEAGUE]->(t54),(t55)-[:COLLEAGUE]->(t56),(t55)-[:COLLEAGUE]->(t57),(t55)-[:COLLEAGUE]->(t58),(t55)-[:COLLEAGUE]->(t59),(t55)-[:COLLEAGUE]->(t60),(t55)-[:COLLEAGUE]->(t61),(t55)-[:COLLEAGUE]->(t62),(t55)-[:COLLEAGUE]->(t63),(t55)-[:COLLEAGUE]->(t64),(t55)-[:COLLEAGUE]->(t65),(t55)-[:COLLEAGUE]->(t66),(t55)-[:COLLEAGUE]->(t67),(t55)-[:COLLEAGUE]->(t68),(t55)-[:COLLEAGUE]->(t69),(t55)-[:COLLEAGUE]->(t70),(t56)-[:COLLEAGUE]->(t47),(t56)-[:COLLEAGUE]->(t48),(t56)-[:COLLEAGUE]->(t49),(t56)-[:COLLEAGUE]->(t50),(t56)-[:COLLEAGUE]->(t51),(t56)-[:COLLEAGUE]->(t52),(t56)-[:COLLEAGUE]->(t53),(t56)-[:COLLEAGUE]->(t54),(t56)-[:COLLEAGUE]->(t55),(t56)-[:COLLEAGUE]->(t57),(t56)-[:COLLEAGUE]->(t58),(t56)-[:COLLEAGUE]->(t59),(t56)-[:COLLEAGUE]->(t60),(t56)-[:COLLEAGUE]->(t61),(t56)-[:COLLEAGUE]->(t62),(t56)-[:COLLEAGUE]->(t63),(t56)-[:COLLEAGUE]->(t64),(t56)-[:COLLEAGUE]->(t65),(t56)-[:COLLEAGUE]->(t66),(t56)-[:COLLEAGUE]->(t67),(t56)-[:COLLEAGUE]->(t68),(t56)-[:COLLEAGUE]->(t69),(t56)-[:COLLEAGUE]->(t70),(t57)-[:COLLEAGUE]->(t47),(t57)-[:COLLEAGUE]->(t48),(t57)-[:COLLEAGUE]->(t49),(t57)-[:COLLEAGUE]->(t50),(t57)-[:COLLEAGUE]->(t51),(t57)-[:COLLEAGUE]->(t52),(t57)-[:COLLEAGUE]->(t53),(t57)-[:COLLEAGUE]->(t54),(t57)-[:COLLEAGUE]->(t55),(t57)-[:COLLEAGUE]->(t56),(t57)-[:COLLEAGUE]->(t58),(t57)-[:COLLEAGUE]->(t59),(t57)-[:COLLEAGUE]->(t60),(t57)-[:COLLEAGUE]->(t61),(t57)-[:COLLEAGUE]->(t62),(t57)-[:COLLEAGUE]->(t63),(t57)-[:COLLEAGUE]->(t64),(t57)-[:COLLEAGUE]->(t65),(t57)-[:COLLEAGUE]->(t66),(t57)-[:COLLEAGUE]->(t67),(t57)-[:COLLEAGUE]->(t68),(t57)-[:COLLEAGUE]->(t69),(t57)-[:COLLEAGUE]->(t70),(t58)-[:COLLEAGUE]->(t47),(t58)-[:COLLEAGUE]->(t48),(t58)-[:COLLEAGUE]->(t49),(t58)-[:COLLEAGUE]->(t50),(t58)-[:COLLEAGUE]->(t51),(t58)-[:COLLEAGUE]->(t52),(t58)-[:COLLEAGUE]->(t53),(t58)-[:COLLEAGUE]->(t54),(t58)-[:COLLEAGUE]->(t55),(t58)-[:COLLEAGUE]->(t56),(t58)-[:COLLEAGUE]->(t57),(t58)-[:COLLEAGUE]->(t59),(t58)-[:COLLEAGUE]->(t60),(t58)-[:COLLEAGUE]->(t61),(t58)-[:COLLEAGUE]->(t62),(t58)-[:COLLEAGUE]->(t63),(t58)-[:COLLEAGUE]->(t64),(t58)-[:COLLEAGUE]->(t65),(t58)-[:COLLEAGUE]->(t66),(t58)-[:COLLEAGUE]->(t67),(t58)-[:COLLEAGUE]->(t68),(t58)-[:COLLEAGUE]->(t69),(t58)-[:COLLEAGUE]->(t70),(t59)-[:COLLEAGUE]->(t47),(t59)-[:COLLEAGUE]->(t48),(t59)-[:COLLEAGUE]->(t49),(t59)-[:COLLEAGUE]->(t50),(t59)-[:COLLEAGUE]->(t51),(t59)-[:COLLEAGUE]->(t52),(t59)-[:COLLEAGUE]->(t53),(t59)-[:COLLEAGUE]->(t54),(t59)-[:COLLEAGUE]->(t55),(t59)-[:COLLEAGUE]->(t56),(t59)-[:COLLEAGUE]->(t57),(t59)-[:COLLEAGUE]->(t58),(t59)-[:COLLEAGUE]->(t60),(t59)-[:COLLEAGUE]->(t61),(t59)-[:COLLEAGUE]->(t62),(t59)-[:COLLEAGUE]->(t63),(t59)-[:COLLEAGUE]->(t64),(t59)-[:COLLEAGUE]->(t65),(t59)-[:COLLEAGUE]->(t66),(t59)-[:COLLEAGUE]->(t67),(t59)-[:COLLEAGUE]->(t68),(t59)-[:COLLEAGUE]->(t69),(t59)-[:COLLEAGUE]->(t70),(t60)-[:COLLEAGUE]->(t47),(t60)-[:COLLEAGUE]->(t48),(t60)-[:COLLEAGUE]->(t49),(t60)-[:COLLEAGUE]->(t50),(t60)-[:COLLEAGUE]->(t51),(t60)-[:COLLEAGUE]->(t52),(t60)-[:COLLEAGUE]->(t53),(t60)-[:COLLEAGUE]->(t54),(t60)-[:COLLEAGUE]->(t55),(t60)-[:COLLEAGUE]->(t56),(t60)-[:COLLEAGUE]->(t57),(t60)-[:COLLEAGUE]->(t58),(t60)-[:COLLEAGUE]->(t59),(t60)-[:COLLEAGUE]->(t61),(t60)-[:COLLEAGUE]->(t62),(t60)-[:COLLEAGUE]->(t63),(t60)-[:COLLEAGUE]->(t64),(t60)-[:COLLEAGUE]->(t65),(t60)-[:COLLEAGUE]->(t66),(t60)-[:COLLEAGUE]->(t67),(t60)-[:COLLEAGUE]->(t68),(t60)-[:COLLEAGUE]->(t69),(t60)-[:COLLEAGUE]->(t70),(t61)-[:COLLEAGUE]->(t47),(t61)-[:COLLEAGUE]->(t48),(t61)-[:COLLEAGUE]->(t49),(t61)-[:COLLEAGUE]->(t50),(t61)-[:COLLEAGUE]->(t51),(t61)-[:COLLEAGUE]->(t52),(t61)-[:COLLEAGUE]->(t53),(t61)-[:COLLEAGUE]->(t54),(t61)-[:COLLEAGUE]->(t55),(t61)-[:COLLEAGUE]->(t56),(t61)-[:COLLEAGUE]->(t57),(t61)-[:COLLEAGUE]->(t58),(t61)-[:COLLEAGUE]->(t59),(t61)-[:COLLEAGUE]->(t60),(t61)-[:COLLEAGUE]->(t62),(t61)-[:COLLEAGUE]->(t63),(t61)-[:COLLEAGUE]->(t64),(t61)-[:COLLEAGUE]->(t65),(t61)-[:COLLEAGUE]->(t66),(t61)-[:COLLEAGUE]->(t67),(t61)-[:COLLEAGUE]->(t68),(t61)-[:COLLEAGUE]->(t69),(t61)-[:COLLEAGUE]->(t70),(t62)-[:COLLEAGUE]->(t47),(t62)-[:COLLEAGUE]->(t48),(t62)-[:COLLEAGUE]->(t49),(t62)-[:COLLEAGUE]->(t50),(t62)-[:COLLEAGUE]->(t51),(t62)-[:COLLEAGUE]->(t52),(t62)-[:COLLEAGUE]->(t53),(t62)-[:COLLEAGUE]->(t54),(t62)-[:COLLEAGUE]->(t55),(t62)-[:COLLEAGUE]->(t56),(t62)-[:COLLEAGUE]->(t57),(t62)-[:COLLEAGUE]->(t58),(t62)-[:COLLEAGUE]->(t59),(t62)-[:COLLEAGUE]->(t60),(t62)-[:COLLEAGUE]->(t61),(t62)-[:COLLEAGUE]->(t63),(t62)-[:COLLEAGUE]->(t64),(t62)-[:COLLEAGUE]->(t65),(t62)-[:COLLEAGUE]->(t66),(t62)-[:COLLEAGUE]->(t67),(t62)-[:COLLEAGUE]->(t68),(t62)-[:COLLEAGUE]->(t69),(t62)-[:COLLEAGUE]->(t70),(t63)-[:COLLEAGUE]->(t47),(t63)-[:COLLEAGUE]->(t48),(t63)-[:COLLEAGUE]->(t49),(t63)-[:COLLEAGUE]->(t50),(t63)-[:COLLEAGUE]->(t51),(t63)-[:COLLEAGUE]->(t52),(t63)-[:COLLEAGUE]->(t53),(t63)-[:COLLEAGUE]->(t54),(t63)-[:COLLEAGUE]->(t55),(t63)-[:COLLEAGUE]->(t56),(t63)-[:COLLEAGUE]->(t57),(t63)-[:COLLEAGUE]->(t58),(t63)-[:COLLEAGUE]->(t59),(t63)-[:COLLEAGUE]->(t60),(t63)-[:COLLEAGUE]->(t61),(t63)-[:COLLEAGUE]->(t62),(t63)-[:COLLEAGUE]->(t64),(t63)-[:COLLEAGUE]->(t65),(t63)-[:COLLEAGUE]->(t66),(t63)-[:COLLEAGUE]->(t67),(t63)-[:COLLEAGUE]->(t68),(t63)-[:COLLEAGUE]->(t69),(t63)-[:COLLEAGUE]->(t70),(t64)-[:COLLEAGUE]->(t47),(t64)-[:COLLEAGUE]->(t48),(t64)-[:COLLEAGUE]->(t49),(t64)-[:COLLEAGUE]->(t50),(t64)-[:COLLEAGUE]->(t51),(t64)-[:COLLEAGUE]->(t52),(t64)-[:COLLEAGUE]->(t53),(t64)-[:COLLEAGUE]->(t54),(t64)-[:COLLEAGUE]->(t55),(t64)-[:COLLEAGUE]->(t56),(t64)-[:COLLEAGUE]->(t57),(t64)-[:COLLEAGUE]->(t58),(t64)-[:COLLEAGUE]->(t59),(t64)-[:COLLEAGUE]->(t60),(t64)-[:COLLEAGUE]->(t61),(t64)-[:COLLEAGUE]->(t62),(t64)-[:COLLEAGUE]->(t63),(t64)-[:COLLEAGUE]->(t65),(t64)-[:COLLEAGUE]->(t66),(t64)-[:COLLEAGUE]->(t67),(t64)-[:COLLEAGUE]->(t68),(t64)-[:COLLEAGUE]->(t69),(t64)-[:COLLEAGUE]->(t70),(t65)-[:COLLEAGUE]->(t47),(t65)-[:COLLEAGUE]->(t48),(t65)-[:COLLEAGUE]->(t49),(t65)-[:COLLEAGUE]->(t50),(t65)-[:COLLEAGUE]->(t51),(t65)-[:COLLEAGUE]->(t52),(t65)-[:COLLEAGUE]->(t53),(t65)-[:COLLEAGUE]->(t54),(t65)-[:COLLEAGUE]->(t55),(t65)-[:COLLEAGUE]->(t56),(t65)-[:COLLEAGUE]->(t57),(t65)-[:COLLEAGUE]->(t58),(t65)-[:COLLEAGUE]->(t59),(t65)-[:COLLEAGUE]->(t60),(t65)-[:COLLEAGUE]->(t61),(t65)-[:COLLEAGUE]->(t62),(t65)-[:COLLEAGUE]->(t63),(t65)-[:COLLEAGUE]->(t64),(t65)-[:COLLEAGUE]->(t66),(t65)-[:COLLEAGUE]->(t67),(t65)-[:COLLEAGUE]->(t68),(t65)-[:COLLEAGUE]->(t69),(t65)-[:COLLEAGUE]->(t70),(t66)-[:COLLEAGUE]->(t47),(t66)-[:COLLEAGUE]->(t48),(t66)-[:COLLEAGUE]->(t49),(t66)-[:COLLEAGUE]->(t50),(t66)-[:COLLEAGUE]->(t51),(t66)-[:COLLEAGUE]->(t52),(t66)-[:COLLEAGUE]->(t53),(t66)-[:COLLEAGUE]->(t54),(t66)-[:COLLEAGUE]->(t55),(t66)-[:COLLEAGUE]->(t56),(t66)-[:COLLEAGUE]->(t57),(t66)-[:COLLEAGUE]->(t58),(t66)-[:COLLEAGUE]->(t59),(t66)-[:COLLEAGUE]->(t60),(t66)-[:COLLEAGUE]->(t61),(t66)-[:COLLEAGUE]->(t62),(t66)-[:COLLEAGUE]->(t63),(t66)-[:COLLEAGUE]->(t64),(t66)-[:COLLEAGUE]->(t65),(t66)-[:COLLEAGUE]->(t67),(t66)-[:COLLEAGUE]->(t68),(t66)-[:COLLEAGUE]->(t69),(t66)-[:COLLEAGUE]->(t70),(t67)-[:COLLEAGUE]->(t47),(t67)-[:COLLEAGUE]->(t48),(t67)-[:COLLEAGUE]->(t49),(t67)-[:COLLEAGUE]->(t50),(t67)-[:COLLEAGUE]->(t51),(t67)-[:COLLEAGUE]->(t52),(t67)-[:COLLEAGUE]->(t53),(t67)-[:COLLEAGUE]->(t54),(t67)-[:COLLEAGUE]->(t55),(t67)-[:COLLEAGUE]->(t56),(t67)-[:COLLEAGUE]->(t57),(t67)-[:COLLEAGUE]->(t58),(t67)-[:COLLEAGUE]->(t59),(t67)-[:COLLEAGUE]->(t60),(t67)-[:COLLEAGUE]->(t61),(t67)-[:COLLEAGUE]->(t62),(t67)-[:COLLEAGUE]->(t63),(t67)-[:COLLEAGUE]->(t64),(t67)-[:COLLEAGUE]->(t65),(t67)-[:COLLEAGUE]->(t66),(t67)-[:COLLEAGUE]->(t68),(t67)-[:COLLEAGUE]->(t69),(t67)-[:COLLEAGUE]->(t70),(t68)-[:COLLEAGUE]->(t47),(t68)-[:COLLEAGUE]->(t48),(t68)-[:COLLEAGUE]->(t49),(t68)-[:COLLEAGUE]->(t50),(t68)-[:COLLEAGUE]->(t51),(t68)-[:COLLEAGUE]->(t52),(t68)-[:COLLEAGUE]->(t53),(t68)-[:COLLEAGUE]->(t54),(t68)-[:COLLEAGUE]->(t55),(t68)-[:COLLEAGUE]->(t56),(t68)-[:COLLEAGUE]->(t57),(t68)-[:COLLEAGUE]->(t58),(t68)-[:COLLEAGUE]->(t59),(t68)-[:COLLEAGUE]->(t60),(t68)-[:COLLEAGUE]->(t61),(t68)-[:COLLEAGUE]->(t62),(t68)-[:COLLEAGUE]->(t63),(t68)-[:COLLEAGUE]->(t64),(t68)-[:COLLEAGUE]->(t65),(t68)-[:COLLEAGUE]->(t66),(t68)-[:COLLEAGUE]->(t67),(t68)-[:COLLEAGUE]->(t69),(t68)-[:COLLEAGUE]->(t70),(t69)-[:COLLEAGUE]->(t47),(t69)-[:COLLEAGUE]->(t48),(t69)-[:COLLEAGUE]->(t49),(t69)-[:COLLEAGUE]->(t50),(t69)-[:COLLEAGUE]->(t51),(t69)-[:COLLEAGUE]->(t52),(t69)-[:COLLEAGUE]->(t53),(t69)-[:COLLEAGUE]->(t54),(t69)-[:COLLEAGUE]->(t55),(t69)-[:COLLEAGUE]->(t56),(t69)-[:COLLEAGUE]->(t57),(t69)-[:COLLEAGUE]->(t58),(t69)-[:COLLEAGUE]->(t59),(t69)-[:COLLEAGUE]->(t60),(t69)-[:COLLEAGUE]->(t61),(t69)-[:COLLEAGUE]->(t62),(t69)-[:COLLEAGUE]->(t63),(t69)-[:COLLEAGUE]->(t64),(t69)-[:COLLEAGUE]->(t65),(t69)-[:COLLEAGUE]->(t66),(t69)-[:COLLEAGUE]->(t67),(t69)-[:COLLEAGUE]->(t68),(t69)-[:COLLEAGUE]->(t70),(t70)-[:COLLEAGUE]->(t47),(t70)-[:COLLEAGUE]->(t48),(t70)-[:COLLEAGUE]->(t49),(t70)-[:COLLEAGUE]->(t50),(t70)-[:COLLEAGUE]->(t51),(t70)-[:COLLEAGUE]->(t52),(t70)-[:COLLEAGUE]->(t53),(t70)-[:COLLEAGUE]->(t54),(t70)-[:COLLEAGUE]->(t55),(t70)-[:COLLEAGUE]->(t56),(t70)-[:COLLEAGUE]->(t57),(t70)-[:COLLEAGUE]->(t58),(t70)-[:COLLEAGUE]->(t59),(t70)-[:COLLEAGUE]->(t60),(t70)-[:COLLEAGUE]->(t61),(t70)-[:COLLEAGUE]->(t62),(t70)-[:COLLEAGUE]->(t63),(t70)-[:COLLEAGUE]->(t64),(t70)-[:COLLEAGUE]->(t65),(t70)-[:COLLEAGUE]->(t66),(t70)-[:COLLEAGUE]->(t67),(t70)-[:COLLEAGUE]->(t68),(t70)-[:COLLEAGUE]->(t69),(t71)-[:COLLEAGUE]->(t72),(t71)-[:COLLEAGUE]->(t73),(t71)-[:COLLEAGUE]->(t74),(t71)-[:COLLEAGUE]->(t75),(t71)-[:COLLEAGUE]->(t76),(t71)-[:COLLEAGUE]->(t77),(t71)-[:COLLEAGUE]->(t78),(t71)-[:COLLEAGUE]->(t79),(t71)-[:COLLEAGUE]->(t80),(t71)-[:COLLEAGUE]->(t81),(t71)-[:COLLEAGUE]->(t82),(t71)-[:COLLEAGUE]->(t83),(t71)-[:COLLEAGUE]->(t84),(t71)-[:COLLEAGUE]->(t85),(t71)-[:COLLEAGUE]->(t86),(t71)-[:COLLEAGUE]->(t87),(t71)-[:COLLEAGUE]->(t88),(t71)-[:COLLEAGUE]->(t89),(t71)-[:COLLEAGUE]->(t90),(t71)-[:COLLEAGUE]->(t91),(t71)-[:COLLEAGUE]->(t92),(t71)-[:COLLEAGUE]->(t93),(t71)-[:COLLEAGUE]->(t94),(t71)-[:COLLEAGUE]->(t95),(t72)-[:COLLEAGUE]->(t71),(t72)-[:COLLEAGUE]->(t73),(t72)-[:COLLEAGUE]->(t74),(t72)-[:COLLEAGUE]->(t75),(t72)-[:COLLEAGUE]->(t76),(t72)-[:COLLEAGUE]->(t77),(t72)-[:COLLEAGUE]->(t78),(t72)-[:COLLEAGUE]->(t79),(t72)-[:COLLEAGUE]->(t80),(t72)-[:COLLEAGUE]->(t81),(t72)-[:COLLEAGUE]->(t82),(t72)-[:COLLEAGUE]->(t83),(t72)-[:COLLEAGUE]->(t84),(t72)-[:COLLEAGUE]->(t85),(t72)-[:COLLEAGUE]->(t86),(t72)-[:COLLEAGUE]->(t87),(t72)-[:COLLEAGUE]->(t88),(t72)-[:COLLEAGUE]->(t89),(t72)-[:COLLEAGUE]->(t90),(t72)-[:COLLEAGUE]->(t91),(t72)-[:COLLEAGUE]->(t92),(t72)-[:COLLEAGUE]->(t93),(t72)-[:COLLEAGUE]->(t94),(t72)-[:COLLEAGUE]->(t95),(t73)-[:COLLEAGUE]->(t71),(t73)-[:COLLEAGUE]->(t72),(t73)-[:COLLEAGUE]->(t74),(t73)-[:COLLEAGUE]->(t75),(t73)-[:COLLEAGUE]->(t76),(t73)-[:COLLEAGUE]->(t77),(t73)-[:COLLEAGUE]->(t78),(t73)-[:COLLEAGUE]->(t79),(t73)-[:COLLEAGUE]->(t80),(t73)-[:COLLEAGUE]->(t81),(t73)-[:COLLEAGUE]->(t82),(t73)-[:COLLEAGUE]->(t83),(t73)-[:COLLEAGUE]->(t84),(t73)-[:COLLEAGUE]->(t85),(t73)-[:COLLEAGUE]->(t86),(t73)-[:COLLEAGUE]->(t87),(t73)-[:COLLEAGUE]->(t88),(t73)-[:COLLEAGUE]->(t89),(t73)-[:COLLEAGUE]->(t90),(t73)-[:COLLEAGUE]->(t91),(t73)-[:COLLEAGUE]->(t92),(t73)-[:COLLEAGUE]->(t93),(t73)-[:COLLEAGUE]->(t94),(t73)-[:COLLEAGUE]->(t95),(t74)-[:COLLEAGUE]->(t71),(t74)-[:COLLEAGUE]->(t72),(t74)-[:COLLEAGUE]->(t73),(t74)-[:COLLEAGUE]->(t75),(t74)-[:COLLEAGUE]->(t76),(t74)-[:COLLEAGUE]->(t77),(t74)-[:COLLEAGUE]->(t78),(t74)-[:COLLEAGUE]->(t79),(t74)-[:COLLEAGUE]->(t80),(t74)-[:COLLEAGUE]->(t81),(t74)-[:COLLEAGUE]->(t82),(t74)-[:COLLEAGUE]->(t83),(t74)-[:COLLEAGUE]->(t84),(t74)-[:COLLEAGUE]->(t85),(t74)-[:COLLEAGUE]->(t86),(t74)-[:COLLEAGUE]->(t87),(t74)-[:COLLEAGUE]->(t88),(t74)-[:COLLEAGUE]->(t89),(t74)-[:COLLEAGUE]->(t90),(t74)-[:COLLEAGUE]->(t91),(t74)-[:COLLEAGUE]->(t92),(t74)-[:COLLEAGUE]->(t93),(t74)-[:COLLEAGUE]->(t94),(t74)-[:COLLEAGUE]->(t95),(t75)-[:COLLEAGUE]->(t71),(t75)-[:COLLEAGUE]->(t72),(t75)-[:COLLEAGUE]->(t73),(t75)-[:COLLEAGUE]->(t74),(t75)-[:COLLEAGUE]->(t76),(t75)-[:COLLEAGUE]->(t77),(t75)-[:COLLEAGUE]->(t78),(t75)-[:COLLEAGUE]->(t79),(t75)-[:COLLEAGUE]->(t80),(t75)-[:COLLEAGUE]->(t81),(t75)-[:COLLEAGUE]->(t82),(t75)-[:COLLEAGUE]->(t83),(t75)-[:COLLEAGUE]->(t84),(t75)-[:COLLEAGUE]->(t85),(t75)-[:COLLEAGUE]->(t86),(t75)-[:COLLEAGUE]->(t87),(t75)-[:COLLEAGUE]->(t88),(t75)-[:COLLEAGUE]->(t89),(t75)-[:COLLEAGUE]->(t90),(t75)-[:COLLEAGUE]->(t91),(t75)-[:COLLEAGUE]->(t92),(t75)-[:COLLEAGUE]->(t93),(t75)-[:COLLEAGUE]->(t94),(t75)-[:COLLEAGUE]->(t95),(t76)-[:COLLEAGUE]->(t71),(t76)-[:COLLEAGUE]->(t72),(t76)-[:COLLEAGUE]->(t73),(t76)-[:COLLEAGUE]->(t74),(t76)-[:COLLEAGUE]->(t75),(t76)-[:COLLEAGUE]->(t77),(t76)-[:COLLEAGUE]->(t78),(t76)-[:COLLEAGUE]->(t79),(t76)-[:COLLEAGUE]->(t80),(t76)-[:COLLEAGUE]->(t81),(t76)-[:COLLEAGUE]->(t82),(t76)-[:COLLEAGUE]->(t83),(t76)-[:COLLEAGUE]->(t84),(t76)-[:COLLEAGUE]->(t85),(t76)-[:COLLEAGUE]->(t86),(t76)-[:COLLEAGUE]->(t87),(t76)-[:COLLEAGUE]->(t88),(t76)-[:COLLEAGUE]->(t89),(t76)-[:COLLEAGUE]->(t90),(t76)-[:COLLEAGUE]->(t91),(t76)-[:COLLEAGUE]->(t92),(t76)-[:COLLEAGUE]->(t93),(t76)-[:COLLEAGUE]->(t94),(t76)-[:COLLEAGUE]->(t95),(t77)-[:COLLEAGUE]->(t71),(t77)-[:COLLEAGUE]->(t72),(t77)-[:COLLEAGUE]->(t73),(t77)-[:COLLEAGUE]->(t74),(t77)-[:COLLEAGUE]->(t75),(t77)-[:COLLEAGUE]->(t76),(t77)-[:COLLEAGUE]->(t78),(t77)-[:COLLEAGUE]->(t79),(t77)-[:COLLEAGUE]->(t80),(t77)-[:COLLEAGUE]->(t81),(t77)-[:COLLEAGUE]->(t82),(t77)-[:COLLEAGUE]->(t83),(t77)-[:COLLEAGUE]->(t84),(t77)-[:COLLEAGUE]->(t85),(t77)-[:COLLEAGUE]->(t86),(t77)-[:COLLEAGUE]->(t87),(t77)-[:COLLEAGUE]->(t88),(t77)-[:COLLEAGUE]->(t89),(t77)-[:COLLEAGUE]->(t90),(t77)-[:COLLEAGUE]->(t91),(t77)-[:COLLEAGUE]->(t92),(t77)-[:COLLEAGUE]->(t93),(t77)-[:COLLEAGUE]->(t94),(t77)-[:COLLEAGUE]->(t95),(t78)-[:COLLEAGUE]->(t71),(t78)-[:COLLEAGUE]->(t72),(t78)-[:COLLEAGUE]->(t73),(t78)-[:COLLEAGUE]->(t74),(t78)-[:COLLEAGUE]->(t75),(t78)-[:COLLEAGUE]->(t76),(t78)-[:COLLEAGUE]->(t77),(t78)-[:COLLEAGUE]->(t79),(t78)-[:COLLEAGUE]->(t80),(t78)-[:COLLEAGUE]->(t81),(t78)-[:COLLEAGUE]->(t82),(t78)-[:COLLEAGUE]->(t83),(t78)-[:COLLEAGUE]->(t84),(t78)-[:COLLEAGUE]->(t85),(t78)-[:COLLEAGUE]->(t86),(t78)-[:COLLEAGUE]->(t87),(t78)-[:COLLEAGUE]->(t88),(t78)-[:COLLEAGUE]->(t89),(t78)-[:COLLEAGUE]->(t90),(t78)-[:COLLEAGUE]->(t91),(t78)-[:COLLEAGUE]->(t92),(t78)-[:COLLEAGUE]->(t93),(t78)-[:COLLEAGUE]->(t94),(t78)-[:COLLEAGUE]->(t95),(t79)-[:COLLEAGUE]->(t71),(t79)-[:COLLEAGUE]->(t72),(t79)-[:COLLEAGUE]->(t73),(t79)-[:COLLEAGUE]->(t74),(t79)-[:COLLEAGUE]->(t75),(t79)-[:COLLEAGUE]->(t76),(t79)-[:COLLEAGUE]->(t77),(t79)-[:COLLEAGUE]->(t78),(t79)-[:COLLEAGUE]->(t80),(t79)-[:COLLEAGUE]->(t81),(t79)-[:COLLEAGUE]->(t82),(t79)-[:COLLEAGUE]->(t83),(t79)-[:COLLEAGUE]->(t84),(t79)-[:COLLEAGUE]->(t85),(t79)-[:COLLEAGUE]->(t86),(t79)-[:COLLEAGUE]->(t87),(t79)-[:COLLEAGUE]->(t88),(t79)-[:COLLEAGUE]->(t89),(t79)-[:COLLEAGUE]->(t90),(t79)-[:COLLEAGUE]->(t91),(t79)-[:COLLEAGUE]->(t92),(t79)-[:COLLEAGUE]->(t93),(t79)-[:COLLEAGUE]->(t94),(t79)-[:COLLEAGUE]->(t95),(t80)-[:COLLEAGUE]->(t71),(t80)-[:COLLEAGUE]->(t72),(t80)-[:COLLEAGUE]->(t73),(t80)-[:COLLEAGUE]->(t74),(t80)-[:COLLEAGUE]->(t75),(t80)-[:COLLEAGUE]->(t76),(t80)-[:COLLEAGUE]->(t77),(t80)-[:COLLEAGUE]->(t78),(t80)-[:COLLEAGUE]->(t79),(t80)-[:COLLEAGUE]->(t81),(t80)-[:COLLEAGUE]->(t82),(t80)-[:COLLEAGUE]->(t83),(t80)-[:COLLEAGUE]->(t84),(t80)-[:COLLEAGUE]->(t85),(t80)-[:COLLEAGUE]->(t86),(t80)-[:COLLEAGUE]->(t87),(t80)-[:COLLEAGUE]->(t88),(t80)-[:COLLEAGUE]->(t89),(t80)-[:COLLEAGUE]->(t90),(t80)-[:COLLEAGUE]->(t91),(t80)-[:COLLEAGUE]->(t92),(t80)-[:COLLEAGUE]->(t93),(t80)-[:COLLEAGUE]->(t94),(t80)-[:COLLEAGUE]->(t95),(t81)-[:COLLEAGUE]->(t71),(t81)-[:COLLEAGUE]->(t72),(t81)-[:COLLEAGUE]->(t73),(t81)-[:COLLEAGUE]->(t74),(t81)-[:COLLEAGUE]->(t75),(t81)-[:COLLEAGUE]->(t76),(t81)-[:COLLEAGUE]->(t77),(t81)-[:COLLEAGUE]->(t78),(t81)-[:COLLEAGUE]->(t79),(t81)-[:COLLEAGUE]->(t80),(t81)-[:COLLEAGUE]->(t82),(t81)-[:COLLEAGUE]->(t83),(t81)-[:COLLEAGUE]->(t84),(t81)-[:COLLEAGUE]->(t85),(t81)-[:COLLEAGUE]->(t86),(t81)-[:COLLEAGUE]->(t87),(t81)-[:COLLEAGUE]->(t88),(t81)-[:COLLEAGUE]->(t89),(t81)-[:COLLEAGUE]->(t90),(t81)-[:COLLEAGUE]->(t91),(t81)-[:COLLEAGUE]->(t92),(t81)-[:COLLEAGUE]->(t93),(t81)-[:COLLEAGUE]->(t94),(t81)-[:COLLEAGUE]->(t95),(t82)-[:COLLEAGUE]->(t71),(t82)-[:COLLEAGUE]->(t72),(t82)-[:COLLEAGUE]->(t73),(t82)-[:COLLEAGUE]->(t74),(t82)-[:COLLEAGUE]->(t75),(t82)-[:COLLEAGUE]->(t76),(t82)-[:COLLEAGUE]->(t77),(t82)-[:COLLEAGUE]->(t78),(t82)-[:COLLEAGUE]->(t79),(t82)-[:COLLEAGUE]->(t80),(t82)-[:COLLEAGUE]->(t81),(t82)-[:COLLEAGUE]->(t83),(t82)-[:COLLEAGUE]->(t84),(t82)-[:COLLEAGUE]->(t85),(t82)-[:COLLEAGUE]->(t86),(t82)-[:COLLEAGUE]->(t87),(t82)-[:COLLEAGUE]->(t88),(t82)-[:COLLEAGUE]->(t89),(t82)-[:COLLEAGUE]->(t90),(t82)-[:COLLEAGUE]->(t91),(t82)-[:COLLEAGUE]->(t92),(t82)-[:COLLEAGUE]->(t93),(t82)-[:COLLEAGUE]->(t94),(t82)-[:COLLEAGUE]->(t95),(t83)-[:COLLEAGUE]->(t71),(t83)-[:COLLEAGUE]->(t72),(t83)-[:COLLEAGUE]->(t73),(t83)-[:COLLEAGUE]->(t74),(t83)-[:COLLEAGUE]->(t75),(t83)-[:COLLEAGUE]->(t76),(t83)-[:COLLEAGUE]->(t77),(t83)-[:COLLEAGUE]->(t78),(t83)-[:COLLEAGUE]->(t79),(t83)-[:COLLEAGUE]->(t80),(t83)-[:COLLEAGUE]->(t81),(t83)-[:COLLEAGUE]->(t82),(t83)-[:COLLEAGUE]->(t84),(t83)-[:COLLEAGUE]->(t85),(t83)-[:COLLEAGUE]->(t86),(t83)-[:COLLEAGUE]->(t87),(t83)-[:COLLEAGUE]->(t88),(t83)-[:COLLEAGUE]->(t89),(t83)-[:COLLEAGUE]->(t90),(t83)-[:COLLEAGUE]->(t91),(t83)-[:COLLEAGUE]->(t92),(t83)-[:COLLEAGUE]->(t93),(t83)-[:COLLEAGUE]->(t94),(t83)-[:COLLEAGUE]->(t95),(t84)-[:COLLEAGUE]->(t71),(t84)-[:COLLEAGUE]->(t72),(t84)-[:COLLEAGUE]->(t73),(t84)-[:COLLEAGUE]->(t74),(t84)-[:COLLEAGUE]->(t75),(t84)-[:COLLEAGUE]->(t76),(t84)-[:COLLEAGUE]->(t77),(t84)-[:COLLEAGUE]->(t78),(t84)-[:COLLEAGUE]->(t79),(t84)-[:COLLEAGUE]->(t80),(t84)-[:COLLEAGUE]->(t81),(t84)-[:COLLEAGUE]->(t82),(t84)-[:COLLEAGUE]->(t83),(t84)-[:COLLEAGUE]->(t85),(t84)-[:COLLEAGUE]->(t86),(t84)-[:COLLEAGUE]->(t87),(t84)-[:COLLEAGUE]->(t88),(t84)-[:COLLEAGUE]->(t89),(t84)-[:COLLEAGUE]->(t90),(t84)-[:COLLEAGUE]->(t91),(t84)-[:COLLEAGUE]->(t92),(t84)-[:COLLEAGUE]->(t93),(t84)-[:COLLEAGUE]->(t94),(t84)-[:COLLEAGUE]->(t95),(t85)-[:COLLEAGUE]->(t71),(t85)-[:COLLEAGUE]->(t72),(t85)-[:COLLEAGUE]->(t73),(t85)-[:COLLEAGUE]->(t74),(t85)-[:COLLEAGUE]->(t75),(t85)-[:COLLEAGUE]->(t76),(t85)-[:COLLEAGUE]->(t77),(t85)-[:COLLEAGUE]->(t78),(t85)-[:COLLEAGUE]->(t79),(t85)-[:COLLEAGUE]->(t80),(t85)-[:COLLEAGUE]->(t81),(t85)-[:COLLEAGUE]->(t82),(t85)-[:COLLEAGUE]->(t83),(t85)-[:COLLEAGUE]->(t84),(t85)-[:COLLEAGUE]->(t86),(t85)-[:COLLEAGUE]->(t87),(t85)-[:COLLEAGUE]->(t88),(t85)-[:COLLEAGUE]->(t89),(t85)-[:COLLEAGUE]->(t90),(t85)-[:COLLEAGUE]->(t91),(t85)-[:COLLEAGUE]->(t92),(t85)-[:COLLEAGUE]->(t93),(t85)-[:COLLEAGUE]->(t94),(t85)-[:COLLEAGUE]->(t95),(t86)-[:COLLEAGUE]->(t71),(t86)-[:COLLEAGUE]->(t72),(t86)-[:COLLEAGUE]->(t73),(t86)-[:COLLEAGUE]->(t74),(t86)-[:COLLEAGUE]->(t75),(t86)-[:COLLEAGUE]->(t76),(t86)-[:COLLEAGUE]->(t77),(t86)-[:COLLEAGUE]->(t78),(t86)-[:COLLEAGUE]->(t79),(t86)-[:COLLEAGUE]->(t80),(t86)-[:COLLEAGUE]->(t81),(t86)-[:COLLEAGUE]->(t82),(t86)-[:COLLEAGUE]->(t83),(t86)-[:COLLEAGUE]->(t84),(t86)-[:COLLEAGUE]->(t85),(t86)-[:COLLEAGUE]->(t87),(t86)-[:COLLEAGUE]->(t88),(t86)-[:COLLEAGUE]->(t89),(t86)-[:COLLEAGUE]->(t90),(t86)-[:COLLEAGUE]->(t91),(t86)-[:COLLEAGUE]->(t92),(t86)-[:COLLEAGUE]->(t93),(t86)-[:COLLEAGUE]->(t94),(t86)-[:COLLEAGUE]->(t95),(t87)-[:COLLEAGUE]->(t71),(t87)-[:COLLEAGUE]->(t72),(t87)-[:COLLEAGUE]->(t73),(t87)-[:COLLEAGUE]->(t74),(t87)-[:COLLEAGUE]->(t75),(t87)-[:COLLEAGUE]->(t76),(t87)-[:COLLEAGUE]->(t77),(t87)-[:COLLEAGUE]->(t78),(t87)-[:COLLEAGUE]->(t79),(t87)-[:COLLEAGUE]->(t80),(t87)-[:COLLEAGUE]->(t81),(t87)-[:COLLEAGUE]->(t82),(t87)-[:COLLEAGUE]->(t83),(t87)-[:COLLEAGUE]->(t84),(t87)-[:COLLEAGUE]->(t85),(t87)-[:COLLEAGUE]->(t86),(t87)-[:COLLEAGUE]->(t88),(t87)-[:COLLEAGUE]->(t89),(t87)-[:COLLEAGUE]->(t90),(t87)-[:COLLEAGUE]->(t91),(t87)-[:COLLEAGUE]->(t92),(t87)-[:COLLEAGUE]->(t93),(t87)-[:COLLEAGUE]->(t94),(t87)-[:COLLEAGUE]->(t95),(t88)-[:COLLEAGUE]->(t71),(t88)-[:COLLEAGUE]->(t72),(t88)-[:COLLEAGUE]->(t73),(t88)-[:COLLEAGUE]->(t74),(t88)-[:COLLEAGUE]->(t75),(t88)-[:COLLEAGUE]->(t76),(t88)-[:COLLEAGUE]->(t77),(t88)-[:COLLEAGUE]->(t78),(t88)-[:COLLEAGUE]->(t79),(t88)-[:COLLEAGUE]->(t80),(t88)-[:COLLEAGUE]->(t81),(t88)-[:COLLEAGUE]->(t82),(t88)-[:COLLEAGUE]->(t83),(t88)-[:COLLEAGUE]->(t84),(t88)-[:COLLEAGUE]->(t85),(t88)-[:COLLEAGUE]->(t86),(t88)-[:COLLEAGUE]->(t87),(t88)-[:COLLEAGUE]->(t89),(t88)-[:COLLEAGUE]->(t90),(t88)-[:COLLEAGUE]->(t91),(t88)-[:COLLEAGUE]->(t92),(t88)-[:COLLEAGUE]->(t93),(t88)-[:COLLEAGUE]->(t94),(t88)-[:COLLEAGUE]->(t95),(t89)-[:COLLEAGUE]->(t71),(t89)-[:COLLEAGUE]->(t72),(t89)-[:COLLEAGUE]->(t73),(t89)-[:COLLEAGUE]->(t74),(t89)-[:COLLEAGUE]->(t75),(t89)-[:COLLEAGUE]->(t76),(t89)-[:COLLEAGUE]->(t77),(t89)-[:COLLEAGUE]->(t78),(t89)-[:COLLEAGUE]->(t79),(t89)-[:COLLEAGUE]->(t80),(t89)-[:COLLEAGUE]->(t81),(t89)-[:COLLEAGUE]->(t82),(t89)-[:COLLEAGUE]->(t83),(t89)-[:COLLEAGUE]->(t84),(t89)-[:COLLEAGUE]->(t85),(t89)-[:COLLEAGUE]->(t86),(t89)-[:COLLEAGUE]->(t87),(t89)-[:COLLEAGUE]->(t88),(t89)-[:COLLEAGUE]->(t90),(t89)-[:COLLEAGUE]->(t91),(t89)-[:COLLEAGUE]->(t92),(t89)-[:COLLEAGUE]->(t93),(t89)-[:COLLEAGUE]->(t94),(t89)-[:COLLEAGUE]->(t95),(t90)-[:COLLEAGUE]->(t71),(t90)-[:COLLEAGUE]->(t72),(t90)-[:COLLEAGUE]->(t73),(t90)-[:COLLEAGUE]->(t74),(t90)-[:COLLEAGUE]->(t75),(t90)-[:COLLEAGUE]->(t76),(t90)-[:COLLEAGUE]->(t77),(t90)-[:COLLEAGUE]->(t78),(t90)-[:COLLEAGUE]->(t79),(t90)-[:COLLEAGUE]->(t80),(t90)-[:COLLEAGUE]->(t81),(t90)-[:COLLEAGUE]->(t82),(t90)-[:COLLEAGUE]->(t83),(t90)-[:COLLEAGUE]->(t84),(t90)-[:COLLEAGUE]->(t85),(t90)-[:COLLEAGUE]->(t86),(t90)-[:COLLEAGUE]->(t87),(t90)-[:COLLEAGUE]->(t88),(t90)-[:COLLEAGUE]->(t89),(t90)-[:COLLEAGUE]->(t91),(t90)-[:COLLEAGUE]->(t92),(t90)-[:COLLEAGUE]->(t93),(t90)-[:COLLEAGUE]->(t94),(t90)-[:COLLEAGUE]->(t95),(t91)-[:COLLEAGUE]->(t71),(t91)-[:COLLEAGUE]->(t72),(t91)-[:COLLEAGUE]->(t73),(t91)-[:COLLEAGUE]->(t74),(t91)-[:COLLEAGUE]->(t75),(t91)-[:COLLEAGUE]->(t76),(t91)-[:COLLEAGUE]->(t77),(t91)-[:COLLEAGUE]->(t78),(t91)-[:COLLEAGUE]->(t79),(t91)-[:COLLEAGUE]->(t80),(t91)-[:COLLEAGUE]->(t81),(t91)-[:COLLEAGUE]->(t82),(t91)-[:COLLEAGUE]->(t83),(t91)-[:COLLEAGUE]->(t84),(t91)-[:COLLEAGUE]->(t85),(t91)-[:COLLEAGUE]->(t86),(t91)-[:COLLEAGUE]->(t87),(t91)-[:COLLEAGUE]->(t88),(t91)-[:COLLEAGUE]->(t89),(t91)-[:COLLEAGUE]->(t90),(t91)-[:COLLEAGUE]->(t92),(t91)-[:COLLEAGUE]->(t93),(t91)-[:COLLEAGUE]->(t94),(t91)-[:COLLEAGUE]->(t95),(t92)-[:COLLEAGUE]->(t71),(t92)-[:COLLEAGUE]->(t72),(t92)-[:COLLEAGUE]->(t73),(t92)-[:COLLEAGUE]->(t74),(t92)-[:COLLEAGUE]->(t75),(t92)-[:COLLEAGUE]->(t76),(t92)-[:COLLEAGUE]->(t77),(t92)-[:COLLEAGUE]->(t78),(t92)-[:COLLEAGUE]->(t79),(t92)-[:COLLEAGUE]->(t80),(t92)-[:COLLEAGUE]->(t81),(t92)-[:COLLEAGUE]->(t82),(t92)-[:COLLEAGUE]->(t83),(t92)-[:COLLEAGUE]->(t84),(t92)-[:COLLEAGUE]->(t85),(t92)-[:COLLEAGUE]->(t86),(t92)-[:COLLEAGUE]->(t87),(t92)-[:COLLEAGUE]->(t88),(t92)-[:COLLEAGUE]->(t89),(t92)-[:COLLEAGUE]->(t90),(t92)-[:COLLEAGUE]->(t91),(t92)-[:COLLEAGUE]->(t93),(t92)-[:COLLEAGUE]->(t94),(t92)-[:COLLEAGUE]->(t95),(t93)-[:COLLEAGUE]->(t71),(t93)-[:COLLEAGUE]->(t72),(t93)-[:COLLEAGUE]->(t73),(t93)-[:COLLEAGUE]->(t74),(t93)-[:COLLEAGUE]->(t75),(t93)-[:COLLEAGUE]->(t76),(t93)-[:COLLEAGUE]->(t77),(t93)-[:COLLEAGUE]->(t78),(t93)-[:COLLEAGUE]->(t79),(t93)-[:COLLEAGUE]->(t80),(t93)-[:COLLEAGUE]->(t81),(t93)-[:COLLEAGUE]->(t82),(t93)-[:COLLEAGUE]->(t83),(t93)-[:COLLEAGUE]->(t84),(t93)-[:COLLEAGUE]->(t85),(t93)-[:COLLEAGUE]->(t86),(t93)-[:COLLEAGUE]->(t87),(t93)-[:COLLEAGUE]->(t88),(t93)-[:COLLEAGUE]->(t89),(t93)-[:COLLEAGUE]->(t90),(t93)-[:COLLEAGUE]->(t91),(t93)-[:COLLEAGUE]->(t92),(t93)-[:COLLEAGUE]->(t94),(t93)-[:COLLEAGUE]->(t95),(t94)-[:COLLEAGUE]->(t71),(t94)-[:COLLEAGUE]->(t72),(t94)-[:COLLEAGUE]->(t73),(t94)-[:COLLEAGUE]->(t74),(t94)-[:COLLEAGUE]->(t75),(t94)-[:COLLEAGUE]->(t76),(t94)-[:COLLEAGUE]->(t77),(t94)-[:COLLEAGUE]->(t78),(t94)-[:COLLEAGUE]->(t79),(t94)-[:COLLEAGUE]->(t80),(t94)-[:COLLEAGUE]->(t81),(t94)-[:COLLEAGUE]->(t82),(t94)-[:COLLEAGUE]->(t83),(t94)-[:COLLEAGUE]->(t84),(t94)-[:COLLEAGUE]->(t85),(t94)-[:COLLEAGUE]->(t86),(t94)-[:COLLEAGUE]->(t87),(t94)-[:COLLEAGUE]->(t88),(t94)-[:COLLEAGUE]->(t89),(t94)-[:COLLEAGUE]->(t90),(t94)-[:COLLEAGUE]->(t91),(t94)-[:COLLEAGUE]->(t92),(t94)-[:COLLEAGUE]->(t93),(t94)-[:COLLEAGUE]->(t95),(t95)-[:COLLEAGUE]->(t71),(t95)-[:COLLEAGUE]->(t72),(t95)-[:COLLEAGUE]->(t73),(t95)-[:COLLEAGUE]->(t74),(t95)-[:COLLEAGUE]->(t75),(t95)-[:COLLEAGUE]->(t76),(t95)-[:COLLEAGUE]->(t77),(t95)-[:COLLEAGUE]->(t78),(t95)-[:COLLEAGUE]->(t79),(t95)-[:COLLEAGUE]->(t80),(t95)-[:COLLEAGUE]->(t81),(t95)-[:COLLEAGUE]->(t82),(t95)-[:COLLEAGUE]->(t83),(t95)-[:COLLEAGUE]->(t84),(t95)-[:COLLEAGUE]->(t85),(t95)-[:COLLEAGUE]->(t86),(t95)-[:COLLEAGUE]->(t87),(t95)-[:COLLEAGUE]->(t88),(t95)-[:COLLEAGUE]->(t89),(t95)-[:COLLEAGUE]->(t90),(t95)-[:COLLEAGUE]->(t91),(t95)-[:COLLEAGUE]->(t92),(t95)-[:COLLEAGUE]->(t93),(t95)-[:COLLEAGUE]->(t94),(t96)-[:COLLEAGUE]->(t97),(t96)-[:COLLEAGUE]->(t98),(t96)-[:COLLEAGUE]->(t99),(t96)-[:COLLEAGUE]->(t100),(t96)-[:COLLEAGUE]->(t101),(t96)-[:COLLEAGUE]->(t102),(t96)-[:COLLEAGUE]->(t103),(t96)-[:COLLEAGUE]->(t104),(t96)-[:COLLEAGUE]->(t105),(t96)-[:COLLEAGUE]->(t106),(t96)-[:COLLEAGUE]->(t107),(t96)-[:COLLEAGUE]->(t108),(t96)-[:COLLEAGUE]->(t109),(t96)-[:COLLEAGUE]->(t110),(t96)-[:COLLEAGUE]->(t111),(t96)-[:COLLEAGUE]->(t112),(t96)-[:COLLEAGUE]->(t113),(t96)-[:COLLEAGUE]->(t114),(t96)-[:COLLEAGUE]->(t115),(t96)-[:COLLEAGUE]->(t116),(t96)-[:COLLEAGUE]->(t117),(t96)-[:COLLEAGUE]->(t118),(t96)-[:COLLEAGUE]->(t119),(t96)-[:COLLEAGUE]->(t120),(t97)-[:COLLEAGUE]->(t96),(t97)-[:COLLEAGUE]->(t98),(t97)-[:COLLEAGUE]->(t99),(t97)-[:COLLEAGUE]->(t100),(t97)-[:COLLEAGUE]->(t101),(t97)-[:COLLEAGUE]->(t102),(t97)-[:COLLEAGUE]->(t103),(t97)-[:COLLEAGUE]->(t104),(t97)-[:COLLEAGUE]->(t105),(t97)-[:COLLEAGUE]->(t106),(t97)-[:COLLEAGUE]->(t107),(t97)-[:COLLEAGUE]->(t108),(t97)-[:COLLEAGUE]->(t109),(t97)-[:COLLEAGUE]->(t110),(t97)-[:COLLEAGUE]->(t111),(t97)-[:COLLEAGUE]->(t112),(t97)-[:COLLEAGUE]->(t113),(t97)-[:COLLEAGUE]->(t114),(t97)-[:COLLEAGUE]->(t115),(t97)-[:COLLEAGUE]->(t116),(t97)-[:COLLEAGUE]->(t117),(t97)-[:COLLEAGUE]->(t118),(t97)-[:COLLEAGUE]->(t119),(t97)-[:COLLEAGUE]->(t120),(t98)-[:COLLEAGUE]->(t96),(t98)-[:COLLEAGUE]->(t97),(t98)-[:COLLEAGUE]->(t99),(t98)-[:COLLEAGUE]->(t100),(t98)-[:COLLEAGUE]->(t101),(t98)-[:COLLEAGUE]->(t102),(t98)-[:COLLEAGUE]->(t103),(t98)-[:COLLEAGUE]->(t104),(t98)-[:COLLEAGUE]->(t105),(t98)-[:COLLEAGUE]->(t106),(t98)-[:COLLEAGUE]->(t107),(t98)-[:COLLEAGUE]->(t108),(t98)-[:COLLEAGUE]->(t109),(t98)-[:COLLEAGUE]->(t110),(t98)-[:COLLEAGUE]->(t111),(t98)-[:COLLEAGUE]->(t112),(t98)-[:COLLEAGUE]->(t113),(t98)-[:COLLEAGUE]->(t114),(t98)-[:COLLEAGUE]->(t115),(t98)-[:COLLEAGUE]->(t116),(t98)-[:COLLEAGUE]->(t117),(t98)-[:COLLEAGUE]->(t118),(t98)-[:COLLEAGUE]->(t119),(t98)-[:COLLEAGUE]->(t120),(t99)-[:COLLEAGUE]->(t96),(t99)-[:COLLEAGUE]->(t97),(t99)-[:COLLEAGUE]->(t98),(t99)-[:COLLEAGUE]->(t100),(t99)-[:COLLEAGUE]->(t101),(t99)-[:COLLEAGUE]->(t102),(t99)-[:COLLEAGUE]->(t103),(t99)-[:COLLEAGUE]->(t104),(t99)-[:COLLEAGUE]->(t105),(t99)-[:COLLEAGUE]->(t106),(t99)-[:COLLEAGUE]->(t107),(t99)-[:COLLEAGUE]->(t108),(t99)-[:COLLEAGUE]->(t109),(t99)-[:COLLEAGUE]->(t110),(t99)-[:COLLEAGUE]->(t111),(t99)-[:COLLEAGUE]->(t112),(t99)-[:COLLEAGUE]->(t113),(t99)-[:COLLEAGUE]->(t114),(t99)-[:COLLEAGUE]->(t115),(t99)-[:COLLEAGUE]->(t116),(t99)-[:COLLEAGUE]->(t117),(t99)-[:COLLEAGUE]->(t118),(t99)-[:COLLEAGUE]->(t119),(t99)-[:COLLEAGUE]->(t120),(t100)-[:COLLEAGUE]->(t96),(t100)-[:COLLEAGUE]->(t97),(t100)-[:COLLEAGUE]->(t98),(t100)-[:COLLEAGUE]->(t99),(t100)-[:COLLEAGUE]->(t101),(t100)-[:COLLEAGUE]->(t102),(t100)-[:COLLEAGUE]->(t103),(t100)-[:COLLEAGUE]->(t104),(t100)-[:COLLEAGUE]->(t105),(t100)-[:COLLEAGUE]->(t106),(t100)-[:COLLEAGUE]->(t107),(t100)-[:COLLEAGUE]->(t108),(t100)-[:COLLEAGUE]->(t109),(t100)-[:COLLEAGUE]->(t110),(t100)-[:COLLEAGUE]->(t111),(t100)-[:COLLEAGUE]->(t112),(t100)-[:COLLEAGUE]->(t113),(t100)-[:COLLEAGUE]->(t114),(t100)-[:COLLEAGUE]->(t115),(t100)-[:COLLEAGUE]->(t116),(t100)-[:COLLEAGUE]->(t117),(t100)-[:COLLEAGUE]->(t118),(t100)-[:COLLEAGUE]->(t119),(t100)-[:COLLEAGUE]->(t120),(t101)-[:COLLEAGUE]->(t96),(t101)-[:COLLEAGUE]->(t97),(t101)-[:COLLEAGUE]->(t98),(t101)-[:COLLEAGUE]->(t99),(t101)-[:COLLEAGUE]->(t100),(t101)-[:COLLEAGUE]->(t102),(t101)-[:COLLEAGUE]->(t103),(t101)-[:COLLEAGUE]->(t104),(t101)-[:COLLEAGUE]->(t105),(t101)-[:COLLEAGUE]->(t106),(t101)-[:COLLEAGUE]->(t107),(t101)-[:COLLEAGUE]->(t108),(t101)-[:COLLEAGUE]->(t109),(t101)-[:COLLEAGUE]->(t110),(t101)-[:COLLEAGUE]->(t111),(t101)-[:COLLEAGUE]->(t112),(t101)-[:COLLEAGUE]->(t113),(t101)-[:COLLEAGUE]->(t114),(t101)-[:COLLEAGUE]->(t115),(t101)-[:COLLEAGUE]->(t116),(t101)-[:COLLEAGUE]->(t117),(t101)-[:COLLEAGUE]->(t118),(t101)-[:COLLEAGUE]->(t119),(t101)-[:COLLEAGUE]->(t120),(t102)-[:COLLEAGUE]->(t96),(t102)-[:COLLEAGUE]->(t97),(t102)-[:COLLEAGUE]->(t98),(t102)-[:COLLEAGUE]->(t99),(t102)-[:COLLEAGUE]->(t100),(t102)-[:COLLEAGUE]->(t101),(t102)-[:COLLEAGUE]->(t103),(t102)-[:COLLEAGUE]->(t104),(t102)-[:COLLEAGUE]->(t105),(t102)-[:COLLEAGUE]->(t106),(t102)-[:COLLEAGUE]->(t107),(t102)-[:COLLEAGUE]->(t108),(t102)-[:COLLEAGUE]->(t109),(t102)-[:COLLEAGUE]->(t110),(t102)-[:COLLEAGUE]->(t111),(t102)-[:COLLEAGUE]->(t112),(t102)-[:COLLEAGUE]->(t113),(t102)-[:COLLEAGUE]->(t114),(t102)-[:COLLEAGUE]->(t115),(t102)-[:COLLEAGUE]->(t116),(t102)-[:COLLEAGUE]->(t117),(t102)-[:COLLEAGUE]->(t118),(t102)-[:COLLEAGUE]->(t119),(t102)-[:COLLEAGUE]->(t120),(t103)-[:COLLEAGUE]->(t96),(t103)-[:COLLEAGUE]->(t97),(t103)-[:COLLEAGUE]->(t98),(t103)-[:COLLEAGUE]->(t99),(t103)-[:COLLEAGUE]->(t100),(t103)-[:COLLEAGUE]->(t101),(t103)-[:COLLEAGUE]->(t102),(t103)-[:COLLEAGUE]->(t104),(t103)-[:COLLEAGUE]->(t105),(t103)-[:COLLEAGUE]->(t106),(t103)-[:COLLEAGUE]->(t107),(t103)-[:COLLEAGUE]->(t108),(t103)-[:COLLEAGUE]->(t109),(t103)-[:COLLEAGUE]->(t110),(t103)-[:COLLEAGUE]->(t111),(t103)-[:COLLEAGUE]->(t112),(t103)-[:COLLEAGUE]->(t113),(t103)-[:COLLEAGUE]->(t114),(t103)-[:COLLEAGUE]->(t115),(t103)-[:COLLEAGUE]->(t116),(t103)-[:COLLEAGUE]->(t117),(t103)-[:COLLEAGUE]->(t118),(t103)-[:COLLEAGUE]->(t119),(t103)-[:COLLEAGUE]->(t120),(t104)-[:COLLEAGUE]->(t96),(t104)-[:COLLEAGUE]->(t97),(t104)-[:COLLEAGUE]->(t98),(t104)-[:COLLEAGUE]->(t99),(t104)-[:COLLEAGUE]->(t100),(t104)-[:COLLEAGUE]->(t101),(t104)-[:COLLEAGUE]->(t102),(t104)-[:COLLEAGUE]->(t103),(t104)-[:COLLEAGUE]->(t105),(t104)-[:COLLEAGUE]->(t106),(t104)-[:COLLEAGUE]->(t107),(t104)-[:COLLEAGUE]->(t108),(t104)-[:COLLEAGUE]->(t109),(t104)-[:COLLEAGUE]->(t110),(t104)-[:COLLEAGUE]->(t111),(t104)-[:COLLEAGUE]->(t112),(t104)-[:COLLEAGUE]->(t113),(t104)-[:COLLEAGUE]->(t114),(t104)-[:COLLEAGUE]->(t115),(t104)-[:COLLEAGUE]->(t116),(t104)-[:COLLEAGUE]->(t117),(t104)-[:COLLEAGUE]->(t118),(t104)-[:COLLEAGUE]->(t119),(t104)-[:COLLEAGUE]->(t120),(t105)-[:COLLEAGUE]->(t96),(t105)-[:COLLEAGUE]->(t97),(t105)-[:COLLEAGUE]->(t98),(t105)-[:COLLEAGUE]->(t99),(t105)-[:COLLEAGUE]->(t100),(t105)-[:COLLEAGUE]->(t101),(t105)-[:COLLEAGUE]->(t102),(t105)-[:COLLEAGUE]->(t103),(t105)-[:COLLEAGUE]->(t104),(t105)-[:COLLEAGUE]->(t106),(t105)-[:COLLEAGUE]->(t107),(t105)-[:COLLEAGUE]->(t108),(t105)-[:COLLEAGUE]->(t109),(t105)-[:COLLEAGUE]->(t110),(t105)-[:COLLEAGUE]->(t111),(t105)-[:COLLEAGUE]->(t112),(t105)-[:COLLEAGUE]->(t113),(t105)-[:COLLEAGUE]->(t114),(t105)-[:COLLEAGUE]->(t115),(t105)-[:COLLEAGUE]->(t116),(t105)-[:COLLEAGUE]->(t117),(t105)-[:COLLEAGUE]->(t118),(t105)-[:COLLEAGUE]->(t119),(t105)-[:COLLEAGUE]->(t120),(t106)-[:COLLEAGUE]->(t96),(t106)-[:COLLEAGUE]->(t97),(t106)-[:COLLEAGUE]->(t98),(t106)-[:COLLEAGUE]->(t99),(t106)-[:COLLEAGUE]->(t100),(t106)-[:COLLEAGUE]->(t101),(t106)-[:COLLEAGUE]->(t102),(t106)-[:COLLEAGUE]->(t103),(t106)-[:COLLEAGUE]->(t104),(t106)-[:COLLEAGUE]->(t105),(t106)-[:COLLEAGUE]->(t107),(t106)-[:COLLEAGUE]->(t108),(t106)-[:COLLEAGUE]->(t109),(t106)-[:COLLEAGUE]->(t110),(t106)-[:COLLEAGUE]->(t111),(t106)-[:COLLEAGUE]->(t112),(t106)-[:COLLEAGUE]->(t113),(t106)-[:COLLEAGUE]->(t114),(t106)-[:COLLEAGUE]->(t115),(t106)-[:COLLEAGUE]->(t116),(t106)-[:COLLEAGUE]->(t117),(t106)-[:COLLEAGUE]->(t118),(t106)-[:COLLEAGUE]->(t119),(t106)-[:COLLEAGUE]->(t120),(t107)-[:COLLEAGUE]->(t96),(t107)-[:COLLEAGUE]->(t97),(t107)-[:COLLEAGUE]->(t98),(t107)-[:COLLEAGUE]->(t99),(t107)-[:COLLEAGUE]->(t100),(t107)-[:COLLEAGUE]->(t101),(t107)-[:COLLEAGUE]->(t102),(t107)-[:COLLEAGUE]->(t103),(t107)-[:COLLEAGUE]->(t104),(t107)-[:COLLEAGUE]->(t105),(t107)-[:COLLEAGUE]->(t106),(t107)-[:COLLEAGUE]->(t108),(t107)-[:COLLEAGUE]->(t109),(t107)-[:COLLEAGUE]->(t110),(t107)-[:COLLEAGUE]->(t111),(t107)-[:COLLEAGUE]->(t112),(t107)-[:COLLEAGUE]->(t113),(t107)-[:COLLEAGUE]->(t114),(t107)-[:COLLEAGUE]->(t115),(t107)-[:COLLEAGUE]->(t116),(t107)-[:COLLEAGUE]->(t117),(t107)-[:COLLEAGUE]->(t118),(t107)-[:COLLEAGUE]->(t119),(t107)-[:COLLEAGUE]->(t120),(t108)-[:COLLEAGUE]->(t96),(t108)-[:COLLEAGUE]->(t97),(t108)-[:COLLEAGUE]->(t98),(t108)-[:COLLEAGUE]->(t99),(t108)-[:COLLEAGUE]->(t100),(t108)-[:COLLEAGUE]->(t101),(t108)-[:COLLEAGUE]->(t102),(t108)-[:COLLEAGUE]->(t103),(t108)-[:COLLEAGUE]->(t104),(t108)-[:COLLEAGUE]->(t105),(t108)-[:COLLEAGUE]->(t106),(t108)-[:COLLEAGUE]->(t107),(t108)-[:COLLEAGUE]->(t109),(t108)-[:COLLEAGUE]->(t110),(t108)-[:COLLEAGUE]->(t111),(t108)-[:COLLEAGUE]->(t112),(t108)-[:COLLEAGUE]->(t113),(t108)-[:COLLEAGUE]->(t114),(t108)-[:COLLEAGUE]->(t115),(t108)-[:COLLEAGUE]->(t116),(t108)-[:COLLEAGUE]->(t117),(t108)-[:COLLEAGUE]->(t118),(t108)-[:COLLEAGUE]->(t119),(t108)-[:COLLEAGUE]->(t120),(t109)-[:COLLEAGUE]->(t96),(t109)-[:COLLEAGUE]->(t97),(t109)-[:COLLEAGUE]->(t98),(t109)-[:COLLEAGUE]->(t99),(t109)-[:COLLEAGUE]->(t100),(t109)-[:COLLEAGUE]->(t101),(t109)-[:COLLEAGUE]->(t102),(t109)-[:COLLEAGUE]->(t103),(t109)-[:COLLEAGUE]->(t104),(t109)-[:COLLEAGUE]->(t105),(t109)-[:COLLEAGUE]->(t106),(t109)-[:COLLEAGUE]->(t107),(t109)-[:COLLEAGUE]->(t108),(t109)-[:COLLEAGUE]->(t110),(t109)-[:COLLEAGUE]->(t111),(t109)-[:COLLEAGUE]->(t112),(t109)-[:COLLEAGUE]->(t113),(t109)-[:COLLEAGUE]->(t114),(t109)-[:COLLEAGUE]->(t115),(t109)-[:COLLEAGUE]->(t116),(t109)-[:COLLEAGUE]->(t117),(t109)-[:COLLEAGUE]->(t118),(t109)-[:COLLEAGUE]->(t119),(t109)-[:COLLEAGUE]->(t120),(t110)-[:COLLEAGUE]->(t96),(t110)-[:COLLEAGUE]->(t97),(t110)-[:COLLEAGUE]->(t98),(t110)-[:COLLEAGUE]->(t99),(t110)-[:COLLEAGUE]->(t100),(t110)-[:COLLEAGUE]->(t101),(t110)-[:COLLEAGUE]->(t102),(t110)-[:COLLEAGUE]->(t103),(t110)-[:COLLEAGUE]->(t104),(t110)-[:COLLEAGUE]->(t105),(t110)-[:COLLEAGUE]->(t106),(t110)-[:COLLEAGUE]->(t107),(t110)-[:COLLEAGUE]->(t108),(t110)-[:COLLEAGUE]->(t109),(t110)-[:COLLEAGUE]->(t111),(t110)-[:COLLEAGUE]->(t112),(t110)-[:COLLEAGUE]->(t113),(t110)-[:COLLEAGUE]->(t114),(t110)-[:COLLEAGUE]->(t115),(t110)-[:COLLEAGUE]->(t116),(t110)-[:COLLEAGUE]->(t117),(t110)-[:COLLEAGUE]->(t118),(t110)-[:COLLEAGUE]->(t119),(t110)-[:COLLEAGUE]->(t120),(t111)-[:COLLEAGUE]->(t96),(t111)-[:COLLEAGUE]->(t97),(t111)-[:COLLEAGUE]->(t98),(t111)-[:COLLEAGUE]->(t99),(t111)-[:COLLEAGUE]->(t100),(t111)-[:COLLEAGUE]->(t101),(t111)-[:COLLEAGUE]->(t102),(t111)-[:COLLEAGUE]->(t103),(t111)-[:COLLEAGUE]->(t104),(t111)-[:COLLEAGUE]->(t105),(t111)-[:COLLEAGUE]->(t106),(t111)-[:COLLEAGUE]->(t107),(t111)-[:COLLEAGUE]->(t108),(t111)-[:COLLEAGUE]->(t109),(t111)-[:COLLEAGUE]->(t110),(t111)-[:COLLEAGUE]->(t112),(t111)-[:COLLEAGUE]->(t113),(t111)-[:COLLEAGUE]->(t114),(t111)-[:COLLEAGUE]->(t115),(t111)-[:COLLEAGUE]->(t116),(t111)-[:COLLEAGUE]->(t117),(t111)-[:COLLEAGUE]->(t118),(t111)-[:COLLEAGUE]->(t119),(t111)-[:COLLEAGUE]->(t120),(t112)-[:COLLEAGUE]->(t96),(t112)-[:COLLEAGUE]->(t97),(t112)-[:COLLEAGUE]->(t98),(t112)-[:COLLEAGUE]->(t99),(t112)-[:COLLEAGUE]->(t100),(t112)-[:COLLEAGUE]->(t101),(t112)-[:COLLEAGUE]->(t102),(t112)-[:COLLEAGUE]->(t103),(t112)-[:COLLEAGUE]->(t104),(t112)-[:COLLEAGUE]->(t105),(t112)-[:COLLEAGUE]->(t106),(t112)-[:COLLEAGUE]->(t107),(t112)-[:COLLEAGUE]->(t108),(t112)-[:COLLEAGUE]->(t109),(t112)-[:COLLEAGUE]->(t110),(t112)-[:COLLEAGUE]->(t111),(t112)-[:COLLEAGUE]->(t113),(t112)-[:COLLEAGUE]->(t114),(t112)-[:COLLEAGUE]->(t115),(t112)-[:COLLEAGUE]->(t116),(t112)-[:COLLEAGUE]->(t117),(t112)-[:COLLEAGUE]->(t118),(t112)-[:COLLEAGUE]->(t119),(t112)-[:COLLEAGUE]->(t120),(t113)-[:COLLEAGUE]->(t96),(t113)-[:COLLEAGUE]->(t97),(t113)-[:COLLEAGUE]->(t98),(t113)-[:COLLEAGUE]->(t99),(t113)-[:COLLEAGUE]->(t100),(t113)-[:COLLEAGUE]->(t101),(t113)-[:COLLEAGUE]->(t102),(t113)-[:COLLEAGUE]->(t103),(t113)-[:COLLEAGUE]->(t104),(t113)-[:COLLEAGUE]->(t105),(t113)-[:COLLEAGUE]->(t106),(t113)-[:COLLEAGUE]->(t107),(t113)-[:COLLEAGUE]->(t108),(t113)-[:COLLEAGUE]->(t109),(t113)-[:COLLEAGUE]->(t110),(t113)-[:COLLEAGUE]->(t111),(t113)-[:COLLEAGUE]->(t112),(t113)-[:COLLEAGUE]->(t114),(t113)-[:COLLEAGUE]->(t115),(t113)-[:COLLEAGUE]->(t116),(t113)-[:COLLEAGUE]->(t117),(t113)-[:COLLEAGUE]->(t118),(t113)-[:COLLEAGUE]->(t119),(t113)-[:COLLEAGUE]->(t120),(t114)-[:COLLEAGUE]->(t96),(t114)-[:COLLEAGUE]->(t97),(t114)-[:COLLEAGUE]->(t98),(t114)-[:COLLEAGUE]->(t99),(t114)-[:COLLEAGUE]->(t100),(t114)-[:COLLEAGUE]->(t101),(t114)-[:COLLEAGUE]->(t102),(t114)-[:COLLEAGUE]->(t103),(t114)-[:COLLEAGUE]->(t104),(t114)-[:COLLEAGUE]->(t105),(t114)-[:COLLEAGUE]->(t106),(t114)-[:COLLEAGUE]->(t107),(t114)-[:COLLEAGUE]->(t108),(t114)-[:COLLEAGUE]->(t109),(t114)-[:COLLEAGUE]->(t110),(t114)-[:COLLEAGUE]->(t111),(t114)-[:COLLEAGUE]->(t112),(t114)-[:COLLEAGUE]->(t113),(t114)-[:COLLEAGUE]->(t115),(t114)-[:COLLEAGUE]->(t116),(t114)-[:COLLEAGUE]->(t117),(t114)-[:COLLEAGUE]->(t118),(t114)-[:COLLEAGUE]->(t119),(t114)-[:COLLEAGUE]->(t120),(t115)-[:COLLEAGUE]->(t96),(t115)-[:COLLEAGUE]->(t97),(t115)-[:COLLEAGUE]->(t98),(t115)-[:COLLEAGUE]->(t99),(t115)-[:COLLEAGUE]->(t100),(t115)-[:COLLEAGUE]->(t101),(t115)-[:COLLEAGUE]->(t102),(t115)-[:COLLEAGUE]->(t103),(t115)-[:COLLEAGUE]->(t104),(t115)-[:COLLEAGUE]->(t105),(t115)-[:COLLEAGUE]->(t106),(t115)-[:COLLEAGUE]->(t107),(t115)-[:COLLEAGUE]->(t108),(t115)-[:COLLEAGUE]->(t109),(t115)-[:COLLEAGUE]->(t110),(t115)-[:COLLEAGUE]->(t111),(t115)-[:COLLEAGUE]->(t112),(t115)-[:COLLEAGUE]->(t113),(t115)-[:COLLEAGUE]->(t114),(t115)-[:COLLEAGUE]->(t116),(t115)-[:COLLEAGUE]->(t117),(t115)-[:COLLEAGUE]->(t118),(t115)-[:COLLEAGUE]->(t119),(t115)-[:COLLEAGUE]->(t120),(t116)-[:COLLEAGUE]->(t96),(t116)-[:COLLEAGUE]->(t97),(t116)-[:COLLEAGUE]->(t98),(t116)-[:COLLEAGUE]->(t99),(t116)-[:COLLEAGUE]->(t100),(t116)-[:COLLEAGUE]->(t101),(t116)-[:COLLEAGUE]->(t102),(t116)-[:COLLEAGUE]->(t103),(t116)-[:COLLEAGUE]->(t104),(t116)-[:COLLEAGUE]->(t105),(t116)-[:COLLEAGUE]->(t106),(t116)-[:COLLEAGUE]->(t107),(t116)-[:COLLEAGUE]->(t108),(t116)-[:COLLEAGUE]->(t109),(t116)-[:COLLEAGUE]->(t110),(t116)-[:COLLEAGUE]->(t111),(t116)-[:COLLEAGUE]->(t112),(t116)-[:COLLEAGUE]->(t113),(t116)-[:COLLEAGUE]->(t114),(t116)-[:COLLEAGUE]->(t115),(t116)-[:COLLEAGUE]->(t117),(t116)-[:COLLEAGUE]->(t118),(t116)-[:COLLEAGUE]->(t119),(t116)-[:COLLEAGUE]->(t120),(t117)-[:COLLEAGUE]->(t96),(t117)-[:COLLEAGUE]->(t97),(t117)-[:COLLEAGUE]->(t98),(t117)-[:COLLEAGUE]->(t99),(t117)-[:COLLEAGUE]->(t100),(t117)-[:COLLEAGUE]->(t101),(t117)-[:COLLEAGUE]->(t102),(t117)-[:COLLEAGUE]->(t103),(t117)-[:COLLEAGUE]->(t104),(t117)-[:COLLEAGUE]->(t105),(t117)-[:COLLEAGUE]->(t106),(t117)-[:COLLEAGUE]->(t107),(t117)-[:COLLEAGUE]->(t108),(t117)-[:COLLEAGUE]->(t109),(t117)-[:COLLEAGUE]->(t110),(t117)-[:COLLEAGUE]->(t111),(t117)-[:COLLEAGUE]->(t112),(t117)-[:COLLEAGUE]->(t113),(t117)-[:COLLEAGUE]->(t114),(t117)-[:COLLEAGUE]->(t115),(t117)-[:COLLEAGUE]->(t116),(t117)-[:COLLEAGUE]->(t118),(t117)-[:COLLEAGUE]->(t119),(t117)-[:COLLEAGUE]->(t120),(t118)-[:COLLEAGUE]->(t96),(t118)-[:COLLEAGUE]->(t97),(t118)-[:COLLEAGUE]->(t98),(t118)-[:COLLEAGUE]->(t99),(t118)-[:COLLEAGUE]->(t100),(t118)-[:COLLEAGUE]->(t101),(t118)-[:COLLEAGUE]->(t102),(t118)-[:COLLEAGUE]->(t103),(t118)-[:COLLEAGUE]->(t104),(t118)-[:COLLEAGUE]->(t105),(t118)-[:COLLEAGUE]->(t106),(t118)-[:COLLEAGUE]->(t107),(t118)-[:COLLEAGUE]->(t108),(t118)-[:COLLEAGUE]->(t109),(t118)-[:COLLEAGUE]->(t110),(t118)-[:COLLEAGUE]->(t111),(t118)-[:COLLEAGUE]->(t112),(t118)-[:COLLEAGUE]->(t113),(t118)-[:COLLEAGUE]->(t114),(t118)-[:COLLEAGUE]->(t115),(t118)-[:COLLEAGUE]->(t116),(t118)-[:COLLEAGUE]->(t117),(t118)-[:COLLEAGUE]->(t119),(t118)-[:COLLEAGUE]->(t120),(t119)-[:COLLEAGUE]->(t96),(t119)-[:COLLEAGUE]->(t97),(t119)-[:COLLEAGUE]->(t98),(t119)-[:COLLEAGUE]->(t99),(t119)-[:COLLEAGUE]->(t100),(t119)-[:COLLEAGUE]->(t101),(t119)-[:COLLEAGUE]->(t102),(t119)-[:COLLEAGUE]->(t103),(t119)-[:COLLEAGUE]->(t104),(t119)-[:COLLEAGUE]->(t105),(t119)-[:COLLEAGUE]->(t106),(t119)-[:COLLEAGUE]->(t107),(t119)-[:COLLEAGUE]->(t108),(t119)-[:COLLEAGUE]->(t109),(t119)-[:COLLEAGUE]->(t110),(t119)-[:COLLEAGUE]->(t111),(t119)-[:COLLEAGUE]->(t112),(t119)-[:COLLEAGUE]->(t113),(t119)-[:COLLEAGUE]->(t114),(t119)-[:COLLEAGUE]->(t115),(t119)-[:COLLEAGUE]->(t116),(t119)-[:COLLEAGUE]->(t117),(t119)-[:COLLEAGUE]->(t118),(t119)-[:COLLEAGUE]->(t120),(t120)-[:COLLEAGUE]->(t96),(t120)-[:COLLEAGUE]->(t97),(t120)-[:COLLEAGUE]->(t98),(t120)-[:COLLEAGUE]->(t99),(t120)-[:COLLEAGUE]->(t100),(t120)-[:COLLEAGUE]->(t101),(t120)-[:COLLEAGUE]->(t102),(t120)-[:COLLEAGUE]->(t103),(t120)-[:COLLEAGUE]->(t104),(t120)-[:COLLEAGUE]->(t105),(t120)-[:COLLEAGUE]->(t106),(t120)-[:COLLEAGUE]->(t107),(t120)-[:COLLEAGUE]->(t108),(t120)-[:COLLEAGUE]->(t109),(t120)-[:COLLEAGUE]->(t110),(t120)-[:COLLEAGUE]->(t111),(t120)-[:COLLEAGUE]->(t112),(t120)-[:COLLEAGUE]->(t113),(t120)-[:COLLEAGUE]->(t114),(t120)-[:COLLEAGUE]->(t115),(t120)-[:COLLEAGUE]->(t116),(t120)-[:COLLEAGUE]->(t117),(t120)-[:COLLEAGUE]->(t118),(t120)-[:COLLEAGUE]->(t119),(t121)-[:COLLEAGUE]->(t122),(t121)-[:COLLEAGUE]->(t123),(t121)-[:COLLEAGUE]->(t124),(t121)-[:COLLEAGUE]->(t125),(t121)-[:COLLEAGUE]->(t126),(t121)-[:COLLEAGUE]->(t127),(t121)-[:COLLEAGUE]->(t128),(t121)-[:COLLEAGUE]->(t129),(t121)-[:COLLEAGUE]->(t130),(t121)-[:COLLEAGUE]->(t131),(t121)-[:COLLEAGUE]->(t132),(t121)-[:COLLEAGUE]->(t133),(t121)-[:COLLEAGUE]->(t134),(t121)-[:COLLEAGUE]->(t135),(t121)-[:COLLEAGUE]->(t136),(t121)-[:COLLEAGUE]->(t137),(t121)-[:COLLEAGUE]->(t138),(t121)-[:COLLEAGUE]->(t139),(t121)-[:COLLEAGUE]->(t140),(t121)-[:COLLEAGUE]->(t141),(t121)-[:COLLEAGUE]->(t142),(t122)-[:COLLEAGUE]->(t121),(t122)-[:COLLEAGUE]->(t123),(t122)-[:COLLEAGUE]->(t124),(t122)-[:COLLEAGUE]->(t125),(t122)-[:COLLEAGUE]->(t126),(t122)-[:COLLEAGUE]->(t127),(t122)-[:COLLEAGUE]->(t128),(t122)-[:COLLEAGUE]->(t129),(t122)-[:COLLEAGUE]->(t130),(t122)-[:COLLEAGUE]->(t131),(t122)-[:COLLEAGUE]->(t132),(t122)-[:COLLEAGUE]->(t133),(t122)-[:COLLEAGUE]->(t134),(t122)-[:COLLEAGUE]->(t135),(t122)-[:COLLEAGUE]->(t136),(t122)-[:COLLEAGUE]->(t137),(t122)-[:COLLEAGUE]->(t138),(t122)-[:COLLEAGUE]->(t139),(t122)-[:COLLEAGUE]->(t140),(t122)-[:COLLEAGUE]->(t141),(t122)-[:COLLEAGUE]->(t142),(t123)-[:COLLEAGUE]->(t121),(t123)-[:COLLEAGUE]->(t122),(t123)-[:COLLEAGUE]->(t124),(t123)-[:COLLEAGUE]->(t125),(t123)-[:COLLEAGUE]->(t126),(t123)-[:COLLEAGUE]->(t127),(t123)-[:COLLEAGUE]->(t128),(t123)-[:COLLEAGUE]->(t129),(t123)-[:COLLEAGUE]->(t130),(t123)-[:COLLEAGUE]->(t131),(t123)-[:COLLEAGUE]->(t132),(t123)-[:COLLEAGUE]->(t133),(t123)-[:COLLEAGUE]->(t134),(t123)-[:COLLEAGUE]->(t135),(t123)-[:COLLEAGUE]->(t136),(t123)-[:COLLEAGUE]->(t137),(t123)-[:COLLEAGUE]->(t138),(t123)-[:COLLEAGUE]->(t139),(t123)-[:COLLEAGUE]->(t140),(t123)-[:COLLEAGUE]->(t141),(t123)-[:COLLEAGUE]->(t142),(t124)-[:COLLEAGUE]->(t121),(t124)-[:COLLEAGUE]->(t122),(t124)-[:COLLEAGUE]->(t123),(t124)-[:COLLEAGUE]->(t125),(t124)-[:COLLEAGUE]->(t126),(t124)-[:COLLEAGUE]->(t127),(t124)-[:COLLEAGUE]->(t128),(t124)-[:COLLEAGUE]->(t129),(t124)-[:COLLEAGUE]->(t130),(t124)-[:COLLEAGUE]->(t131),(t124)-[:COLLEAGUE]->(t132),(t124)-[:COLLEAGUE]->(t133),(t124)-[:COLLEAGUE]->(t134),(t124)-[:COLLEAGUE]->(t135),(t124)-[:COLLEAGUE]->(t136),(t124)-[:COLLEAGUE]->(t137),(t124)-[:COLLEAGUE]->(t138),(t124)-[:COLLEAGUE]->(t139),(t124)-[:COLLEAGUE]->(t140),(t124)-[:COLLEAGUE]->(t141),(t124)-[:COLLEAGUE]->(t142),(t125)-[:COLLEAGUE]->(t121),(t125)-[:COLLEAGUE]->(t122),(t125)-[:COLLEAGUE]->(t123),(t125)-[:COLLEAGUE]->(t124),(t125)-[:COLLEAGUE]->(t126),(t125)-[:COLLEAGUE]->(t127),(t125)-[:COLLEAGUE]->(t128),(t125)-[:COLLEAGUE]->(t129),(t125)-[:COLLEAGUE]->(t130),(t125)-[:COLLEAGUE]->(t131),(t125)-[:COLLEAGUE]->(t132),(t125)-[:COLLEAGUE]->(t133),(t125)-[:COLLEAGUE]->(t134),(t125)-[:COLLEAGUE]->(t135),(t125)-[:COLLEAGUE]->(t136),(t125)-[:COLLEAGUE]->(t137),(t125)-[:COLLEAGUE]->(t138),(t125)-[:COLLEAGUE]->(t139),(t125)-[:COLLEAGUE]->(t140),(t125)-[:COLLEAGUE]->(t141),(t125)-[:COLLEAGUE]->(t142),(t126)-[:COLLEAGUE]->(t121),(t126)-[:COLLEAGUE]->(t122),(t126)-[:COLLEAGUE]->(t123),(t126)-[:COLLEAGUE]->(t124),(t126)-[:COLLEAGUE]->(t125),(t126)-[:COLLEAGUE]->(t127),(t126)-[:COLLEAGUE]->(t128),(t126)-[:COLLEAGUE]->(t129),(t126)-[:COLLEAGUE]->(t130),(t126)-[:COLLEAGUE]->(t131),(t126)-[:COLLEAGUE]->(t132),(t126)-[:COLLEAGUE]->(t133),(t126)-[:COLLEAGUE]->(t134),(t126)-[:COLLEAGUE]->(t135),(t126)-[:COLLEAGUE]->(t136),(t126)-[:COLLEAGUE]->(t137),(t126)-[:COLLEAGUE]->(t138),(t126)-[:COLLEAGUE]->(t139),(t126)-[:COLLEAGUE]->(t140),(t126)-[:COLLEAGUE]->(t141),(t126)-[:COLLEAGUE]->(t142),(t127)-[:COLLEAGUE]->(t121),(t127)-[:COLLEAGUE]->(t122),(t127)-[:COLLEAGUE]->(t123),(t127)-[:COLLEAGUE]->(t124),(t127)-[:COLLEAGUE]->(t125),(t127)-[:COLLEAGUE]->(t126),(t127)-[:COLLEAGUE]->(t128),(t127)-[:COLLEAGUE]->(t129),(t127)-[:COLLEAGUE]->(t130),(t127)-[:COLLEAGUE]->(t131),(t127)-[:COLLEAGUE]->(t132),(t127)-[:COLLEAGUE]->(t133),(t127)-[:COLLEAGUE]->(t134),(t127)-[:COLLEAGUE]->(t135),(t127)-[:COLLEAGUE]->(t136),(t127)-[:COLLEAGUE]->(t137),(t127)-[:COLLEAGUE]->(t138),(t127)-[:COLLEAGUE]->(t139),(t127)-[:COLLEAGUE]->(t140),(t127)-[:COLLEAGUE]->(t141),(t127)-[:COLLEAGUE]->(t142),(t128)-[:COLLEAGUE]->(t121),(t128)-[:COLLEAGUE]->(t122),(t128)-[:COLLEAGUE]->(t123),(t128)-[:COLLEAGUE]->(t124),(t128)-[:COLLEAGUE]->(t125),(t128)-[:COLLEAGUE]->(t126),(t128)-[:COLLEAGUE]->(t127),(t128)-[:COLLEAGUE]->(t129),(t128)-[:COLLEAGUE]->(t130),(t128)-[:COLLEAGUE]->(t131),(t128)-[:COLLEAGUE]->(t132),(t128)-[:COLLEAGUE]->(t133),(t128)-[:COLLEAGUE]->(t134),(t128)-[:COLLEAGUE]->(t135),(t128)-[:COLLEAGUE]->(t136),(t128)-[:COLLEAGUE]->(t137),(t128)-[:COLLEAGUE]->(t138),(t128)-[:COLLEAGUE]->(t139),(t128)-[:COLLEAGUE]->(t140),(t128)-[:COLLEAGUE]->(t141),(t128)-[:COLLEAGUE]->(t142),(t129)-[:COLLEAGUE]->(t121),(t129)-[:COLLEAGUE]->(t122),(t129)-[:COLLEAGUE]->(t123),(t129)-[:COLLEAGUE]->(t124),(t129)-[:COLLEAGUE]->(t125),(t129)-[:COLLEAGUE]->(t126),(t129)-[:COLLEAGUE]->(t127),(t129)-[:COLLEAGUE]->(t128),(t129)-[:COLLEAGUE]->(t130),(t129)-[:COLLEAGUE]->(t131),(t129)-[:COLLEAGUE]->(t132),(t129)-[:COLLEAGUE]->(t133),(t129)-[:COLLEAGUE]->(t134),(t129)-[:COLLEAGUE]->(t135),(t129)-[:COLLEAGUE]->(t136),(t129)-[:COLLEAGUE]->(t137),(t129)-[:COLLEAGUE]->(t138),(t129)-[:COLLEAGUE]->(t139),(t129)-[:COLLEAGUE]->(t140),(t129)-[:COLLEAGUE]->(t141),(t129)-[:COLLEAGUE]->(t142),(t130)-[:COLLEAGUE]->(t121),(t130)-[:COLLEAGUE]->(t122),(t130)-[:COLLEAGUE]->(t123),(t130)-[:COLLEAGUE]->(t124),(t130)-[:COLLEAGUE]->(t125),(t130)-[:COLLEAGUE]->(t126),(t130)-[:COLLEAGUE]->(t127),(t130)-[:COLLEAGUE]->(t128),(t130)-[:COLLEAGUE]->(t129),(t130)-[:COLLEAGUE]->(t131),(t130)-[:COLLEAGUE]->(t132),(t130)-[:COLLEAGUE]->(t133),(t130)-[:COLLEAGUE]->(t134),(t130)-[:COLLEAGUE]->(t135),(t130)-[:COLLEAGUE]->(t136),(t130)-[:COLLEAGUE]->(t137),(t130)-[:COLLEAGUE]->(t138),(t130)-[:COLLEAGUE]->(t139),(t130)-[:COLLEAGUE]->(t140),(t130)-[:COLLEAGUE]->(t141),(t130)-[:COLLEAGUE]->(t142),(t131)-[:COLLEAGUE]->(t121),(t131)-[:COLLEAGUE]->(t122),(t131)-[:COLLEAGUE]->(t123),(t131)-[:COLLEAGUE]->(t124),(t131)-[:COLLEAGUE]->(t125),(t131)-[:COLLEAGUE]->(t126),(t131)-[:COLLEAGUE]->(t127),(t131)-[:COLLEAGUE]->(t128),(t131)-[:COLLEAGUE]->(t129),(t131)-[:COLLEAGUE]->(t130),(t131)-[:COLLEAGUE]->(t132),(t131)-[:COLLEAGUE]->(t133),(t131)-[:COLLEAGUE]->(t134),(t131)-[:COLLEAGUE]->(t135),(t131)-[:COLLEAGUE]->(t136),(t131)-[:COLLEAGUE]->(t137),(t131)-[:COLLEAGUE]->(t138),(t131)-[:COLLEAGUE]->(t139),(t131)-[:COLLEAGUE]->(t140),(t131)-[:COLLEAGUE]->(t141),(t131)-[:COLLEAGUE]->(t142),(t132)-[:COLLEAGUE]->(t121),(t132)-[:COLLEAGUE]->(t122),(t132)-[:COLLEAGUE]->(t123),(t132)-[:COLLEAGUE]->(t124),(t132)-[:COLLEAGUE]->(t125),(t132)-[:COLLEAGUE]->(t126),(t132)-[:COLLEAGUE]->(t127),(t132)-[:COLLEAGUE]->(t128),(t132)-[:COLLEAGUE]->(t129),(t132)-[:COLLEAGUE]->(t130),(t132)-[:COLLEAGUE]->(t131),(t132)-[:COLLEAGUE]->(t133),(t132)-[:COLLEAGUE]->(t134),(t132)-[:COLLEAGUE]->(t135),(t132)-[:COLLEAGUE]->(t136),(t132)-[:COLLEAGUE]->(t137),(t132)-[:COLLEAGUE]->(t138),(t132)-[:COLLEAGUE]->(t139),(t132)-[:COLLEAGUE]->(t140),(t132)-[:COLLEAGUE]->(t141),(t132)-[:COLLEAGUE]->(t142),(t133)-[:COLLEAGUE]->(t121),(t133)-[:COLLEAGUE]->(t122),(t133)-[:COLLEAGUE]->(t123),(t133)-[:COLLEAGUE]->(t124),(t133)-[:COLLEAGUE]->(t125),(t133)-[:COLLEAGUE]->(t126),(t133)-[:COLLEAGUE]->(t127),(t133)-[:COLLEAGUE]->(t128),(t133)-[:COLLEAGUE]->(t129),(t133)-[:COLLEAGUE]->(t130),(t133)-[:COLLEAGUE]->(t131),(t133)-[:COLLEAGUE]->(t132),(t133)-[:COLLEAGUE]->(t134),(t133)-[:COLLEAGUE]->(t135),(t133)-[:COLLEAGUE]->(t136),(t133)-[:COLLEAGUE]->(t137),(t133)-[:COLLEAGUE]->(t138),(t133)-[:COLLEAGUE]->(t139),(t133)-[:COLLEAGUE]->(t140),(t133)-[:COLLEAGUE]->(t141),(t133)-[:COLLEAGUE]->(t142),(t134)-[:COLLEAGUE]->(t121),(t134)-[:COLLEAGUE]->(t122),(t134)-[:COLLEAGUE]->(t123),(t134)-[:COLLEAGUE]->(t124),(t134)-[:COLLEAGUE]->(t125),(t134)-[:COLLEAGUE]->(t126),(t134)-[:COLLEAGUE]->(t127),(t134)-[:COLLEAGUE]->(t128),(t134)-[:COLLEAGUE]->(t129),(t134)-[:COLLEAGUE]->(t130),(t134)-[:COLLEAGUE]->(t131),(t134)-[:COLLEAGUE]->(t132),(t134)-[:COLLEAGUE]->(t133),(t134)-[:COLLEAGUE]->(t135),(t134)-[:COLLEAGUE]->(t136),(t134)-[:COLLEAGUE]->(t137),(t134)-[:COLLEAGUE]->(t138),(t134)-[:COLLEAGUE]->(t139),(t134)-[:COLLEAGUE]->(t140),(t134)-[:COLLEAGUE]->(t141),(t134)-[:COLLEAGUE]->(t142),(t135)-[:COLLEAGUE]->(t121),(t135)-[:COLLEAGUE]->(t122),(t135)-[:COLLEAGUE]->(t123),(t135)-[:COLLEAGUE]->(t124),(t135)-[:COLLEAGUE]->(t125),(t135)-[:COLLEAGUE]->(t126),(t135)-[:COLLEAGUE]->(t127),(t135)-[:COLLEAGUE]->(t128),(t135)-[:COLLEAGUE]->(t129),(t135)-[:COLLEAGUE]->(t130),(t135)-[:COLLEAGUE]->(t131),(t135)-[:COLLEAGUE]->(t132),(t135)-[:COLLEAGUE]->(t133),(t135)-[:COLLEAGUE]->(t134),(t135)-[:COLLEAGUE]->(t136),(t135)-[:COLLEAGUE]->(t137),(t135)-[:COLLEAGUE]->(t138),(t135)-[:COLLEAGUE]->(t139),(t135)-[:COLLEAGUE]->(t140),(t135)-[:COLLEAGUE]->(t141),(t135)-[:COLLEAGUE]->(t142),(t136)-[:COLLEAGUE]->(t121),(t136)-[:COLLEAGUE]->(t122),(t136)-[:COLLEAGUE]->(t123),(t136)-[:COLLEAGUE]->(t124),(t136)-[:COLLEAGUE]->(t125),(t136)-[:COLLEAGUE]->(t126),(t136)-[:COLLEAGUE]->(t127),(t136)-[:COLLEAGUE]->(t128),(t136)-[:COLLEAGUE]->(t129),(t136)-[:COLLEAGUE]->(t130),(t136)-[:COLLEAGUE]->(t131),(t136)-[:COLLEAGUE]->(t132),(t136)-[:COLLEAGUE]->(t133),(t136)-[:COLLEAGUE]->(t134),(t136)-[:COLLEAGUE]->(t135),(t136)-[:COLLEAGUE]->(t137),(t136)-[:COLLEAGUE]->(t138),(t136)-[:COLLEAGUE]->(t139),(t136)-[:COLLEAGUE]->(t140),(t136)-[:COLLEAGUE]->(t141),(t136)-[:COLLEAGUE]->(t142),(t137)-[:COLLEAGUE]->(t121),(t137)-[:COLLEAGUE]->(t122),(t137)-[:COLLEAGUE]->(t123),(t137)-[:COLLEAGUE]->(t124),(t137)-[:COLLEAGUE]->(t125),(t137)-[:COLLEAGUE]->(t126),(t137)-[:COLLEAGUE]->(t127),(t137)-[:COLLEAGUE]->(t128),(t137)-[:COLLEAGUE]->(t129),(t137)-[:COLLEAGUE]->(t130),(t137)-[:COLLEAGUE]->(t131),(t137)-[:COLLEAGUE]->(t132),(t137)-[:COLLEAGUE]->(t133),(t137)-[:COLLEAGUE]->(t134),(t137)-[:COLLEAGUE]->(t135),(t137)-[:COLLEAGUE]->(t136),(t137)-[:COLLEAGUE]->(t138),(t137)-[:COLLEAGUE]->(t139),(t137)-[:COLLEAGUE]->(t140),(t137)-[:COLLEAGUE]->(t141),(t137)-[:COLLEAGUE]->(t142),(t138)-[:COLLEAGUE]->(t121),(t138)-[:COLLEAGUE]->(t122),(t138)-[:COLLEAGUE]->(t123),(t138)-[:COLLEAGUE]->(t124),(t138)-[:COLLEAGUE]->(t125),(t138)-[:COLLEAGUE]->(t126),(t138)-[:COLLEAGUE]->(t127),(t138)-[:COLLEAGUE]->(t128),(t138)-[:COLLEAGUE]->(t129),(t138)-[:COLLEAGUE]->(t130),(t138)-[:COLLEAGUE]->(t131),(t138)-[:COLLEAGUE]->(t132),(t138)-[:COLLEAGUE]->(t133),(t138)-[:COLLEAGUE]->(t134),(t138)-[:COLLEAGUE]->(t135),(t138)-[:COLLEAGUE]->(t136),(t138)-[:COLLEAGUE]->(t137),(t138)-[:COLLEAGUE]->(t139),(t138)-[:COLLEAGUE]->(t140),(t138)-[:COLLEAGUE]->(t141),(t138)-[:COLLEAGUE]->(t142),(t139)-[:COLLEAGUE]->(t121),(t139)-[:COLLEAGUE]->(t122),(t139)-[:COLLEAGUE]->(t123),(t139)-[:COLLEAGUE]->(t124),(t139)-[:COLLEAGUE]->(t125),(t139)-[:COLLEAGUE]->(t126),(t139)-[:COLLEAGUE]->(t127),(t139)-[:COLLEAGUE]->(t128),(t139)-[:COLLEAGUE]->(t129),(t139)-[:COLLEAGUE]->(t130),(t139)-[:COLLEAGUE]->(t131),(t139)-[:COLLEAGUE]->(t132),(t139)-[:COLLEAGUE]->(t133),(t139)-[:COLLEAGUE]->(t134),(t139)-[:COLLEAGUE]->(t135),(t139)-[:COLLEAGUE]->(t136),(t139)-[:COLLEAGUE]->(t137),(t139)-[:COLLEAGUE]->(t138),(t139)-[:COLLEAGUE]->(t140),(t139)-[:COLLEAGUE]->(t141),(t139)-[:COLLEAGUE]->(t142),(t140)-[:COLLEAGUE]->(t121),(t140)-[:COLLEAGUE]->(t122),(t140)-[:COLLEAGUE]->(t123),(t140)-[:COLLEAGUE]->(t124),(t140)-[:COLLEAGUE]->(t125),(t140)-[:COLLEAGUE]->(t126),(t140)-[:COLLEAGUE]->(t127),(t140)-[:COLLEAGUE]->(t128),(t140)-[:COLLEAGUE]->(t129),(t140)-[:COLLEAGUE]->(t130),(t140)-[:COLLEAGUE]->(t131),(t140)-[:COLLEAGUE]->(t132),(t140)-[:COLLEAGUE]->(t133),(t140)-[:COLLEAGUE]->(t134),(t140)-[:COLLEAGUE]->(t135),(t140)-[:COLLEAGUE]->(t136),(t140)-[:COLLEAGUE]->(t137),(t140)-[:COLLEAGUE]->(t138),(t140)-[:COLLEAGUE]->(t139),(t140)-[:COLLEAGUE]->(t141),(t140)-[:COLLEAGUE]->(t142),(t141)-[:COLLEAGUE]->(t121),(t141)-[:COLLEAGUE]->(t122),(t141)-[:COLLEAGUE]->(t123),(t141)-[:COLLEAGUE]->(t124),(t141)-[:COLLEAGUE]->(t125),(t141)-[:COLLEAGUE]->(t126),(t141)-[:COLLEAGUE]->(t127),(t141)-[:COLLEAGUE]->(t128),(t141)-[:COLLEAGUE]->(t129),(t141)-[:COLLEAGUE]->(t130),(t141)-[:COLLEAGUE]->(t131),(t141)-[:COLLEAGUE]->(t132),(t141)-[:COLLEAGUE]->(t133),(t141)-[:COLLEAGUE]->(t134),(t141)-[:COLLEAGUE]->(t135),(t141)-[:COLLEAGUE]->(t136),(t141)-[:COLLEAGUE]->(t137),(t141)-[:COLLEAGUE]->(t138),(t141)-[:COLLEAGUE]->(t139),(t141)-[:COLLEAGUE]->(t140),(t141)-[:COLLEAGUE]->(t142),(t142)-[:COLLEAGUE]->(t121),(t142)-[:COLLEAGUE]->(t122),(t142)-[:COLLEAGUE]->(t123),(t142)-[:COLLEAGUE]->(t124),(t142)-[:COLLEAGUE]->(t125),(t142)-[:COLLEAGUE]->(t126),(t142)-[:COLLEAGUE]->(t127),(t142)-[:COLLEAGUE]->(t128),(t142)-[:COLLEAGUE]->(t129),(t142)-[:COLLEAGUE]->(t130),(t142)-[:COLLEAGUE]->(t131),(t142)-[:COLLEAGUE]->(t132),(t142)-[:COLLEAGUE]->(t133),(t142)-[:COLLEAGUE]->(t134),(t142)-[:COLLEAGUE]->(t135),(t142)-[:COLLEAGUE]->(t136),(t142)-[:COLLEAGUE]->(t137),(t142)-[:COLLEAGUE]->(t138),(t142)-[:COLLEAGUE]->(t139),(t142)-[:COLLEAGUE]->(t140),(t142)-[:COLLEAGUE]->(t141),(t143)-[:COLLEAGUE]->(t144),(t143)-[:COLLEAGUE]->(t145),(t143)-[:COLLEAGUE]->(t146),(t143)-[:COLLEAGUE]->(t147),(t143)-[:COLLEAGUE]->(t148),(t143)-[:COLLEAGUE]->(t149),(t143)-[:COLLEAGUE]->(t150),(t143)-[:COLLEAGUE]->(t151),(t143)-[:COLLEAGUE]->(t152),(t143)-[:COLLEAGUE]->(t153),(t143)-[:COLLEAGUE]->(t154),(t143)-[:COLLEAGUE]->(t155),(t143)-[:COLLEAGUE]->(t156),(t143)-[:COLLEAGUE]->(t157),(t143)-[:COLLEAGUE]->(t158),(t143)-[:COLLEAGUE]->(t159),(t143)-[:COLLEAGUE]->(t160),(t143)-[:COLLEAGUE]->(t161),(t143)-[:COLLEAGUE]->(t162),(t143)-[:COLLEAGUE]->(t163),(t143)-[:COLLEAGUE]->(t164),(t143)-[:COLLEAGUE]->(t165),(t143)-[:COLLEAGUE]->(t166),(t143)-[:COLLEAGUE]->(t167),(t144)-[:COLLEAGUE]->(t143),(t144)-[:COLLEAGUE]->(t145),(t144)-[:COLLEAGUE]->(t146),(t144)-[:COLLEAGUE]->(t147),(t144)-[:COLLEAGUE]->(t148),(t144)-[:COLLEAGUE]->(t149),(t144)-[:COLLEAGUE]->(t150),(t144)-[:COLLEAGUE]->(t151),(t144)-[:COLLEAGUE]->(t152),(t144)-[:COLLEAGUE]->(t153),(t144)-[:COLLEAGUE]->(t154),(t144)-[:COLLEAGUE]->(t155),(t144)-[:COLLEAGUE]->(t156),(t144)-[:COLLEAGUE]->(t157),(t144)-[:COLLEAGUE]->(t158),(t144)-[:COLLEAGUE]->(t159),(t144)-[:COLLEAGUE]->(t160),(t144)-[:COLLEAGUE]->(t161),(t144)-[:COLLEAGUE]->(t162),(t144)-[:COLLEAGUE]->(t163),(t144)-[:COLLEAGUE]->(t164),(t144)-[:COLLEAGUE]->(t165),(t144)-[:COLLEAGUE]->(t166),(t144)-[:COLLEAGUE]->(t167),(t145)-[:COLLEAGUE]->(t143),(t145)-[:COLLEAGUE]->(t144),(t145)-[:COLLEAGUE]->(t146),(t145)-[:COLLEAGUE]->(t147),(t145)-[:COLLEAGUE]->(t148),(t145)-[:COLLEAGUE]->(t149),(t145)-[:COLLEAGUE]->(t150),(t145)-[:COLLEAGUE]->(t151),(t145)-[:COLLEAGUE]->(t152),(t145)-[:COLLEAGUE]->(t153),(t145)-[:COLLEAGUE]->(t154),(t145)-[:COLLEAGUE]->(t155),(t145)-[:COLLEAGUE]->(t156),(t145)-[:COLLEAGUE]->(t157),(t145)-[:COLLEAGUE]->(t158),(t145)-[:COLLEAGUE]->(t159),(t145)-[:COLLEAGUE]->(t160),(t145)-[:COLLEAGUE]->(t161),(t145)-[:COLLEAGUE]->(t162),(t145)-[:COLLEAGUE]->(t163),(t145)-[:COLLEAGUE]->(t164),(t145)-[:COLLEAGUE]->(t165),(t145)-[:COLLEAGUE]->(t166),(t145)-[:COLLEAGUE]->(t167),(t146)-[:COLLEAGUE]->(t143),(t146)-[:COLLEAGUE]->(t144),(t146)-[:COLLEAGUE]->(t145),(t146)-[:COLLEAGUE]->(t147),(t146)-[:COLLEAGUE]->(t148),(t146)-[:COLLEAGUE]->(t149),(t146)-[:COLLEAGUE]->(t150),(t146)-[:COLLEAGUE]->(t151),(t146)-[:COLLEAGUE]->(t152),(t146)-[:COLLEAGUE]->(t153),(t146)-[:COLLEAGUE]->(t154),(t146)-[:COLLEAGUE]->(t155),(t146)-[:COLLEAGUE]->(t156),(t146)-[:COLLEAGUE]->(t157),(t146)-[:COLLEAGUE]->(t158),(t146)-[:COLLEAGUE]->(t159),(t146)-[:COLLEAGUE]->(t160),(t146)-[:COLLEAGUE]->(t161),(t146)-[:COLLEAGUE]->(t162),(t146)-[:COLLEAGUE]->(t163),(t146)-[:COLLEAGUE]->(t164),(t146)-[:COLLEAGUE]->(t165),(t146)-[:COLLEAGUE]->(t166),(t146)-[:COLLEAGUE]->(t167),(t147)-[:COLLEAGUE]->(t143),(t147)-[:COLLEAGUE]->(t144),(t147)-[:COLLEAGUE]->(t145),(t147)-[:COLLEAGUE]->(t146),(t147)-[:COLLEAGUE]->(t148),(t147)-[:COLLEAGUE]->(t149),(t147)-[:COLLEAGUE]->(t150),(t147)-[:COLLEAGUE]->(t151),(t147)-[:COLLEAGUE]->(t152),(t147)-[:COLLEAGUE]->(t153),(t147)-[:COLLEAGUE]->(t154),(t147)-[:COLLEAGUE]->(t155),(t147)-[:COLLEAGUE]->(t156),(t147)-[:COLLEAGUE]->(t157),(t147)-[:COLLEAGUE]->(t158),(t147)-[:COLLEAGUE]->(t159),(t147)-[:COLLEAGUE]->(t160),(t147)-[:COLLEAGUE]->(t161),(t147)-[:COLLEAGUE]->(t162),(t147)-[:COLLEAGUE]->(t163),(t147)-[:COLLEAGUE]->(t164),(t147)-[:COLLEAGUE]->(t165),(t147)-[:COLLEAGUE]->(t166),(t147)-[:COLLEAGUE]->(t167),(t148)-[:COLLEAGUE]->(t143),(t148)-[:COLLEAGUE]->(t144),(t148)-[:COLLEAGUE]->(t145),(t148)-[:COLLEAGUE]->(t146),(t148)-[:COLLEAGUE]->(t147),(t148)-[:COLLEAGUE]->(t149),(t148)-[:COLLEAGUE]->(t150),(t148)-[:COLLEAGUE]->(t151),(t148)-[:COLLEAGUE]->(t152),(t148)-[:COLLEAGUE]->(t153),(t148)-[:COLLEAGUE]->(t154),(t148)-[:COLLEAGUE]->(t155),(t148)-[:COLLEAGUE]->(t156),(t148)-[:COLLEAGUE]->(t157),(t148)-[:COLLEAGUE]->(t158),(t148)-[:COLLEAGUE]->(t159),(t148)-[:COLLEAGUE]->(t160),(t148)-[:COLLEAGUE]->(t161),(t148)-[:COLLEAGUE]->(t162),(t148)-[:COLLEAGUE]->(t163),(t148)-[:COLLEAGUE]->(t164),(t148)-[:COLLEAGUE]->(t165),(t148)-[:COLLEAGUE]->(t166),(t148)-[:COLLEAGUE]->(t167),(t149)-[:COLLEAGUE]->(t143),(t149)-[:COLLEAGUE]->(t144),(t149)-[:COLLEAGUE]->(t145),(t149)-[:COLLEAGUE]->(t146),(t149)-[:COLLEAGUE]->(t147),(t149)-[:COLLEAGUE]->(t148),(t149)-[:COLLEAGUE]->(t150),(t149)-[:COLLEAGUE]->(t151),(t149)-[:COLLEAGUE]->(t152),(t149)-[:COLLEAGUE]->(t153),(t149)-[:COLLEAGUE]->(t154),(t149)-[:COLLEAGUE]->(t155),(t149)-[:COLLEAGUE]->(t156),(t149)-[:COLLEAGUE]->(t157),(t149)-[:COLLEAGUE]->(t158),(t149)-[:COLLEAGUE]->(t159),(t149)-[:COLLEAGUE]->(t160),(t149)-[:COLLEAGUE]->(t161),(t149)-[:COLLEAGUE]->(t162),(t149)-[:COLLEAGUE]->(t163),(t149)-[:COLLEAGUE]->(t164),(t149)-[:COLLEAGUE]->(t165),(t149)-[:COLLEAGUE]->(t166),(t149)-[:COLLEAGUE]->(t167),(t150)-[:COLLEAGUE]->(t143),(t150)-[:COLLEAGUE]->(t144),(t150)-[:COLLEAGUE]->(t145),(t150)-[:COLLEAGUE]->(t146),(t150)-[:COLLEAGUE]->(t147),(t150)-[:COLLEAGUE]->(t148),(t150)-[:COLLEAGUE]->(t149),(t150)-[:COLLEAGUE]->(t151),(t150)-[:COLLEAGUE]->(t152),(t150)-[:COLLEAGUE]->(t153),(t150)-[:COLLEAGUE]->(t154),(t150)-[:COLLEAGUE]->(t155),(t150)-[:COLLEAGUE]->(t156),(t150)-[:COLLEAGUE]->(t157),(t150)-[:COLLEAGUE]->(t158),(t150)-[:COLLEAGUE]->(t159),(t150)-[:COLLEAGUE]->(t160),(t150)-[:COLLEAGUE]->(t161),(t150)-[:COLLEAGUE]->(t162),(t150)-[:COLLEAGUE]->(t163),(t150)-[:COLLEAGUE]->(t164),(t150)-[:COLLEAGUE]->(t165),(t150)-[:COLLEAGUE]->(t166),(t150)-[:COLLEAGUE]->(t167),(t151)-[:COLLEAGUE]->(t143),(t151)-[:COLLEAGUE]->(t144),(t151)-[:COLLEAGUE]->(t145),(t151)-[:COLLEAGUE]->(t146),(t151)-[:COLLEAGUE]->(t147),(t151)-[:COLLEAGUE]->(t148),(t151)-[:COLLEAGUE]->(t149),(t151)-[:COLLEAGUE]->(t150),(t151)-[:COLLEAGUE]->(t152),(t151)-[:COLLEAGUE]->(t153),(t151)-[:COLLEAGUE]->(t154),(t151)-[:COLLEAGUE]->(t155),(t151)-[:COLLEAGUE]->(t156),(t151)-[:COLLEAGUE]->(t157),(t151)-[:COLLEAGUE]->(t158),(t151)-[:COLLEAGUE]->(t159),(t151)-[:COLLEAGUE]->(t160),(t151)-[:COLLEAGUE]->(t161),(t151)-[:COLLEAGUE]->(t162),(t151)-[:COLLEAGUE]->(t163),(t151)-[:COLLEAGUE]->(t164),(t151)-[:COLLEAGUE]->(t165),(t151)-[:COLLEAGUE]->(t166),(t151)-[:COLLEAGUE]->(t167),(t152)-[:COLLEAGUE]->(t143),(t152)-[:COLLEAGUE]->(t144),(t152)-[:COLLEAGUE]->(t145),(t152)-[:COLLEAGUE]->(t146),(t152)-[:COLLEAGUE]->(t147),(t152)-[:COLLEAGUE]->(t148),(t152)-[:COLLEAGUE]->(t149),(t152)-[:COLLEAGUE]->(t150),(t152)-[:COLLEAGUE]->(t151),(t152)-[:COLLEAGUE]->(t153),(t152)-[:COLLEAGUE]->(t154),(t152)-[:COLLEAGUE]->(t155),(t152)-[:COLLEAGUE]->(t156),(t152)-[:COLLEAGUE]->(t157),(t152)-[:COLLEAGUE]->(t158),(t152)-[:COLLEAGUE]->(t159),(t152)-[:COLLEAGUE]->(t160),(t152)-[:COLLEAGUE]->(t161),(t152)-[:COLLEAGUE]->(t162),(t152)-[:COLLEAGUE]->(t163),(t152)-[:COLLEAGUE]->(t164),(t152)-[:COLLEAGUE]->(t165),(t152)-[:COLLEAGUE]->(t166),(t152)-[:COLLEAGUE]->(t167),(t153)-[:COLLEAGUE]->(t143),(t153)-[:COLLEAGUE]->(t144),(t153)-[:COLLEAGUE]->(t145),(t153)-[:COLLEAGUE]->(t146),(t153)-[:COLLEAGUE]->(t147),(t153)-[:COLLEAGUE]->(t148),(t153)-[:COLLEAGUE]->(t149),(t153)-[:COLLEAGUE]->(t150),(t153)-[:COLLEAGUE]->(t151),(t153)-[:COLLEAGUE]->(t152),(t153)-[:COLLEAGUE]->(t154),(t153)-[:COLLEAGUE]->(t155),(t153)-[:COLLEAGUE]->(t156),(t153)-[:COLLEAGUE]->(t157),(t153)-[:COLLEAGUE]->(t158),(t153)-[:COLLEAGUE]->(t159),(t153)-[:COLLEAGUE]->(t160),(t153)-[:COLLEAGUE]->(t161),(t153)-[:COLLEAGUE]->(t162),(t153)-[:COLLEAGUE]->(t163),(t153)-[:COLLEAGUE]->(t164),(t153)-[:COLLEAGUE]->(t165),(t153)-[:COLLEAGUE]->(t166),(t153)-[:COLLEAGUE]->(t167),(t154)-[:COLLEAGUE]->(t143),(t154)-[:COLLEAGUE]->(t144),(t154)-[:COLLEAGUE]->(t145),(t154)-[:COLLEAGUE]->(t146),(t154)-[:COLLEAGUE]->(t147),(t154)-[:COLLEAGUE]->(t148),(t154)-[:COLLEAGUE]->(t149),(t154)-[:COLLEAGUE]->(t150),(t154)-[:COLLEAGUE]->(t151),(t154)-[:COLLEAGUE]->(t152),(t154)-[:COLLEAGUE]->(t153),(t154)-[:COLLEAGUE]->(t155),(t154)-[:COLLEAGUE]->(t156),(t154)-[:COLLEAGUE]->(t157),(t154)-[:COLLEAGUE]->(t158),(t154)-[:COLLEAGUE]->(t159),(t154)-[:COLLEAGUE]->(t160),(t154)-[:COLLEAGUE]->(t161),(t154)-[:COLLEAGUE]->(t162),(t154)-[:COLLEAGUE]->(t163),(t154)-[:COLLEAGUE]->(t164),(t154)-[:COLLEAGUE]->(t165),(t154)-[:COLLEAGUE]->(t166),(t154)-[:COLLEAGUE]->(t167),(t155)-[:COLLEAGUE]->(t143),(t155)-[:COLLEAGUE]->(t144),(t155)-[:COLLEAGUE]->(t145),(t155)-[:COLLEAGUE]->(t146),(t155)-[:COLLEAGUE]->(t147),(t155)-[:COLLEAGUE]->(t148),(t155)-[:COLLEAGUE]->(t149),(t155)-[:COLLEAGUE]->(t150),(t155)-[:COLLEAGUE]->(t151),(t155)-[:COLLEAGUE]->(t152),(t155)-[:COLLEAGUE]->(t153),(t155)-[:COLLEAGUE]->(t154),(t155)-[:COLLEAGUE]->(t156),(t155)-[:COLLEAGUE]->(t157),(t155)-[:COLLEAGUE]->(t158),(t155)-[:COLLEAGUE]->(t159),(t155)-[:COLLEAGUE]->(t160),(t155)-[:COLLEAGUE]->(t161),(t155)-[:COLLEAGUE]->(t162),(t155)-[:COLLEAGUE]->(t163),(t155)-[:COLLEAGUE]->(t164),(t155)-[:COLLEAGUE]->(t165),(t155)-[:COLLEAGUE]->(t166),(t155)-[:COLLEAGUE]->(t167),(t156)-[:COLLEAGUE]->(t143),(t156)-[:COLLEAGUE]->(t144),(t156)-[:COLLEAGUE]->(t145),(t156)-[:COLLEAGUE]->(t146),(t156)-[:COLLEAGUE]->(t147),(t156)-[:COLLEAGUE]->(t148),(t156)-[:COLLEAGUE]->(t149),(t156)-[:COLLEAGUE]->(t150),(t156)-[:COLLEAGUE]->(t151),(t156)-[:COLLEAGUE]->(t152),(t156)-[:COLLEAGUE]->(t153),(t156)-[:COLLEAGUE]->(t154),(t156)-[:COLLEAGUE]->(t155),(t156)-[:COLLEAGUE]->(t157),(t156)-[:COLLEAGUE]->(t158),(t156)-[:COLLEAGUE]->(t159),(t156)-[:COLLEAGUE]->(t160),(t156)-[:COLLEAGUE]->(t161),(t156)-[:COLLEAGUE]->(t162),(t156)-[:COLLEAGUE]->(t163),(t156)-[:COLLEAGUE]->(t164),(t156)-[:COLLEAGUE]->(t165),(t156)-[:COLLEAGUE]->(t166),(t156)-[:COLLEAGUE]->(t167),(t157)-[:COLLEAGUE]->(t143),(t157)-[:COLLEAGUE]->(t144),(t157)-[:COLLEAGUE]->(t145),(t157)-[:COLLEAGUE]->(t146),(t157)-[:COLLEAGUE]->(t147),(t157)-[:COLLEAGUE]->(t148),(t157)-[:COLLEAGUE]->(t149),(t157)-[:COLLEAGUE]->(t150),(t157)-[:COLLEAGUE]->(t151),(t157)-[:COLLEAGUE]->(t152),(t157)-[:COLLEAGUE]->(t153),(t157)-[:COLLEAGUE]->(t154),(t157)-[:COLLEAGUE]->(t155),(t157)-[:COLLEAGUE]->(t156),(t157)-[:COLLEAGUE]->(t158),(t157)-[:COLLEAGUE]->(t159),(t157)-[:COLLEAGUE]->(t160),(t157)-[:COLLEAGUE]->(t161),(t157)-[:COLLEAGUE]->(t162),(t157)-[:COLLEAGUE]->(t163),(t157)-[:COLLEAGUE]->(t164),(t157)-[:COLLEAGUE]->(t165),(t157)-[:COLLEAGUE]->(t166),(t157)-[:COLLEAGUE]->(t167),(t158)-[:COLLEAGUE]->(t143),(t158)-[:COLLEAGUE]->(t144),(t158)-[:COLLEAGUE]->(t145),(t158)-[:COLLEAGUE]->(t146),(t158)-[:COLLEAGUE]->(t147),(t158)-[:COLLEAGUE]->(t148),(t158)-[:COLLEAGUE]->(t149),(t158)-[:COLLEAGUE]->(t150),(t158)-[:COLLEAGUE]->(t151),(t158)-[:COLLEAGUE]->(t152),(t158)-[:COLLEAGUE]->(t153),(t158)-[:COLLEAGUE]->(t154),(t158)-[:COLLEAGUE]->(t155),(t158)-[:COLLEAGUE]->(t156),(t158)-[:COLLEAGUE]->(t157),(t158)-[:COLLEAGUE]->(t159),(t158)-[:COLLEAGUE]->(t160),(t158)-[:COLLEAGUE]->(t161),(t158)-[:COLLEAGUE]->(t162),(t158)-[:COLLEAGUE]->(t163),(t158)-[:COLLEAGUE]->(t164),(t158)-[:COLLEAGUE]->(t165),(t158)-[:COLLEAGUE]->(t166),(t158)-[:COLLEAGUE]->(t167),(t159)-[:COLLEAGUE]->(t143),(t159)-[:COLLEAGUE]->(t144),(t159)-[:COLLEAGUE]->(t145),(t159)-[:COLLEAGUE]->(t146),(t159)-[:COLLEAGUE]->(t147),(t159)-[:COLLEAGUE]->(t148),(t159)-[:COLLEAGUE]->(t149),(t159)-[:COLLEAGUE]->(t150),(t159)-[:COLLEAGUE]->(t151),(t159)-[:COLLEAGUE]->(t152),(t159)-[:COLLEAGUE]->(t153),(t159)-[:COLLEAGUE]->(t154),(t159)-[:COLLEAGUE]->(t155),(t159)-[:COLLEAGUE]->(t156),(t159)-[:COLLEAGUE]->(t157),(t159)-[:COLLEAGUE]->(t158),(t159)-[:COLLEAGUE]->(t160),(t159)-[:COLLEAGUE]->(t161),(t159)-[:COLLEAGUE]->(t162),(t159)-[:COLLEAGUE]->(t163),(t159)-[:COLLEAGUE]->(t164),(t159)-[:COLLEAGUE]->(t165),(t159)-[:COLLEAGUE]->(t166),(t159)-[:COLLEAGUE]->(t167),(t160)-[:COLLEAGUE]->(t143),(t160)-[:COLLEAGUE]->(t144),(t160)-[:COLLEAGUE]->(t145),(t160)-[:COLLEAGUE]->(t146),(t160)-[:COLLEAGUE]->(t147),(t160)-[:COLLEAGUE]->(t148),(t160)-[:COLLEAGUE]->(t149),(t160)-[:COLLEAGUE]->(t150),(t160)-[:COLLEAGUE]->(t151),(t160)-[:COLLEAGUE]->(t152),(t160)-[:COLLEAGUE]->(t153),(t160)-[:COLLEAGUE]->(t154),(t160)-[:COLLEAGUE]->(t155),(t160)-[:COLLEAGUE]->(t156),(t160)-[:COLLEAGUE]->(t157),(t160)-[:COLLEAGUE]->(t158),(t160)-[:COLLEAGUE]->(t159),(t160)-[:COLLEAGUE]->(t161),(t160)-[:COLLEAGUE]->(t162),(t160)-[:COLLEAGUE]->(t163),(t160)-[:COLLEAGUE]->(t164),(t160)-[:COLLEAGUE]->(t165),(t160)-[:COLLEAGUE]->(t166),(t160)-[:COLLEAGUE]->(t167),(t161)-[:COLLEAGUE]->(t143),(t161)-[:COLLEAGUE]->(t144),(t161)-[:COLLEAGUE]->(t145),(t161)-[:COLLEAGUE]->(t146),(t161)-[:COLLEAGUE]->(t147),(t161)-[:COLLEAGUE]->(t148),(t161)-[:COLLEAGUE]->(t149),(t161)-[:COLLEAGUE]->(t150),(t161)-[:COLLEAGUE]->(t151),(t161)-[:COLLEAGUE]->(t152),(t161)-[:COLLEAGUE]->(t153),(t161)-[:COLLEAGUE]->(t154),(t161)-[:COLLEAGUE]->(t155),(t161)-[:COLLEAGUE]->(t156),(t161)-[:COLLEAGUE]->(t157),(t161)-[:COLLEAGUE]->(t158),(t161)-[:COLLEAGUE]->(t159),(t161)-[:COLLEAGUE]->(t160),(t161)-[:COLLEAGUE]->(t162),(t161)-[:COLLEAGUE]->(t163),(t161)-[:COLLEAGUE]->(t164),(t161)-[:COLLEAGUE]->(t165),(t161)-[:COLLEAGUE]->(t166),(t161)-[:COLLEAGUE]->(t167),(t162)-[:COLLEAGUE]->(t143),(t162)-[:COLLEAGUE]->(t144),(t162)-[:COLLEAGUE]->(t145),(t162)-[:COLLEAGUE]->(t146),(t162)-[:COLLEAGUE]->(t147),(t162)-[:COLLEAGUE]->(t148),(t162)-[:COLLEAGUE]->(t149),(t162)-[:COLLEAGUE]->(t150),(t162)-[:COLLEAGUE]->(t151),(t162)-[:COLLEAGUE]->(t152),(t162)-[:COLLEAGUE]->(t153),(t162)-[:COLLEAGUE]->(t154),(t162)-[:COLLEAGUE]->(t155),(t162)-[:COLLEAGUE]->(t156),(t162)-[:COLLEAGUE]->(t157),(t162)-[:COLLEAGUE]->(t158),(t162)-[:COLLEAGUE]->(t159),(t162)-[:COLLEAGUE]->(t160),(t162)-[:COLLEAGUE]->(t161),(t162)-[:COLLEAGUE]->(t163),(t162)-[:COLLEAGUE]->(t164),(t162)-[:COLLEAGUE]->(t165),(t162)-[:COLLEAGUE]->(t166),(t162)-[:COLLEAGUE]->(t167),(t163)-[:COLLEAGUE]->(t143),(t163)-[:COLLEAGUE]->(t144),(t163)-[:COLLEAGUE]->(t145),(t163)-[:COLLEAGUE]->(t146),(t163)-[:COLLEAGUE]->(t147),(t163)-[:COLLEAGUE]->(t148),(t163)-[:COLLEAGUE]->(t149),(t163)-[:COLLEAGUE]->(t150),(t163)-[:COLLEAGUE]->(t151),(t163)-[:COLLEAGUE]->(t152),(t163)-[:COLLEAGUE]->(t153),(t163)-[:COLLEAGUE]->(t154),(t163)-[:COLLEAGUE]->(t155),(t163)-[:COLLEAGUE]->(t156),(t163)-[:COLLEAGUE]->(t157),(t163)-[:COLLEAGUE]->(t158),(t163)-[:COLLEAGUE]->(t159),(t163)-[:COLLEAGUE]->(t160),(t163)-[:COLLEAGUE]->(t161),(t163)-[:COLLEAGUE]->(t162),(t163)-[:COLLEAGUE]->(t164),(t163)-[:COLLEAGUE]->(t165),(t163)-[:COLLEAGUE]->(t166),(t163)-[:COLLEAGUE]->(t167),(t164)-[:COLLEAGUE]->(t143),(t164)-[:COLLEAGUE]->(t144),(t164)-[:COLLEAGUE]->(t145),(t164)-[:COLLEAGUE]->(t146),(t164)-[:COLLEAGUE]->(t147),(t164)-[:COLLEAGUE]->(t148),(t164)-[:COLLEAGUE]->(t149),(t164)-[:COLLEAGUE]->(t150),(t164)-[:COLLEAGUE]->(t151),(t164)-[:COLLEAGUE]->(t152),(t164)-[:COLLEAGUE]->(t153),(t164)-[:COLLEAGUE]->(t154),(t164)-[:COLLEAGUE]->(t155),(t164)-[:COLLEAGUE]->(t156),(t164)-[:COLLEAGUE]->(t157),(t164)-[:COLLEAGUE]->(t158),(t164)-[:COLLEAGUE]->(t159),(t164)-[:COLLEAGUE]->(t160),(t164)-[:COLLEAGUE]->(t161),(t164)-[:COLLEAGUE]->(t162),(t164)-[:COLLEAGUE]->(t163),(t164)-[:COLLEAGUE]->(t165),(t164)-[:COLLEAGUE]->(t166),(t164)-[:COLLEAGUE]->(t167),(t165)-[:COLLEAGUE]->(t143),(t165)-[:COLLEAGUE]->(t144),(t165)-[:COLLEAGUE]->(t145),(t165)-[:COLLEAGUE]->(t146),(t165)-[:COLLEAGUE]->(t147),(t165)-[:COLLEAGUE]->(t148),(t165)-[:COLLEAGUE]->(t149),(t165)-[:COLLEAGUE]->(t150),(t165)-[:COLLEAGUE]->(t151),(t165)-[:COLLEAGUE]->(t152),(t165)-[:COLLEAGUE]->(t153),(t165)-[:COLLEAGUE]->(t154),(t165)-[:COLLEAGUE]->(t155),(t165)-[:COLLEAGUE]->(t156),(t165)-[:COLLEAGUE]->(t157),(t165)-[:COLLEAGUE]->(t158),(t165)-[:COLLEAGUE]->(t159),(t165)-[:COLLEAGUE]->(t160),(t165)-[:COLLEAGUE]->(t161),(t165)-[:COLLEAGUE]->(t162),(t165)-[:COLLEAGUE]->(t163),(t165)-[:COLLEAGUE]->(t164),(t165)-[:COLLEAGUE]->(t166),(t165)-[:COLLEAGUE]->(t167),(t166)-[:COLLEAGUE]->(t143),(t166)-[:COLLEAGUE]->(t144),(t166)-[:COLLEAGUE]->(t145),(t166)-[:COLLEAGUE]->(t146),(t166)-[:COLLEAGUE]->(t147),(t166)-[:COLLEAGUE]->(t148),(t166)-[:COLLEAGUE]->(t149),(t166)-[:COLLEAGUE]->(t150),(t166)-[:COLLEAGUE]->(t151),(t166)-[:COLLEAGUE]->(t152),(t166)-[:COLLEAGUE]->(t153),(t166)-[:COLLEAGUE]->(t154),(t166)-[:COLLEAGUE]->(t155),(t166)-[:COLLEAGUE]->(t156),(t166)-[:COLLEAGUE]->(t157),(t166)-[:COLLEAGUE]->(t158),(t166)-[:COLLEAGUE]->(t159),(t166)-[:COLLEAGUE]->(t160),(t166)-[:COLLEAGUE]->(t161),(t166)-[:COLLEAGUE]->(t162),(t166)-[:COLLEAGUE]->(t163),(t166)-[:COLLEAGUE]->(t164),(t166)-[:COLLEAGUE]->(t165),(t166)-[:COLLEAGUE]->(t167),(t167)-[:COLLEAGUE]->(t143),(t167)-[:COLLEAGUE]->(t144),(t167)-[:COLLEAGUE]->(t145),(t167)-[:COLLEAGUE]->(t146),(t167)-[:COLLEAGUE]->(t147),(t167)-[:COLLEAGUE]->(t148),(t167)-[:COLLEAGUE]->(t149),(t167)-[:COLLEAGUE]->(t150),(t167)-[:COLLEAGUE]->(t151),(t167)-[:COLLEAGUE]->(t152),(t167)-[:COLLEAGUE]->(t153),(t167)-[:COLLEAGUE]->(t154),(t167)-[:COLLEAGUE]->(t155),(t167)-[:COLLEAGUE]->(t156),(t167)-[:COLLEAGUE]->(t157),(t167)-[:COLLEAGUE]->(t158),(t167)-[:COLLEAGUE]->(t159),(t167)-[:COLLEAGUE]->(t160),(t167)-[:COLLEAGUE]->(t161),(t167)-[:COLLEAGUE]->(t162),(t167)-[:COLLEAGUE]->(t163),(t167)-[:COLLEAGUE]->(t164),(t167)-[:COLLEAGUE]->(t165),(t167)-[:COLLEAGUE]->(t166),(t168)-[:COLLEAGUE]->(t169),(t168)-[:COLLEAGUE]->(t170),(t168)-[:COLLEAGUE]->(t171),(t168)-[:COLLEAGUE]->(t172),(t168)-[:COLLEAGUE]->(t173),(t168)-[:COLLEAGUE]->(t174),(t168)-[:COLLEAGUE]->(t175),(t168)-[:COLLEAGUE]->(t176),(t168)-[:COLLEAGUE]->(t177),(t168)-[:COLLEAGUE]->(t178),(t168)-[:COLLEAGUE]->(t179),(t168)-[:COLLEAGUE]->(t180),(t168)-[:COLLEAGUE]->(t181),(t168)-[:COLLEAGUE]->(t182),(t168)-[:COLLEAGUE]->(t183),(t168)-[:COLLEAGUE]->(t184),(t168)-[:COLLEAGUE]->(t185),(t168)-[:COLLEAGUE]->(t186),(t168)-[:COLLEAGUE]->(t187),(t168)-[:COLLEAGUE]->(t188),(t168)-[:COLLEAGUE]->(t189),(t169)-[:COLLEAGUE]->(t168),(t169)-[:COLLEAGUE]->(t170),(t169)-[:COLLEAGUE]->(t171),(t169)-[:COLLEAGUE]->(t172),(t169)-[:COLLEAGUE]->(t173),(t169)-[:COLLEAGUE]->(t174),(t169)-[:COLLEAGUE]->(t175),(t169)-[:COLLEAGUE]->(t176),(t169)-[:COLLEAGUE]->(t177),(t169)-[:COLLEAGUE]->(t178),(t169)-[:COLLEAGUE]->(t179),(t169)-[:COLLEAGUE]->(t180),(t169)-[:COLLEAGUE]->(t181),(t169)-[:COLLEAGUE]->(t182),(t169)-[:COLLEAGUE]->(t183),(t169)-[:COLLEAGUE]->(t184),(t169)-[:COLLEAGUE]->(t185),(t169)-[:COLLEAGUE]->(t186),(t169)-[:COLLEAGUE]->(t187),(t169)-[:COLLEAGUE]->(t188),(t169)-[:COLLEAGUE]->(t189),(t170)-[:COLLEAGUE]->(t168),(t170)-[:COLLEAGUE]->(t169),(t170)-[:COLLEAGUE]->(t171),(t170)-[:COLLEAGUE]->(t172),(t170)-[:COLLEAGUE]->(t173),(t170)-[:COLLEAGUE]->(t174),(t170)-[:COLLEAGUE]->(t175),(t170)-[:COLLEAGUE]->(t176),(t170)-[:COLLEAGUE]->(t177),(t170)-[:COLLEAGUE]->(t178),(t170)-[:COLLEAGUE]->(t179),(t170)-[:COLLEAGUE]->(t180),(t170)-[:COLLEAGUE]->(t181),(t170)-[:COLLEAGUE]->(t182),(t170)-[:COLLEAGUE]->(t183),(t170)-[:COLLEAGUE]->(t184),(t170)-[:COLLEAGUE]->(t185),(t170)-[:COLLEAGUE]->(t186),(t170)-[:COLLEAGUE]->(t187),(t170)-[:COLLEAGUE]->(t188),(t170)-[:COLLEAGUE]->(t189),(t171)-[:COLLEAGUE]->(t168),(t171)-[:COLLEAGUE]->(t169),(t171)-[:COLLEAGUE]->(t170),(t171)-[:COLLEAGUE]->(t172),(t171)-[:COLLEAGUE]->(t173),(t171)-[:COLLEAGUE]->(t174),(t171)-[:COLLEAGUE]->(t175),(t171)-[:COLLEAGUE]->(t176),(t171)-[:COLLEAGUE]->(t177),(t171)-[:COLLEAGUE]->(t178),(t171)-[:COLLEAGUE]->(t179),(t171)-[:COLLEAGUE]->(t180),(t171)-[:COLLEAGUE]->(t181),(t171)-[:COLLEAGUE]->(t182),(t171)-[:COLLEAGUE]->(t183),(t171)-[:COLLEAGUE]->(t184),(t171)-[:COLLEAGUE]->(t185),(t171)-[:COLLEAGUE]->(t186),(t171)-[:COLLEAGUE]->(t187),(t171)-[:COLLEAGUE]->(t188),(t171)-[:COLLEAGUE]->(t189),(t172)-[:COLLEAGUE]->(t168),(t172)-[:COLLEAGUE]->(t169),(t172)-[:COLLEAGUE]->(t170),(t172)-[:COLLEAGUE]->(t171),(t172)-[:COLLEAGUE]->(t173),(t172)-[:COLLEAGUE]->(t174),(t172)-[:COLLEAGUE]->(t175),(t172)-[:COLLEAGUE]->(t176),(t172)-[:COLLEAGUE]->(t177),(t172)-[:COLLEAGUE]->(t178),(t172)-[:COLLEAGUE]->(t179),(t172)-[:COLLEAGUE]->(t180),(t172)-[:COLLEAGUE]->(t181),(t172)-[:COLLEAGUE]->(t182),(t172)-[:COLLEAGUE]->(t183),(t172)-[:COLLEAGUE]->(t184),(t172)-[:COLLEAGUE]->(t185),(t172)-[:COLLEAGUE]->(t186),(t172)-[:COLLEAGUE]->(t187),(t172)-[:COLLEAGUE]->(t188),(t172)-[:COLLEAGUE]->(t189),(t173)-[:COLLEAGUE]->(t168),(t173)-[:COLLEAGUE]->(t169),(t173)-[:COLLEAGUE]->(t170),(t173)-[:COLLEAGUE]->(t171),(t173)-[:COLLEAGUE]->(t172),(t173)-[:COLLEAGUE]->(t174),(t173)-[:COLLEAGUE]->(t175),(t173)-[:COLLEAGUE]->(t176),(t173)-[:COLLEAGUE]->(t177),(t173)-[:COLLEAGUE]->(t178),(t173)-[:COLLEAGUE]->(t179),(t173)-[:COLLEAGUE]->(t180),(t173)-[:COLLEAGUE]->(t181),(t173)-[:COLLEAGUE]->(t182),(t173)-[:COLLEAGUE]->(t183),(t173)-[:COLLEAGUE]->(t184),(t173)-[:COLLEAGUE]->(t185),(t173)-[:COLLEAGUE]->(t186),(t173)-[:COLLEAGUE]->(t187),(t173)-[:COLLEAGUE]->(t188),(t173)-[:COLLEAGUE]->(t189),(t174)-[:COLLEAGUE]->(t168),(t174)-[:COLLEAGUE]->(t169),(t174)-[:COLLEAGUE]->(t170),(t174)-[:COLLEAGUE]->(t171),(t174)-[:COLLEAGUE]->(t172),(t174)-[:COLLEAGUE]->(t173),(t174)-[:COLLEAGUE]->(t175),(t174)-[:COLLEAGUE]->(t176),(t174)-[:COLLEAGUE]->(t177),(t174)-[:COLLEAGUE]->(t178),(t174)-[:COLLEAGUE]->(t179),(t174)-[:COLLEAGUE]->(t180),(t174)-[:COLLEAGUE]->(t181),(t174)-[:COLLEAGUE]->(t182),(t174)-[:COLLEAGUE]->(t183),(t174)-[:COLLEAGUE]->(t184),(t174)-[:COLLEAGUE]->(t185),(t174)-[:COLLEAGUE]->(t186),(t174)-[:COLLEAGUE]->(t187),(t174)-[:COLLEAGUE]->(t188),(t174)-[:COLLEAGUE]->(t189),(t175)-[:COLLEAGUE]->(t168),(t175)-[:COLLEAGUE]->(t169),(t175)-[:COLLEAGUE]->(t170),(t175)-[:COLLEAGUE]->(t171),(t175)-[:COLLEAGUE]->(t172),(t175)-[:COLLEAGUE]->(t173),(t175)-[:COLLEAGUE]->(t174),(t175)-[:COLLEAGUE]->(t176),(t175)-[:COLLEAGUE]->(t177),(t175)-[:COLLEAGUE]->(t178),(t175)-[:COLLEAGUE]->(t179),(t175)-[:COLLEAGUE]->(t180),(t175)-[:COLLEAGUE]->(t181),(t175)-[:COLLEAGUE]->(t182),(t175)-[:COLLEAGUE]->(t183),(t175)-[:COLLEAGUE]->(t184),(t175)-[:COLLEAGUE]->(t185),(t175)-[:COLLEAGUE]->(t186),(t175)-[:COLLEAGUE]->(t187),(t175)-[:COLLEAGUE]->(t188),(t175)-[:COLLEAGUE]->(t189),(t176)-[:COLLEAGUE]->(t168),(t176)-[:COLLEAGUE]->(t169),(t176)-[:COLLEAGUE]->(t170),(t176)-[:COLLEAGUE]->(t171),(t176)-[:COLLEAGUE]->(t172),(t176)-[:COLLEAGUE]->(t173),(t176)-[:COLLEAGUE]->(t174),(t176)-[:COLLEAGUE]->(t175),(t176)-[:COLLEAGUE]->(t177),(t176)-[:COLLEAGUE]->(t178),(t176)-[:COLLEAGUE]->(t179),(t176)-[:COLLEAGUE]->(t180),(t176)-[:COLLEAGUE]->(t181),(t176)-[:COLLEAGUE]->(t182),(t176)-[:COLLEAGUE]->(t183),(t176)-[:COLLEAGUE]->(t184),(t176)-[:COLLEAGUE]->(t185),(t176)-[:COLLEAGUE]->(t186),(t176)-[:COLLEAGUE]->(t187),(t176)-[:COLLEAGUE]->(t188),(t176)-[:COLLEAGUE]->(t189),(t177)-[:COLLEAGUE]->(t168),(t177)-[:COLLEAGUE]->(t169),(t177)-[:COLLEAGUE]->(t170),(t177)-[:COLLEAGUE]->(t171),(t177)-[:COLLEAGUE]->(t172),(t177)-[:COLLEAGUE]->(t173),(t177)-[:COLLEAGUE]->(t174),(t177)-[:COLLEAGUE]->(t175),(t177)-[:COLLEAGUE]->(t176),(t177)-[:COLLEAGUE]->(t178),(t177)-[:COLLEAGUE]->(t179),(t177)-[:COLLEAGUE]->(t180),(t177)-[:COLLEAGUE]->(t181),(t177)-[:COLLEAGUE]->(t182),(t177)-[:COLLEAGUE]->(t183),(t177)-[:COLLEAGUE]->(t184),(t177)-[:COLLEAGUE]->(t185),(t177)-[:COLLEAGUE]->(t186),(t177)-[:COLLEAGUE]->(t187),(t177)-[:COLLEAGUE]->(t188),(t177)-[:COLLEAGUE]->(t189),(t178)-[:COLLEAGUE]->(t168),(t178)-[:COLLEAGUE]->(t169),(t178)-[:COLLEAGUE]->(t170),(t178)-[:COLLEAGUE]->(t171),(t178)-[:COLLEAGUE]->(t172),(t178)-[:COLLEAGUE]->(t173),(t178)-[:COLLEAGUE]->(t174),(t178)-[:COLLEAGUE]->(t175),(t178)-[:COLLEAGUE]->(t176),(t178)-[:COLLEAGUE]->(t177),(t178)-[:COLLEAGUE]->(t179),(t178)-[:COLLEAGUE]->(t180),(t178)-[:COLLEAGUE]->(t181),(t178)-[:COLLEAGUE]->(t182),(t178)-[:COLLEAGUE]->(t183),(t178)-[:COLLEAGUE]->(t184),(t178)-[:COLLEAGUE]->(t185),(t178)-[:COLLEAGUE]->(t186),(t178)-[:COLLEAGUE]->(t187),(t178)-[:COLLEAGUE]->(t188),(t178)-[:COLLEAGUE]->(t189),(t179)-[:COLLEAGUE]->(t168),(t179)-[:COLLEAGUE]->(t169),(t179)-[:COLLEAGUE]->(t170),(t179)-[:COLLEAGUE]->(t171),(t179)-[:COLLEAGUE]->(t172),(t179)-[:COLLEAGUE]->(t173),(t179)-[:COLLEAGUE]->(t174),(t179)-[:COLLEAGUE]->(t175),(t179)-[:COLLEAGUE]->(t176),(t179)-[:COLLEAGUE]->(t177),(t179)-[:COLLEAGUE]->(t178),(t179)-[:COLLEAGUE]->(t180),(t179)-[:COLLEAGUE]->(t181),(t179)-[:COLLEAGUE]->(t182),(t179)-[:COLLEAGUE]->(t183),(t179)-[:COLLEAGUE]->(t184),(t179)-[:COLLEAGUE]->(t185),(t179)-[:COLLEAGUE]->(t186),(t179)-[:COLLEAGUE]->(t187),(t179)-[:COLLEAGUE]->(t188),(t179)-[:COLLEAGUE]->(t189),(t180)-[:COLLEAGUE]->(t168),(t180)-[:COLLEAGUE]->(t169),(t180)-[:COLLEAGUE]->(t170),(t180)-[:COLLEAGUE]->(t171),(t180)-[:COLLEAGUE]->(t172),(t180)-[:COLLEAGUE]->(t173),(t180)-[:COLLEAGUE]->(t174),(t180)-[:COLLEAGUE]->(t175),(t180)-[:COLLEAGUE]->(t176),(t180)-[:COLLEAGUE]->(t177),(t180)-[:COLLEAGUE]->(t178),(t180)-[:COLLEAGUE]->(t179),(t180)-[:COLLEAGUE]->(t181),(t180)-[:COLLEAGUE]->(t182),(t180)-[:COLLEAGUE]->(t183),(t180)-[:COLLEAGUE]->(t184),(t180)-[:COLLEAGUE]->(t185),(t180)-[:COLLEAGUE]->(t186),(t180)-[:COLLEAGUE]->(t187),(t180)-[:COLLEAGUE]->(t188),(t180)-[:COLLEAGUE]->(t189),(t181)-[:COLLEAGUE]->(t168),(t181)-[:COLLEAGUE]->(t169),(t181)-[:COLLEAGUE]->(t170),(t181)-[:COLLEAGUE]->(t171),(t181)-[:COLLEAGUE]->(t172),(t181)-[:COLLEAGUE]->(t173),(t181)-[:COLLEAGUE]->(t174),(t181)-[:COLLEAGUE]->(t175),(t181)-[:COLLEAGUE]->(t176),(t181)-[:COLLEAGUE]->(t177),(t181)-[:COLLEAGUE]->(t178),(t181)-[:COLLEAGUE]->(t179),(t181)-[:COLLEAGUE]->(t180),(t181)-[:COLLEAGUE]->(t182),(t181)-[:COLLEAGUE]->(t183),(t181)-[:COLLEAGUE]->(t184),(t181)-[:COLLEAGUE]->(t185),(t181)-[:COLLEAGUE]->(t186),(t181)-[:COLLEAGUE]->(t187),(t181)-[:COLLEAGUE]->(t188),(t181)-[:COLLEAGUE]->(t189),(t182)-[:COLLEAGUE]->(t168),(t182)-[:COLLEAGUE]->(t169),(t182)-[:COLLEAGUE]->(t170),(t182)-[:COLLEAGUE]->(t171),(t182)-[:COLLEAGUE]->(t172),(t182)-[:COLLEAGUE]->(t173),(t182)-[:COLLEAGUE]->(t174),(t182)-[:COLLEAGUE]->(t175),(t182)-[:COLLEAGUE]->(t176),(t182)-[:COLLEAGUE]->(t177),(t182)-[:COLLEAGUE]->(t178),(t182)-[:COLLEAGUE]->(t179),(t182)-[:COLLEAGUE]->(t180),(t182)-[:COLLEAGUE]->(t181),(t182)-[:COLLEAGUE]->(t183),(t182)-[:COLLEAGUE]->(t184),(t182)-[:COLLEAGUE]->(t185),(t182)-[:COLLEAGUE]->(t186),(t182)-[:COLLEAGUE]->(t187),(t182)-[:COLLEAGUE]->(t188),(t182)-[:COLLEAGUE]->(t189),(t183)-[:COLLEAGUE]->(t168),(t183)-[:COLLEAGUE]->(t169),(t183)-[:COLLEAGUE]->(t170),(t183)-[:COLLEAGUE]->(t171),(t183)-[:COLLEAGUE]->(t172),(t183)-[:COLLEAGUE]->(t173),(t183)-[:COLLEAGUE]->(t174),(t183)-[:COLLEAGUE]->(t175),(t183)-[:COLLEAGUE]->(t176),(t183)-[:COLLEAGUE]->(t177),(t183)-[:COLLEAGUE]->(t178),(t183)-[:COLLEAGUE]->(t179),(t183)-[:COLLEAGUE]->(t180),(t183)-[:COLLEAGUE]->(t181),(t183)-[:COLLEAGUE]->(t182),(t183)-[:COLLEAGUE]->(t184),(t183)-[:COLLEAGUE]->(t185),(t183)-[:COLLEAGUE]->(t186),(t183)-[:COLLEAGUE]->(t187),(t183)-[:COLLEAGUE]->(t188),(t183)-[:COLLEAGUE]->(t189),(t184)-[:COLLEAGUE]->(t168),(t184)-[:COLLEAGUE]->(t169),(t184)-[:COLLEAGUE]->(t170),(t184)-[:COLLEAGUE]->(t171),(t184)-[:COLLEAGUE]->(t172),(t184)-[:COLLEAGUE]->(t173),(t184)-[:COLLEAGUE]->(t174),(t184)-[:COLLEAGUE]->(t175),(t184)-[:COLLEAGUE]->(t176),(t184)-[:COLLEAGUE]->(t177),(t184)-[:COLLEAGUE]->(t178),(t184)-[:COLLEAGUE]->(t179),(t184)-[:COLLEAGUE]->(t180),(t184)-[:COLLEAGUE]->(t181),(t184)-[:COLLEAGUE]->(t182),(t184)-[:COLLEAGUE]->(t183),(t184)-[:COLLEAGUE]->(t185),(t184)-[:COLLEAGUE]->(t186),(t184)-[:COLLEAGUE]->(t187),(t184)-[:COLLEAGUE]->(t188),(t184)-[:COLLEAGUE]->(t189),(t185)-[:COLLEAGUE]->(t168),(t185)-[:COLLEAGUE]->(t169),(t185)-[:COLLEAGUE]->(t170),(t185)-[:COLLEAGUE]->(t171),(t185)-[:COLLEAGUE]->(t172),(t185)-[:COLLEAGUE]->(t173),(t185)-[:COLLEAGUE]->(t174),(t185)-[:COLLEAGUE]->(t175),(t185)-[:COLLEAGUE]->(t176),(t185)-[:COLLEAGUE]->(t177),(t185)-[:COLLEAGUE]->(t178),(t185)-[:COLLEAGUE]->(t179),(t185)-[:COLLEAGUE]->(t180),(t185)-[:COLLEAGUE]->(t181),(t185)-[:COLLEAGUE]->(t182),(t185)-[:COLLEAGUE]->(t183),(t185)-[:COLLEAGUE]->(t184),(t185)-[:COLLEAGUE]->(t186),(t185)-[:COLLEAGUE]->(t187),(t185)-[:COLLEAGUE]->(t188),(t185)-[:COLLEAGUE]->(t189),(t186)-[:COLLEAGUE]->(t168),(t186)-[:COLLEAGUE]->(t169),(t186)-[:COLLEAGUE]->(t170),(t186)-[:COLLEAGUE]->(t171),(t186)-[:COLLEAGUE]->(t172),(t186)-[:COLLEAGUE]->(t173),(t186)-[:COLLEAGUE]->(t174),(t186)-[:COLLEAGUE]->(t175),(t186)-[:COLLEAGUE]->(t176),(t186)-[:COLLEAGUE]->(t177),(t186)-[:COLLEAGUE]->(t178),(t186)-[:COLLEAGUE]->(t179),(t186)-[:COLLEAGUE]->(t180),(t186)-[:COLLEAGUE]->(t181),(t186)-[:COLLEAGUE]->(t182),(t186)-[:COLLEAGUE]->(t183),(t186)-[:COLLEAGUE]->(t184),(t186)-[:COLLEAGUE]->(t185),(t186)-[:COLLEAGUE]->(t187),(t186)-[:COLLEAGUE]->(t188),(t186)-[:COLLEAGUE]->(t189),(t187)-[:COLLEAGUE]->(t168),(t187)-[:COLLEAGUE]->(t169),(t187)-[:COLLEAGUE]->(t170),(t187)-[:COLLEAGUE]->(t171),(t187)-[:COLLEAGUE]->(t172),(t187)-[:COLLEAGUE]->(t173),(t187)-[:COLLEAGUE]->(t174),(t187)-[:COLLEAGUE]->(t175),(t187)-[:COLLEAGUE]->(t176),(t187)-[:COLLEAGUE]->(t177),(t187)-[:COLLEAGUE]->(t178),(t187)-[:COLLEAGUE]->(t179),(t187)-[:COLLEAGUE]->(t180),(t187)-[:COLLEAGUE]->(t181),(t187)-[:COLLEAGUE]->(t182),(t187)-[:COLLEAGUE]->(t183),(t187)-[:COLLEAGUE]->(t184),(t187)-[:COLLEAGUE]->(t185),(t187)-[:COLLEAGUE]->(t186),(t187)-[:COLLEAGUE]->(t188),(t187)-[:COLLEAGUE]->(t189),(t188)-[:COLLEAGUE]->(t168),(t188)-[:COLLEAGUE]->(t169),(t188)-[:COLLEAGUE]->(t170),(t188)-[:COLLEAGUE]->(t171),(t188)-[:COLLEAGUE]->(t172),(t188)-[:COLLEAGUE]->(t173),(t188)-[:COLLEAGUE]->(t174),(t188)-[:COLLEAGUE]->(t175),(t188)-[:COLLEAGUE]->(t176),(t188)-[:COLLEAGUE]->(t177),(t188)-[:COLLEAGUE]->(t178),(t188)-[:COLLEAGUE]->(t179),(t188)-[:COLLEAGUE]->(t180),(t188)-[:COLLEAGUE]->(t181),(t188)-[:COLLEAGUE]->(t182),(t188)-[:COLLEAGUE]->(t183),(t188)-[:COLLEAGUE]->(t184),(t188)-[:COLLEAGUE]->(t185),(t188)-[:COLLEAGUE]->(t186),(t188)-[:COLLEAGUE]->(t187),(t188)-[:COLLEAGUE]->(t189),(t189)-[:COLLEAGUE]->(t168),(t189)-[:COLLEAGUE]->(t169),(t189)-[:COLLEAGUE]->(t170),(t189)-[:COLLEAGUE]->(t171),(t189)-[:COLLEAGUE]->(t172),(t189)-[:COLLEAGUE]->(t173),(t189)-[:COLLEAGUE]->(t174),(t189)-[:COLLEAGUE]->(t175),(t189)-[:COLLEAGUE]->(t176),(t189)-[:COLLEAGUE]->(t177),(t189)-[:COLLEAGUE]->(t178),(t189)-[:COLLEAGUE]->(t179),(t189)-[:COLLEAGUE]->(t180),(t189)-[:COLLEAGUE]->(t181),(t189)-[:COLLEAGUE]->(t182),(t189)-[:COLLEAGUE]->(t183),(t189)-[:COLLEAGUE]->(t184),(t189)-[:COLLEAGUE]->(t185),(t189)-[:COLLEAGUE]->(t186),(t189)-[:COLLEAGUE]->(t187),(t189)-[:COLLEAGUE]->(t188),(t190)-[:COLLEAGUE]->(t191),(t190)-[:COLLEAGUE]->(t192),(t190)-[:COLLEAGUE]->(t193),(t190)-[:COLLEAGUE]->(t194),(t190)-[:COLLEAGUE]->(t195),(t190)-[:COLLEAGUE]->(t196),(t190)-[:COLLEAGUE]->(t197),(t190)-[:COLLEAGUE]->(t198),(t190)-[:COLLEAGUE]->(t199),(t190)-[:COLLEAGUE]->(t200),(t190)-[:COLLEAGUE]->(t201),(t190)-[:COLLEAGUE]->(t202),(t190)-[:COLLEAGUE]->(t203),(t190)-[:COLLEAGUE]->(t204),(t190)-[:COLLEAGUE]->(t205),(t190)-[:COLLEAGUE]->(t206),(t190)-[:COLLEAGUE]->(t207),(t190)-[:COLLEAGUE]->(t208),(t190)-[:COLLEAGUE]->(t209),(t190)-[:COLLEAGUE]->(t210),(t190)-[:COLLEAGUE]->(t211),(t190)-[:COLLEAGUE]->(t212),(t190)-[:COLLEAGUE]->(t213),(t191)-[:COLLEAGUE]->(t190),(t191)-[:COLLEAGUE]->(t192),(t191)-[:COLLEAGUE]->(t193),(t191)-[:COLLEAGUE]->(t194),(t191)-[:COLLEAGUE]->(t195),(t191)-[:COLLEAGUE]->(t196),(t191)-[:COLLEAGUE]->(t197),(t191)-[:COLLEAGUE]->(t198),(t191)-[:COLLEAGUE]->(t199),(t191)-[:COLLEAGUE]->(t200),(t191)-[:COLLEAGUE]->(t201),(t191)-[:COLLEAGUE]->(t202),(t191)-[:COLLEAGUE]->(t203),(t191)-[:COLLEAGUE]->(t204),(t191)-[:COLLEAGUE]->(t205),(t191)-[:COLLEAGUE]->(t206),(t191)-[:COLLEAGUE]->(t207),(t191)-[:COLLEAGUE]->(t208),(t191)-[:COLLEAGUE]->(t209),(t191)-[:COLLEAGUE]->(t210),(t191)-[:COLLEAGUE]->(t211),(t191)-[:COLLEAGUE]->(t212),(t191)-[:COLLEAGUE]->(t213),(t192)-[:COLLEAGUE]->(t190),(t192)-[:COLLEAGUE]->(t191),(t192)-[:COLLEAGUE]->(t193),(t192)-[:COLLEAGUE]->(t194),(t192)-[:COLLEAGUE]->(t195),(t192)-[:COLLEAGUE]->(t196),(t192)-[:COLLEAGUE]->(t197),(t192)-[:COLLEAGUE]->(t198),(t192)-[:COLLEAGUE]->(t199),(t192)-[:COLLEAGUE]->(t200),(t192)-[:COLLEAGUE]->(t201),(t192)-[:COLLEAGUE]->(t202),(t192)-[:COLLEAGUE]->(t203),(t192)-[:COLLEAGUE]->(t204),(t192)-[:COLLEAGUE]->(t205),(t192)-[:COLLEAGUE]->(t206),(t192)-[:COLLEAGUE]->(t207),(t192)-[:COLLEAGUE]->(t208),(t192)-[:COLLEAGUE]->(t209),(t192)-[:COLLEAGUE]->(t210),(t192)-[:COLLEAGUE]->(t211),(t192)-[:COLLEAGUE]->(t212),(t192)-[:COLLEAGUE]->(t213),(t193)-[:COLLEAGUE]->(t190),(t193)-[:COLLEAGUE]->(t191),(t193)-[:COLLEAGUE]->(t192),(t193)-[:COLLEAGUE]->(t194),(t193)-[:COLLEAGUE]->(t195),(t193)-[:COLLEAGUE]->(t196),(t193)-[:COLLEAGUE]->(t197),(t193)-[:COLLEAGUE]->(t198),(t193)-[:COLLEAGUE]->(t199),(t193)-[:COLLEAGUE]->(t200),(t193)-[:COLLEAGUE]->(t201),(t193)-[:COLLEAGUE]->(t202),(t193)-[:COLLEAGUE]->(t203),(t193)-[:COLLEAGUE]->(t204),(t193)-[:COLLEAGUE]->(t205),(t193)-[:COLLEAGUE]->(t206),(t193)-[:COLLEAGUE]->(t207),(t193)-[:COLLEAGUE]->(t208),(t193)-[:COLLEAGUE]->(t209),(t193)-[:COLLEAGUE]->(t210),(t193)-[:COLLEAGUE]->(t211),(t193)-[:COLLEAGUE]->(t212),(t193)-[:COLLEAGUE]->(t213),(t194)-[:COLLEAGUE]->(t190),(t194)-[:COLLEAGUE]->(t191),(t194)-[:COLLEAGUE]->(t192),(t194)-[:COLLEAGUE]->(t193),(t194)-[:COLLEAGUE]->(t195),(t194)-[:COLLEAGUE]->(t196),(t194)-[:COLLEAGUE]->(t197),(t194)-[:COLLEAGUE]->(t198),(t194)-[:COLLEAGUE]->(t199),(t194)-[:COLLEAGUE]->(t200),(t194)-[:COLLEAGUE]->(t201),(t194)-[:COLLEAGUE]->(t202),(t194)-[:COLLEAGUE]->(t203),(t194)-[:COLLEAGUE]->(t204),(t194)-[:COLLEAGUE]->(t205),(t194)-[:COLLEAGUE]->(t206),(t194)-[:COLLEAGUE]->(t207),(t194)-[:COLLEAGUE]->(t208),(t194)-[:COLLEAGUE]->(t209),(t194)-[:COLLEAGUE]->(t210),(t194)-[:COLLEAGUE]->(t211),(t194)-[:COLLEAGUE]->(t212),(t194)-[:COLLEAGUE]->(t213),(t195)-[:COLLEAGUE]->(t190),(t195)-[:COLLEAGUE]->(t191),(t195)-[:COLLEAGUE]->(t192),(t195)-[:COLLEAGUE]->(t193),(t195)-[:COLLEAGUE]->(t194),(t195)-[:COLLEAGUE]->(t196),(t195)-[:COLLEAGUE]->(t197),(t195)-[:COLLEAGUE]->(t198),(t195)-[:COLLEAGUE]->(t199),(t195)-[:COLLEAGUE]->(t200),(t195)-[:COLLEAGUE]->(t201),(t195)-[:COLLEAGUE]->(t202),(t195)-[:COLLEAGUE]->(t203),(t195)-[:COLLEAGUE]->(t204),(t195)-[:COLLEAGUE]->(t205),(t195)-[:COLLEAGUE]->(t206),(t195)-[:COLLEAGUE]->(t207),(t195)-[:COLLEAGUE]->(t208),(t195)-[:COLLEAGUE]->(t209),(t195)-[:COLLEAGUE]->(t210),(t195)-[:COLLEAGUE]->(t211),(t195)-[:COLLEAGUE]->(t212),(t195)-[:COLLEAGUE]->(t213),(t196)-[:COLLEAGUE]->(t190),(t196)-[:COLLEAGUE]->(t191),(t196)-[:COLLEAGUE]->(t192),(t196)-[:COLLEAGUE]->(t193),(t196)-[:COLLEAGUE]->(t194),(t196)-[:COLLEAGUE]->(t195),(t196)-[:COLLEAGUE]->(t197),(t196)-[:COLLEAGUE]->(t198),(t196)-[:COLLEAGUE]->(t199),(t196)-[:COLLEAGUE]->(t200),(t196)-[:COLLEAGUE]->(t201),(t196)-[:COLLEAGUE]->(t202),(t196)-[:COLLEAGUE]->(t203),(t196)-[:COLLEAGUE]->(t204),(t196)-[:COLLEAGUE]->(t205),(t196)-[:COLLEAGUE]->(t206),(t196)-[:COLLEAGUE]->(t207),(t196)-[:COLLEAGUE]->(t208),(t196)-[:COLLEAGUE]->(t209),(t196)-[:COLLEAGUE]->(t210),(t196)-[:COLLEAGUE]->(t211),(t196)-[:COLLEAGUE]->(t212),(t196)-[:COLLEAGUE]->(t213),(t197)-[:COLLEAGUE]->(t190),(t197)-[:COLLEAGUE]->(t191),(t197)-[:COLLEAGUE]->(t192),(t197)-[:COLLEAGUE]->(t193),(t197)-[:COLLEAGUE]->(t194),(t197)-[:COLLEAGUE]->(t195),(t197)-[:COLLEAGUE]->(t196),(t197)-[:COLLEAGUE]->(t198),(t197)-[:COLLEAGUE]->(t199),(t197)-[:COLLEAGUE]->(t200),(t197)-[:COLLEAGUE]->(t201),(t197)-[:COLLEAGUE]->(t202),(t197)-[:COLLEAGUE]->(t203),(t197)-[:COLLEAGUE]->(t204),(t197)-[:COLLEAGUE]->(t205),(t197)-[:COLLEAGUE]->(t206),(t197)-[:COLLEAGUE]->(t207),(t197)-[:COLLEAGUE]->(t208),(t197)-[:COLLEAGUE]->(t209),(t197)-[:COLLEAGUE]->(t210),(t197)-[:COLLEAGUE]->(t211),(t197)-[:COLLEAGUE]->(t212),(t197)-[:COLLEAGUE]->(t213),(t198)-[:COLLEAGUE]->(t190),(t198)-[:COLLEAGUE]->(t191),(t198)-[:COLLEAGUE]->(t192),(t198)-[:COLLEAGUE]->(t193),(t198)-[:COLLEAGUE]->(t194),(t198)-[:COLLEAGUE]->(t195),(t198)-[:COLLEAGUE]->(t196),(t198)-[:COLLEAGUE]->(t197),(t198)-[:COLLEAGUE]->(t199),(t198)-[:COLLEAGUE]->(t200),(t198)-[:COLLEAGUE]->(t201),(t198)-[:COLLEAGUE]->(t202),(t198)-[:COLLEAGUE]->(t203),(t198)-[:COLLEAGUE]->(t204),(t198)-[:COLLEAGUE]->(t205),(t198)-[:COLLEAGUE]->(t206),(t198)-[:COLLEAGUE]->(t207),(t198)-[:COLLEAGUE]->(t208),(t198)-[:COLLEAGUE]->(t209),(t198)-[:COLLEAGUE]->(t210),(t198)-[:COLLEAGUE]->(t211),(t198)-[:COLLEAGUE]->(t212),(t198)-[:COLLEAGUE]->(t213),(t199)-[:COLLEAGUE]->(t190),(t199)-[:COLLEAGUE]->(t191),(t199)-[:COLLEAGUE]->(t192),(t199)-[:COLLEAGUE]->(t193),(t199)-[:COLLEAGUE]->(t194),(t199)-[:COLLEAGUE]->(t195),(t199)-[:COLLEAGUE]->(t196),(t199)-[:COLLEAGUE]->(t197),(t199)-[:COLLEAGUE]->(t198),(t199)-[:COLLEAGUE]->(t200),(t199)-[:COLLEAGUE]->(t201),(t199)-[:COLLEAGUE]->(t202),(t199)-[:COLLEAGUE]->(t203),(t199)-[:COLLEAGUE]->(t204),(t199)-[:COLLEAGUE]->(t205),(t199)-[:COLLEAGUE]->(t206),(t199)-[:COLLEAGUE]->(t207),(t199)-[:COLLEAGUE]->(t208),(t199)-[:COLLEAGUE]->(t209),(t199)-[:COLLEAGUE]->(t210),(t199)-[:COLLEAGUE]->(t211),(t199)-[:COLLEAGUE]->(t212),(t199)-[:COLLEAGUE]->(t213),(t200)-[:COLLEAGUE]->(t190),(t200)-[:COLLEAGUE]->(t191),(t200)-[:COLLEAGUE]->(t192),(t200)-[:COLLEAGUE]->(t193),(t200)-[:COLLEAGUE]->(t194),(t200)-[:COLLEAGUE]->(t195),(t200)-[:COLLEAGUE]->(t196),(t200)-[:COLLEAGUE]->(t197),(t200)-[:COLLEAGUE]->(t198),(t200)-[:COLLEAGUE]->(t199),(t200)-[:COLLEAGUE]->(t201),(t200)-[:COLLEAGUE]->(t202),(t200)-[:COLLEAGUE]->(t203),(t200)-[:COLLEAGUE]->(t204),(t200)-[:COLLEAGUE]->(t205),(t200)-[:COLLEAGUE]->(t206),(t200)-[:COLLEAGUE]->(t207),(t200)-[:COLLEAGUE]->(t208),(t200)-[:COLLEAGUE]->(t209),(t200)-[:COLLEAGUE]->(t210),(t200)-[:COLLEAGUE]->(t211),(t200)-[:COLLEAGUE]->(t212),(t200)-[:COLLEAGUE]->(t213),(t201)-[:COLLEAGUE]->(t190),(t201)-[:COLLEAGUE]->(t191),(t201)-[:COLLEAGUE]->(t192),(t201)-[:COLLEAGUE]->(t193),(t201)-[:COLLEAGUE]->(t194),(t201)-[:COLLEAGUE]->(t195),(t201)-[:COLLEAGUE]->(t196),(t201)-[:COLLEAGUE]->(t197),(t201)-[:COLLEAGUE]->(t198),(t201)-[:COLLEAGUE]->(t199),(t201)-[:COLLEAGUE]->(t200),(t201)-[:COLLEAGUE]->(t202),(t201)-[:COLLEAGUE]->(t203),(t201)-[:COLLEAGUE]->(t204),(t201)-[:COLLEAGUE]->(t205),(t201)-[:COLLEAGUE]->(t206),(t201)-[:COLLEAGUE]->(t207),(t201)-[:COLLEAGUE]->(t208),(t201)-[:COLLEAGUE]->(t209),(t201)-[:COLLEAGUE]->(t210),(t201)-[:COLLEAGUE]->(t211),(t201)-[:COLLEAGUE]->(t212),(t201)-[:COLLEAGUE]->(t213),(t202)-[:COLLEAGUE]->(t190),(t202)-[:COLLEAGUE]->(t191),(t202)-[:COLLEAGUE]->(t192),(t202)-[:COLLEAGUE]->(t193),(t202)-[:COLLEAGUE]->(t194),(t202)-[:COLLEAGUE]->(t195),(t202)-[:COLLEAGUE]->(t196),(t202)-[:COLLEAGUE]->(t197),(t202)-[:COLLEAGUE]->(t198),(t202)-[:COLLEAGUE]->(t199),(t202)-[:COLLEAGUE]->(t200),(t202)-[:COLLEAGUE]->(t201),(t202)-[:COLLEAGUE]->(t203),(t202)-[:COLLEAGUE]->(t204),(t202)-[:COLLEAGUE]->(t205),(t202)-[:COLLEAGUE]->(t206),(t202)-[:COLLEAGUE]->(t207),(t202)-[:COLLEAGUE]->(t208),(t202)-[:COLLEAGUE]->(t209),(t202)-[:COLLEAGUE]->(t210),(t202)-[:COLLEAGUE]->(t211),(t202)-[:COLLEAGUE]->(t212),(t202)-[:COLLEAGUE]->(t213),(t203)-[:COLLEAGUE]->(t190),(t203)-[:COLLEAGUE]->(t191),(t203)-[:COLLEAGUE]->(t192),(t203)-[:COLLEAGUE]->(t193),(t203)-[:COLLEAGUE]->(t194),(t203)-[:COLLEAGUE]->(t195),(t203)-[:COLLEAGUE]->(t196),(t203)-[:COLLEAGUE]->(t197),(t203)-[:COLLEAGUE]->(t198),(t203)-[:COLLEAGUE]->(t199),(t203)-[:COLLEAGUE]->(t200),(t203)-[:COLLEAGUE]->(t201),(t203)-[:COLLEAGUE]->(t202),(t203)-[:COLLEAGUE]->(t204),(t203)-[:COLLEAGUE]->(t205),(t203)-[:COLLEAGUE]->(t206),(t203)-[:COLLEAGUE]->(t207),(t203)-[:COLLEAGUE]->(t208),(t203)-[:COLLEAGUE]->(t209),(t203)-[:COLLEAGUE]->(t210),(t203)-[:COLLEAGUE]->(t211),(t203)-[:COLLEAGUE]->(t212),(t203)-[:COLLEAGUE]->(t213),(t204)-[:COLLEAGUE]->(t190),(t204)-[:COLLEAGUE]->(t191),(t204)-[:COLLEAGUE]->(t192),(t204)-[:COLLEAGUE]->(t193),(t204)-[:COLLEAGUE]->(t194),(t204)-[:COLLEAGUE]->(t195),(t204)-[:COLLEAGUE]->(t196),(t204)-[:COLLEAGUE]->(t197),(t204)-[:COLLEAGUE]->(t198),(t204)-[:COLLEAGUE]->(t199),(t204)-[:COLLEAGUE]->(t200),(t204)-[:COLLEAGUE]->(t201),(t204)-[:COLLEAGUE]->(t202),(t204)-[:COLLEAGUE]->(t203),(t204)-[:COLLEAGUE]->(t205),(t204)-[:COLLEAGUE]->(t206),(t204)-[:COLLEAGUE]->(t207),(t204)-[:COLLEAGUE]->(t208),(t204)-[:COLLEAGUE]->(t209),(t204)-[:COLLEAGUE]->(t210),(t204)-[:COLLEAGUE]->(t211),(t204)-[:COLLEAGUE]->(t212),(t204)-[:COLLEAGUE]->(t213),(t205)-[:COLLEAGUE]->(t190),(t205)-[:COLLEAGUE]->(t191),(t205)-[:COLLEAGUE]->(t192),(t205)-[:COLLEAGUE]->(t193),(t205)-[:COLLEAGUE]->(t194),(t205)-[:COLLEAGUE]->(t195),(t205)-[:COLLEAGUE]->(t196),(t205)-[:COLLEAGUE]->(t197),(t205)-[:COLLEAGUE]->(t198),(t205)-[:COLLEAGUE]->(t199),(t205)-[:COLLEAGUE]->(t200),(t205)-[:COLLEAGUE]->(t201),(t205)-[:COLLEAGUE]->(t202),(t205)-[:COLLEAGUE]->(t203),(t205)-[:COLLEAGUE]->(t204),(t205)-[:COLLEAGUE]->(t206),(t205)-[:COLLEAGUE]->(t207),(t205)-[:COLLEAGUE]->(t208),(t205)-[:COLLEAGUE]->(t209),(t205)-[:COLLEAGUE]->(t210),(t205)-[:COLLEAGUE]->(t211),(t205)-[:COLLEAGUE]->(t212),(t205)-[:COLLEAGUE]->(t213),(t206)-[:COLLEAGUE]->(t190),(t206)-[:COLLEAGUE]->(t191),(t206)-[:COLLEAGUE]->(t192),(t206)-[:COLLEAGUE]->(t193),(t206)-[:COLLEAGUE]->(t194),(t206)-[:COLLEAGUE]->(t195),(t206)-[:COLLEAGUE]->(t196),(t206)-[:COLLEAGUE]->(t197),(t206)-[:COLLEAGUE]->(t198),(t206)-[:COLLEAGUE]->(t199),(t206)-[:COLLEAGUE]->(t200),(t206)-[:COLLEAGUE]->(t201),(t206)-[:COLLEAGUE]->(t202),(t206)-[:COLLEAGUE]->(t203),(t206)-[:COLLEAGUE]->(t204),(t206)-[:COLLEAGUE]->(t205),(t206)-[:COLLEAGUE]->(t207),(t206)-[:COLLEAGUE]->(t208),(t206)-[:COLLEAGUE]->(t209),(t206)-[:COLLEAGUE]->(t210),(t206)-[:COLLEAGUE]->(t211),(t206)-[:COLLEAGUE]->(t212),(t206)-[:COLLEAGUE]->(t213),(t207)-[:COLLEAGUE]->(t190),(t207)-[:COLLEAGUE]->(t191),(t207)-[:COLLEAGUE]->(t192),(t207)-[:COLLEAGUE]->(t193),(t207)-[:COLLEAGUE]->(t194),(t207)-[:COLLEAGUE]->(t195),(t207)-[:COLLEAGUE]->(t196),(t207)-[:COLLEAGUE]->(t197),(t207)-[:COLLEAGUE]->(t198),(t207)-[:COLLEAGUE]->(t199),(t207)-[:COLLEAGUE]->(t200),(t207)-[:COLLEAGUE]->(t201),(t207)-[:COLLEAGUE]->(t202),(t207)-[:COLLEAGUE]->(t203),(t207)-[:COLLEAGUE]->(t204),(t207)-[:COLLEAGUE]->(t205),(t207)-[:COLLEAGUE]->(t206),(t207)-[:COLLEAGUE]->(t208),(t207)-[:COLLEAGUE]->(t209),(t207)-[:COLLEAGUE]->(t210),(t207)-[:COLLEAGUE]->(t211),(t207)-[:COLLEAGUE]->(t212),(t207)-[:COLLEAGUE]->(t213),(t208)-[:COLLEAGUE]->(t190),(t208)-[:COLLEAGUE]->(t191),(t208)-[:COLLEAGUE]->(t192),(t208)-[:COLLEAGUE]->(t193),(t208)-[:COLLEAGUE]->(t194),(t208)-[:COLLEAGUE]->(t195),(t208)-[:COLLEAGUE]->(t196),(t208)-[:COLLEAGUE]->(t197),(t208)-[:COLLEAGUE]->(t198),(t208)-[:COLLEAGUE]->(t199),(t208)-[:COLLEAGUE]->(t200),(t208)-[:COLLEAGUE]->(t201),(t208)-[:COLLEAGUE]->(t202),(t208)-[:COLLEAGUE]->(t203),(t208)-[:COLLEAGUE]->(t204),(t208)-[:COLLEAGUE]->(t205),(t208)-[:COLLEAGUE]->(t206),(t208)-[:COLLEAGUE]->(t207),(t208)-[:COLLEAGUE]->(t209),(t208)-[:COLLEAGUE]->(t210),(t208)-[:COLLEAGUE]->(t211),(t208)-[:COLLEAGUE]->(t212),(t208)-[:COLLEAGUE]->(t213),(t209)-[:COLLEAGUE]->(t190),(t209)-[:COLLEAGUE]->(t191),(t209)-[:COLLEAGUE]->(t192),(t209)-[:COLLEAGUE]->(t193),(t209)-[:COLLEAGUE]->(t194),(t209)-[:COLLEAGUE]->(t195),(t209)-[:COLLEAGUE]->(t196),(t209)-[:COLLEAGUE]->(t197),(t209)-[:COLLEAGUE]->(t198),(t209)-[:COLLEAGUE]->(t199),(t209)-[:COLLEAGUE]->(t200),(t209)-[:COLLEAGUE]->(t201),(t209)-[:COLLEAGUE]->(t202),(t209)-[:COLLEAGUE]->(t203),(t209)-[:COLLEAGUE]->(t204),(t209)-[:COLLEAGUE]->(t205),(t209)-[:COLLEAGUE]->(t206),(t209)-[:COLLEAGUE]->(t207),(t209)-[:COLLEAGUE]->(t208),(t209)-[:COLLEAGUE]->(t210),(t209)-[:COLLEAGUE]->(t211),(t209)-[:COLLEAGUE]->(t212),(t209)-[:COLLEAGUE]->(t213),(t210)-[:COLLEAGUE]->(t190),(t210)-[:COLLEAGUE]->(t191),(t210)-[:COLLEAGUE]->(t192),(t210)-[:COLLEAGUE]->(t193),(t210)-[:COLLEAGUE]->(t194),(t210)-[:COLLEAGUE]->(t195),(t210)-[:COLLEAGUE]->(t196),(t210)-[:COLLEAGUE]->(t197),(t210)-[:COLLEAGUE]->(t198),(t210)-[:COLLEAGUE]->(t199),(t210)-[:COLLEAGUE]->(t200),(t210)-[:COLLEAGUE]->(t201),(t210)-[:COLLEAGUE]->(t202),(t210)-[:COLLEAGUE]->(t203),(t210)-[:COLLEAGUE]->(t204),(t210)-[:COLLEAGUE]->(t205),(t210)-[:COLLEAGUE]->(t206),(t210)-[:COLLEAGUE]->(t207),(t210)-[:COLLEAGUE]->(t208),(t210)-[:COLLEAGUE]->(t209),(t210)-[:COLLEAGUE]->(t211),(t210)-[:COLLEAGUE]->(t212),(t210)-[:COLLEAGUE]->(t213),(t211)-[:COLLEAGUE]->(t190),(t211)-[:COLLEAGUE]->(t191),(t211)-[:COLLEAGUE]->(t192),(t211)-[:COLLEAGUE]->(t193),(t211)-[:COLLEAGUE]->(t194),(t211)-[:COLLEAGUE]->(t195),(t211)-[:COLLEAGUE]->(t196),(t211)-[:COLLEAGUE]->(t197),(t211)-[:COLLEAGUE]->(t198),(t211)-[:COLLEAGUE]->(t199),(t211)-[:COLLEAGUE]->(t200),(t211)-[:COLLEAGUE]->(t201),(t211)-[:COLLEAGUE]->(t202),(t211)-[:COLLEAGUE]->(t203),(t211)-[:COLLEAGUE]->(t204),(t211)-[:COLLEAGUE]->(t205),(t211)-[:COLLEAGUE]->(t206),(t211)-[:COLLEAGUE]->(t207),(t211)-[:COLLEAGUE]->(t208),(t211)-[:COLLEAGUE]->(t209),(t211)-[:COLLEAGUE]->(t210),(t211)-[:COLLEAGUE]->(t212),(t211)-[:COLLEAGUE]->(t213),(t212)-[:COLLEAGUE]->(t190),(t212)-[:COLLEAGUE]->(t191),(t212)-[:COLLEAGUE]->(t192),(t212)-[:COLLEAGUE]->(t193),(t212)-[:COLLEAGUE]->(t194),(t212)-[:COLLEAGUE]->(t195),(t212)-[:COLLEAGUE]->(t196),(t212)-[:COLLEAGUE]->(t197),(t212)-[:COLLEAGUE]->(t198),(t212)-[:COLLEAGUE]->(t199),(t212)-[:COLLEAGUE]->(t200),(t212)-[:COLLEAGUE]->(t201),(t212)-[:COLLEAGUE]->(t202),(t212)-[:COLLEAGUE]->(t203),(t212)-[:COLLEAGUE]->(t204),(t212)-[:COLLEAGUE]->(t205),(t212)-[:COLLEAGUE]->(t206),(t212)-[:COLLEAGUE]->(t207),(t212)-[:COLLEAGUE]->(t208),(t212)-[:COLLEAGUE]->(t209),(t212)-[:COLLEAGUE]->(t210),(t212)-[:COLLEAGUE]->(t211),(t212)-[:COLLEAGUE]->(t213),(t213)-[:COLLEAGUE]->(t190),(t213)-[:COLLEAGUE]->(t191),(t213)-[:COLLEAGUE]->(t192),(t213)-[:COLLEAGUE]->(t193),(t213)-[:COLLEAGUE]->(t194),(t213)-[:COLLEAGUE]->(t195),(t213)-[:COLLEAGUE]->(t196),(t213)-[:COLLEAGUE]->(t197),(t213)-[:COLLEAGUE]->(t198),(t213)-[:COLLEAGUE]->(t199),(t213)-[:COLLEAGUE]->(t200),(t213)-[:COLLEAGUE]->(t201),(t213)-[:COLLEAGUE]->(t202),(t213)-[:COLLEAGUE]->(t203),(t213)-[:COLLEAGUE]->(t204),(t213)-[:COLLEAGUE]->(t205),(t213)-[:COLLEAGUE]->(t206),(t213)-[:COLLEAGUE]->(t207),(t213)-[:COLLEAGUE]->(t208),(t213)-[:COLLEAGUE]->(t209),(t213)-[:COLLEAGUE]->(t210),(t213)-[:COLLEAGUE]->(t211),(t213)-[:COLLEAGUE]->(t212),(t214)-[:COLLEAGUE]->(t215),(t214)-[:COLLEAGUE]->(t216),(t214)-[:COLLEAGUE]->(t217),(t214)-[:COLLEAGUE]->(t218),(t214)-[:COLLEAGUE]->(t219),(t214)-[:COLLEAGUE]->(t220),(t214)-[:COLLEAGUE]->(t221),(t214)-[:COLLEAGUE]->(t222),(t214)-[:COLLEAGUE]->(t223),(t214)-[:COLLEAGUE]->(t224),(t214)-[:COLLEAGUE]->(t225),(t214)-[:COLLEAGUE]->(t226),(t214)-[:COLLEAGUE]->(t227),(t214)-[:COLLEAGUE]->(t228),(t214)-[:COLLEAGUE]->(t229),(t214)-[:COLLEAGUE]->(t230),(t214)-[:COLLEAGUE]->(t231),(t214)-[:COLLEAGUE]->(t232),(t214)-[:COLLEAGUE]->(t233),(t214)-[:COLLEAGUE]->(t234),(t214)-[:COLLEAGUE]->(t235),(t214)-[:COLLEAGUE]->(t236),(t215)-[:COLLEAGUE]->(t214),(t215)-[:COLLEAGUE]->(t216),(t215)-[:COLLEAGUE]->(t217),(t215)-[:COLLEAGUE]->(t218),(t215)-[:COLLEAGUE]->(t219),(t215)-[:COLLEAGUE]->(t220),(t215)-[:COLLEAGUE]->(t221),(t215)-[:COLLEAGUE]->(t222),(t215)-[:COLLEAGUE]->(t223),(t215)-[:COLLEAGUE]->(t224),(t215)-[:COLLEAGUE]->(t225),(t215)-[:COLLEAGUE]->(t226),(t215)-[:COLLEAGUE]->(t227),(t215)-[:COLLEAGUE]->(t228),(t215)-[:COLLEAGUE]->(t229),(t215)-[:COLLEAGUE]->(t230),(t215)-[:COLLEAGUE]->(t231),(t215)-[:COLLEAGUE]->(t232),(t215)-[:COLLEAGUE]->(t233),(t215)-[:COLLEAGUE]->(t234),(t215)-[:COLLEAGUE]->(t235),(t215)-[:COLLEAGUE]->(t236),(t216)-[:COLLEAGUE]->(t214),(t216)-[:COLLEAGUE]->(t215),(t216)-[:COLLEAGUE]->(t217),(t216)-[:COLLEAGUE]->(t218),(t216)-[:COLLEAGUE]->(t219),(t216)-[:COLLEAGUE]->(t220),(t216)-[:COLLEAGUE]->(t221),(t216)-[:COLLEAGUE]->(t222),(t216)-[:COLLEAGUE]->(t223),(t216)-[:COLLEAGUE]->(t224),(t216)-[:COLLEAGUE]->(t225),(t216)-[:COLLEAGUE]->(t226),(t216)-[:COLLEAGUE]->(t227),(t216)-[:COLLEAGUE]->(t228),(t216)-[:COLLEAGUE]->(t229),(t216)-[:COLLEAGUE]->(t230),(t216)-[:COLLEAGUE]->(t231),(t216)-[:COLLEAGUE]->(t232),(t216)-[:COLLEAGUE]->(t233),(t216)-[:COLLEAGUE]->(t234),(t216)-[:COLLEAGUE]->(t235),(t216)-[:COLLEAGUE]->(t236),(t217)-[:COLLEAGUE]->(t214),(t217)-[:COLLEAGUE]->(t215),(t217)-[:COLLEAGUE]->(t216),(t217)-[:COLLEAGUE]->(t218),(t217)-[:COLLEAGUE]->(t219),(t217)-[:COLLEAGUE]->(t220),(t217)-[:COLLEAGUE]->(t221),(t217)-[:COLLEAGUE]->(t222),(t217)-[:COLLEAGUE]->(t223),(t217)-[:COLLEAGUE]->(t224),(t217)-[:COLLEAGUE]->(t225),(t217)-[:COLLEAGUE]->(t226),(t217)-[:COLLEAGUE]->(t227),(t217)-[:COLLEAGUE]->(t228),(t217)-[:COLLEAGUE]->(t229),(t217)-[:COLLEAGUE]->(t230),(t217)-[:COLLEAGUE]->(t231),(t217)-[:COLLEAGUE]->(t232),(t217)-[:COLLEAGUE]->(t233),(t217)-[:COLLEAGUE]->(t234),(t217)-[:COLLEAGUE]->(t235),(t217)-[:COLLEAGUE]->(t236),(t218)-[:COLLEAGUE]->(t214),(t218)-[:COLLEAGUE]->(t215),(t218)-[:COLLEAGUE]->(t216),(t218)-[:COLLEAGUE]->(t217),(t218)-[:COLLEAGUE]->(t219),(t218)-[:COLLEAGUE]->(t220),(t218)-[:COLLEAGUE]->(t221),(t218)-[:COLLEAGUE]->(t222),(t218)-[:COLLEAGUE]->(t223),(t218)-[:COLLEAGUE]->(t224),(t218)-[:COLLEAGUE]->(t225),(t218)-[:COLLEAGUE]->(t226),(t218)-[:COLLEAGUE]->(t227),(t218)-[:COLLEAGUE]->(t228),(t218)-[:COLLEAGUE]->(t229),(t218)-[:COLLEAGUE]->(t230),(t218)-[:COLLEAGUE]->(t231),(t218)-[:COLLEAGUE]->(t232),(t218)-[:COLLEAGUE]->(t233),(t218)-[:COLLEAGUE]->(t234),(t218)-[:COLLEAGUE]->(t235),(t218)-[:COLLEAGUE]->(t236),(t219)-[:COLLEAGUE]->(t214),(t219)-[:COLLEAGUE]->(t215),(t219)-[:COLLEAGUE]->(t216),(t219)-[:COLLEAGUE]->(t217),(t219)-[:COLLEAGUE]->(t218),(t219)-[:COLLEAGUE]->(t220),(t219)-[:COLLEAGUE]->(t221),(t219)-[:COLLEAGUE]->(t222),(t219)-[:COLLEAGUE]->(t223),(t219)-[:COLLEAGUE]->(t224),(t219)-[:COLLEAGUE]->(t225),(t219)-[:COLLEAGUE]->(t226),(t219)-[:COLLEAGUE]->(t227),(t219)-[:COLLEAGUE]->(t228),(t219)-[:COLLEAGUE]->(t229),(t219)-[:COLLEAGUE]->(t230),(t219)-[:COLLEAGUE]->(t231),(t219)-[:COLLEAGUE]->(t232),(t219)-[:COLLEAGUE]->(t233),(t219)-[:COLLEAGUE]->(t234),(t219)-[:COLLEAGUE]->(t235),(t219)-[:COLLEAGUE]->(t236),(t220)-[:COLLEAGUE]->(t214),(t220)-[:COLLEAGUE]->(t215),(t220)-[:COLLEAGUE]->(t216),(t220)-[:COLLEAGUE]->(t217),(t220)-[:COLLEAGUE]->(t218),(t220)-[:COLLEAGUE]->(t219),(t220)-[:COLLEAGUE]->(t221),(t220)-[:COLLEAGUE]->(t222),(t220)-[:COLLEAGUE]->(t223),(t220)-[:COLLEAGUE]->(t224),(t220)-[:COLLEAGUE]->(t225),(t220)-[:COLLEAGUE]->(t226),(t220)-[:COLLEAGUE]->(t227),(t220)-[:COLLEAGUE]->(t228),(t220)-[:COLLEAGUE]->(t229),(t220)-[:COLLEAGUE]->(t230),(t220)-[:COLLEAGUE]->(t231),(t220)-[:COLLEAGUE]->(t232),(t220)-[:COLLEAGUE]->(t233),(t220)-[:COLLEAGUE]->(t234),(t220)-[:COLLEAGUE]->(t235),(t220)-[:COLLEAGUE]->(t236),(t221)-[:COLLEAGUE]->(t214),(t221)-[:COLLEAGUE]->(t215),(t221)-[:COLLEAGUE]->(t216),(t221)-[:COLLEAGUE]->(t217),(t221)-[:COLLEAGUE]->(t218),(t221)-[:COLLEAGUE]->(t219),(t221)-[:COLLEAGUE]->(t220),(t221)-[:COLLEAGUE]->(t222),(t221)-[:COLLEAGUE]->(t223),(t221)-[:COLLEAGUE]->(t224),(t221)-[:COLLEAGUE]->(t225),(t221)-[:COLLEAGUE]->(t226),(t221)-[:COLLEAGUE]->(t227),(t221)-[:COLLEAGUE]->(t228),(t221)-[:COLLEAGUE]->(t229),(t221)-[:COLLEAGUE]->(t230),(t221)-[:COLLEAGUE]->(t231),(t221)-[:COLLEAGUE]->(t232),(t221)-[:COLLEAGUE]->(t233),(t221)-[:COLLEAGUE]->(t234),(t221)-[:COLLEAGUE]->(t235),(t221)-[:COLLEAGUE]->(t236),(t222)-[:COLLEAGUE]->(t214),(t222)-[:COLLEAGUE]->(t215),(t222)-[:COLLEAGUE]->(t216),(t222)-[:COLLEAGUE]->(t217),(t222)-[:COLLEAGUE]->(t218),(t222)-[:COLLEAGUE]->(t219),(t222)-[:COLLEAGUE]->(t220),(t222)-[:COLLEAGUE]->(t221),(t222)-[:COLLEAGUE]->(t223),(t222)-[:COLLEAGUE]->(t224),(t222)-[:COLLEAGUE]->(t225),(t222)-[:COLLEAGUE]->(t226),(t222)-[:COLLEAGUE]->(t227),(t222)-[:COLLEAGUE]->(t228),(t222)-[:COLLEAGUE]->(t229),(t222)-[:COLLEAGUE]->(t230),(t222)-[:COLLEAGUE]->(t231),(t222)-[:COLLEAGUE]->(t232),(t222)-[:COLLEAGUE]->(t233),(t222)-[:COLLEAGUE]->(t234),(t222)-[:COLLEAGUE]->(t235),(t222)-[:COLLEAGUE]->(t236),(t223)-[:COLLEAGUE]->(t214),(t223)-[:COLLEAGUE]->(t215),(t223)-[:COLLEAGUE]->(t216),(t223)-[:COLLEAGUE]->(t217),(t223)-[:COLLEAGUE]->(t218),(t223)-[:COLLEAGUE]->(t219),(t223)-[:COLLEAGUE]->(t220),(t223)-[:COLLEAGUE]->(t221),(t223)-[:COLLEAGUE]->(t222),(t223)-[:COLLEAGUE]->(t224),(t223)-[:COLLEAGUE]->(t225),(t223)-[:COLLEAGUE]->(t226),(t223)-[:COLLEAGUE]->(t227),(t223)-[:COLLEAGUE]->(t228),(t223)-[:COLLEAGUE]->(t229),(t223)-[:COLLEAGUE]->(t230),(t223)-[:COLLEAGUE]->(t231),(t223)-[:COLLEAGUE]->(t232),(t223)-[:COLLEAGUE]->(t233),(t223)-[:COLLEAGUE]->(t234),(t223)-[:COLLEAGUE]->(t235),(t223)-[:COLLEAGUE]->(t236),(t224)-[:COLLEAGUE]->(t214),(t224)-[:COLLEAGUE]->(t215),(t224)-[:COLLEAGUE]->(t216),(t224)-[:COLLEAGUE]->(t217),(t224)-[:COLLEAGUE]->(t218),(t224)-[:COLLEAGUE]->(t219),(t224)-[:COLLEAGUE]->(t220),(t224)-[:COLLEAGUE]->(t221),(t224)-[:COLLEAGUE]->(t222),(t224)-[:COLLEAGUE]->(t223),(t224)-[:COLLEAGUE]->(t225),(t224)-[:COLLEAGUE]->(t226),(t224)-[:COLLEAGUE]->(t227),(t224)-[:COLLEAGUE]->(t228),(t224)-[:COLLEAGUE]->(t229),(t224)-[:COLLEAGUE]->(t230),(t224)-[:COLLEAGUE]->(t231),(t224)-[:COLLEAGUE]->(t232),(t224)-[:COLLEAGUE]->(t233),(t224)-[:COLLEAGUE]->(t234),(t224)-[:COLLEAGUE]->(t235),(t224)-[:COLLEAGUE]->(t236),(t225)-[:COLLEAGUE]->(t214),(t225)-[:COLLEAGUE]->(t215),(t225)-[:COLLEAGUE]->(t216),(t225)-[:COLLEAGUE]->(t217),(t225)-[:COLLEAGUE]->(t218),(t225)-[:COLLEAGUE]->(t219),(t225)-[:COLLEAGUE]->(t220),(t225)-[:COLLEAGUE]->(t221),(t225)-[:COLLEAGUE]->(t222),(t225)-[:COLLEAGUE]->(t223),(t225)-[:COLLEAGUE]->(t224),(t225)-[:COLLEAGUE]->(t226),(t225)-[:COLLEAGUE]->(t227),(t225)-[:COLLEAGUE]->(t228),(t225)-[:COLLEAGUE]->(t229),(t225)-[:COLLEAGUE]->(t230),(t225)-[:COLLEAGUE]->(t231),(t225)-[:COLLEAGUE]->(t232),(t225)-[:COLLEAGUE]->(t233),(t225)-[:COLLEAGUE]->(t234),(t225)-[:COLLEAGUE]->(t235),(t225)-[:COLLEAGUE]->(t236),(t226)-[:COLLEAGUE]->(t214),(t226)-[:COLLEAGUE]->(t215),(t226)-[:COLLEAGUE]->(t216),(t226)-[:COLLEAGUE]->(t217),(t226)-[:COLLEAGUE]->(t218),(t226)-[:COLLEAGUE]->(t219),(t226)-[:COLLEAGUE]->(t220),(t226)-[:COLLEAGUE]->(t221),(t226)-[:COLLEAGUE]->(t222),(t226)-[:COLLEAGUE]->(t223),(t226)-[:COLLEAGUE]->(t224),(t226)-[:COLLEAGUE]->(t225),(t226)-[:COLLEAGUE]->(t227),(t226)-[:COLLEAGUE]->(t228),(t226)-[:COLLEAGUE]->(t229),(t226)-[:COLLEAGUE]->(t230),(t226)-[:COLLEAGUE]->(t231),(t226)-[:COLLEAGUE]->(t232),(t226)-[:COLLEAGUE]->(t233),(t226)-[:COLLEAGUE]->(t234),(t226)-[:COLLEAGUE]->(t235),(t226)-[:COLLEAGUE]->(t236),(t227)-[:COLLEAGUE]->(t214),(t227)-[:COLLEAGUE]->(t215),(t227)-[:COLLEAGUE]->(t216),(t227)-[:COLLEAGUE]->(t217),(t227)-[:COLLEAGUE]->(t218),(t227)-[:COLLEAGUE]->(t219),(t227)-[:COLLEAGUE]->(t220),(t227)-[:COLLEAGUE]->(t221),(t227)-[:COLLEAGUE]->(t222),(t227)-[:COLLEAGUE]->(t223),(t227)-[:COLLEAGUE]->(t224),(t227)-[:COLLEAGUE]->(t225),(t227)-[:COLLEAGUE]->(t226),(t227)-[:COLLEAGUE]->(t228),(t227)-[:COLLEAGUE]->(t229),(t227)-[:COLLEAGUE]->(t230),(t227)-[:COLLEAGUE]->(t231),(t227)-[:COLLEAGUE]->(t232),(t227)-[:COLLEAGUE]->(t233),(t227)-[:COLLEAGUE]->(t234),(t227)-[:COLLEAGUE]->(t235),(t227)-[:COLLEAGUE]->(t236),(t228)-[:COLLEAGUE]->(t214),(t228)-[:COLLEAGUE]->(t215),(t228)-[:COLLEAGUE]->(t216),(t228)-[:COLLEAGUE]->(t217),(t228)-[:COLLEAGUE]->(t218),(t228)-[:COLLEAGUE]->(t219),(t228)-[:COLLEAGUE]->(t220),(t228)-[:COLLEAGUE]->(t221),(t228)-[:COLLEAGUE]->(t222),(t228)-[:COLLEAGUE]->(t223),(t228)-[:COLLEAGUE]->(t224),(t228)-[:COLLEAGUE]->(t225),(t228)-[:COLLEAGUE]->(t226),(t228)-[:COLLEAGUE]->(t227),(t228)-[:COLLEAGUE]->(t229),(t228)-[:COLLEAGUE]->(t230),(t228)-[:COLLEAGUE]->(t231),(t228)-[:COLLEAGUE]->(t232),(t228)-[:COLLEAGUE]->(t233),(t228)-[:COLLEAGUE]->(t234),(t228)-[:COLLEAGUE]->(t235),(t228)-[:COLLEAGUE]->(t236),(t229)-[:COLLEAGUE]->(t214),(t229)-[:COLLEAGUE]->(t215),(t229)-[:COLLEAGUE]->(t216),(t229)-[:COLLEAGUE]->(t217),(t229)-[:COLLEAGUE]->(t218),(t229)-[:COLLEAGUE]->(t219),(t229)-[:COLLEAGUE]->(t220),(t229)-[:COLLEAGUE]->(t221),(t229)-[:COLLEAGUE]->(t222),(t229)-[:COLLEAGUE]->(t223),(t229)-[:COLLEAGUE]->(t224),(t229)-[:COLLEAGUE]->(t225),(t229)-[:COLLEAGUE]->(t226),(t229)-[:COLLEAGUE]->(t227),(t229)-[:COLLEAGUE]->(t228),(t229)-[:COLLEAGUE]->(t230),(t229)-[:COLLEAGUE]->(t231),(t229)-[:COLLEAGUE]->(t232),(t229)-[:COLLEAGUE]->(t233),(t229)-[:COLLEAGUE]->(t234),(t229)-[:COLLEAGUE]->(t235),(t229)-[:COLLEAGUE]->(t236),(t230)-[:COLLEAGUE]->(t214),(t230)-[:COLLEAGUE]->(t215),(t230)-[:COLLEAGUE]->(t216),(t230)-[:COLLEAGUE]->(t217),(t230)-[:COLLEAGUE]->(t218),(t230)-[:COLLEAGUE]->(t219),(t230)-[:COLLEAGUE]->(t220),(t230)-[:COLLEAGUE]->(t221),(t230)-[:COLLEAGUE]->(t222),(t230)-[:COLLEAGUE]->(t223),(t230)-[:COLLEAGUE]->(t224),(t230)-[:COLLEAGUE]->(t225),(t230)-[:COLLEAGUE]->(t226),(t230)-[:COLLEAGUE]->(t227),(t230)-[:COLLEAGUE]->(t228),(t230)-[:COLLEAGUE]->(t229),(t230)-[:COLLEAGUE]->(t231),(t230)-[:COLLEAGUE]->(t232),(t230)-[:COLLEAGUE]->(t233),(t230)-[:COLLEAGUE]->(t234),(t230)-[:COLLEAGUE]->(t235),(t230)-[:COLLEAGUE]->(t236),(t231)-[:COLLEAGUE]->(t214),(t231)-[:COLLEAGUE]->(t215),(t231)-[:COLLEAGUE]->(t216),(t231)-[:COLLEAGUE]->(t217),(t231)-[:COLLEAGUE]->(t218),(t231)-[:COLLEAGUE]->(t219),(t231)-[:COLLEAGUE]->(t220),(t231)-[:COLLEAGUE]->(t221),(t231)-[:COLLEAGUE]->(t222),(t231)-[:COLLEAGUE]->(t223),(t231)-[:COLLEAGUE]->(t224),(t231)-[:COLLEAGUE]->(t225),(t231)-[:COLLEAGUE]->(t226),(t231)-[:COLLEAGUE]->(t227),(t231)-[:COLLEAGUE]->(t228),(t231)-[:COLLEAGUE]->(t229),(t231)-[:COLLEAGUE]->(t230),(t231)-[:COLLEAGUE]->(t232),(t231)-[:COLLEAGUE]->(t233),(t231)-[:COLLEAGUE]->(t234),(t231)-[:COLLEAGUE]->(t235),(t231)-[:COLLEAGUE]->(t236),(t232)-[:COLLEAGUE]->(t214),(t232)-[:COLLEAGUE]->(t215),(t232)-[:COLLEAGUE]->(t216),(t232)-[:COLLEAGUE]->(t217),(t232)-[:COLLEAGUE]->(t218),(t232)-[:COLLEAGUE]->(t219),(t232)-[:COLLEAGUE]->(t220),(t232)-[:COLLEAGUE]->(t221),(t232)-[:COLLEAGUE]->(t222),(t232)-[:COLLEAGUE]->(t223),(t232)-[:COLLEAGUE]->(t224),(t232)-[:COLLEAGUE]->(t225),(t232)-[:COLLEAGUE]->(t226),(t232)-[:COLLEAGUE]->(t227),(t232)-[:COLLEAGUE]->(t228),(t232)-[:COLLEAGUE]->(t229),(t232)-[:COLLEAGUE]->(t230),(t232)-[:COLLEAGUE]->(t231),(t232)-[:COLLEAGUE]->(t233),(t232)-[:COLLEAGUE]->(t234),(t232)-[:COLLEAGUE]->(t235),(t232)-[:COLLEAGUE]->(t236),(t233)-[:COLLEAGUE]->(t214),(t233)-[:COLLEAGUE]->(t215),(t233)-[:COLLEAGUE]->(t216),(t233)-[:COLLEAGUE]->(t217),(t233)-[:COLLEAGUE]->(t218),(t233)-[:COLLEAGUE]->(t219),(t233)-[:COLLEAGUE]->(t220),(t233)-[:COLLEAGUE]->(t221),(t233)-[:COLLEAGUE]->(t222),(t233)-[:COLLEAGUE]->(t223),(t233)-[:COLLEAGUE]->(t224),(t233)-[:COLLEAGUE]->(t225),(t233)-[:COLLEAGUE]->(t226),(t233)-[:COLLEAGUE]->(t227),(t233)-[:COLLEAGUE]->(t228),(t233)-[:COLLEAGUE]->(t229),(t233)-[:COLLEAGUE]->(t230),(t233)-[:COLLEAGUE]->(t231),(t233)-[:COLLEAGUE]->(t232),(t233)-[:COLLEAGUE]->(t234),(t233)-[:COLLEAGUE]->(t235),(t233)-[:COLLEAGUE]->(t236),(t234)-[:COLLEAGUE]->(t214),(t234)-[:COLLEAGUE]->(t215),(t234)-[:COLLEAGUE]->(t216),(t234)-[:COLLEAGUE]->(t217),(t234)-[:COLLEAGUE]->(t218),(t234)-[:COLLEAGUE]->(t219),(t234)-[:COLLEAGUE]->(t220),(t234)-[:COLLEAGUE]->(t221),(t234)-[:COLLEAGUE]->(t222),(t234)-[:COLLEAGUE]->(t223),(t234)-[:COLLEAGUE]->(t224),(t234)-[:COLLEAGUE]->(t225),(t234)-[:COLLEAGUE]->(t226),(t234)-[:COLLEAGUE]->(t227),(t234)-[:COLLEAGUE]->(t228),(t234)-[:COLLEAGUE]->(t229),(t234)-[:COLLEAGUE]->(t230),(t234)-[:COLLEAGUE]->(t231),(t234)-[:COLLEAGUE]->(t232),(t234)-[:COLLEAGUE]->(t233),(t234)-[:COLLEAGUE]->(t235),(t234)-[:COLLEAGUE]->(t236),(t235)-[:COLLEAGUE]->(t214),(t235)-[:COLLEAGUE]->(t215),(t235)-[:COLLEAGUE]->(t216),(t235)-[:COLLEAGUE]->(t217),(t235)-[:COLLEAGUE]->(t218),(t235)-[:COLLEAGUE]->(t219),(t235)-[:COLLEAGUE]->(t220),(t235)-[:COLLEAGUE]->(t221),(t235)-[:COLLEAGUE]->(t222),(t235)-[:COLLEAGUE]->(t223),(t235)-[:COLLEAGUE]->(t224),(t235)-[:COLLEAGUE]->(t225),(t235)-[:COLLEAGUE]->(t226),(t235)-[:COLLEAGUE]->(t227),(t235)-[:COLLEAGUE]->(t228),(t235)-[:COLLEAGUE]->(t229),(t235)-[:COLLEAGUE]->(t230),(t235)-[:COLLEAGUE]->(t231),(t235)-[:COLLEAGUE]->(t232),(t235)-[:COLLEAGUE]->(t233),(t235)-[:COLLEAGUE]->(t234),(t235)-[:COLLEAGUE]->(t236),(t236)-[:COLLEAGUE]->(t214),(t236)-[:COLLEAGUE]->(t215),(t236)-[:COLLEAGUE]->(t216),(t236)-[:COLLEAGUE]->(t217),(t236)-[:COLLEAGUE]->(t218),(t236)-[:COLLEAGUE]->(t219),(t236)-[:COLLEAGUE]->(t220),(t236)-[:COLLEAGUE]->(t221),(t236)-[:COLLEAGUE]->(t222),(t236)-[:COLLEAGUE]->(t223),(t236)-[:COLLEAGUE]->(t224),(t236)-[:COLLEAGUE]->(t225),(t236)-[:COLLEAGUE]->(t226),(t236)-[:COLLEAGUE]->(t227),(t236)-[:COLLEAGUE]->(t228),(t236)-[:COLLEAGUE]->(t229),(t236)-[:COLLEAGUE]->(t230),(t236)-[:COLLEAGUE]->(t231),(t236)-[:COLLEAGUE]->(t232),(t236)-[:COLLEAGUE]->(t233),(t236)-[:COLLEAGUE]->(t234),(t236)-[:COLLEAGUE]->(t235),(t0)-[:SOLD_TO{cost:150000000.0}]->(GT),(t1)-[:SOLD_TO{cost:150000000.0}]->(GT),(t2)-[:SOLD_TO{cost:100000000.0}]->(GT),(t3)-[:SOLD_TO{cost:90000000.0}]->(GT),(t4)-[:SOLD_TO{cost:80000000.0}]->(GT),(t5)-[:SOLD_TO{cost:62500000.0}]->(GT),(t6)-[:SOLD_TO{cost:32000000.0}]->(GT),(t7)-[:SOLD_TO{cost:30000000.0}]->(GT),(t8)-[:SOLD_TO{cost:30000000.0}]->(GT),(t9)-[:SOLD_TO{cost:26000000.0}]->(GT),(t10)-[:SOLD_TO{cost:24000000.0}]->(GT),(t11)-[:SOLD_TO{cost:24000000.0}]->(GT),(t12)-[:SOLD_TO{cost:20000000.0}]->(GT),(t13)-[:SOLD_TO{cost:19000000.0}]->(GT),(t14)-[:SOLD_TO{cost:17000000.0}]->(GT),(t15)-[:SOLD_TO{cost:14000000.0}]->(GT),(t16)-[:SOLD_TO{cost:11000000.0}]->(GT),(t17)-[:SOLD_TO{cost:5000000.0}]->(GT),(t18)-[:SOLD_TO{cost:5000000.0}]->(GT),(t19)-[:SOLD_TO{cost:3000000.0}]->(GT),(t20)-[:SOLD_TO{cost:2000000.0}]->(GT),(t21)-[:SOLD_TO{cost:2000000.0}]->(GT),(t22)-[:SOLD_TO{cost:160000000.0}]->(CSK),(t23)-[:SOLD_TO{cost:140000000.0}]->(CSK),(t24)-[:SOLD_TO{cost:120000000.0}]->(CSK),(t25)-[:SOLD_TO{cost:80000000.0}]->(CSK),(t26)-[:SOLD_TO{cost:67500000.0}]->(CSK),(t27)-[:SOLD_TO{cost:60000000.0}]->(CSK),(t28)-[:SOLD_TO{cost:44000000.0}]->(CSK),(t29)-[:SOLD_TO{cost:40000000.0}]->(CSK),(t30)-[:SOLD_TO{cost:36000000.0}]->(CSK),(t31)-[:SOLD_TO{cost:20000000.0}]->(CSK),(t32)-[:SOLD_TO{cost:19000000.0}]->(CSK),(t33)-[:SOLD_TO{cost:19000000.0}]->(CSK),(t34)-[:SOLD_TO{cost:15000000.0}]->(CSK),(t35)-[:SOLD_TO{cost:12000000.0}]->(CSK),(t36)-[:SOLD_TO{cost:10000000.0}]->(CSK),(t37)-[:SOLD_TO{cost:7000000.0}]->(CSK),(t38)-[:SOLD_TO{cost:5000000.0}]->(CSK),(t39)-[:SOLD_TO{cost:2000000.0}]->(CSK),(t40)-[:SOLD_TO{cost:2000000.0}]->(CSK),(t41)-[:SOLD_TO{cost:2000000.0}]->(CSK),(t42)-[:SOLD_TO{cost:2000000.0}]->(CSK),(t43)-[:SOLD_TO{cost:2000000.0}]->(CSK),(t44)-[:SOLD_TO{cost:2000000.0}]->(CSK),(t45)-[:SOLD_TO{cost:2000000.0}]->(CSK),(t46)-[:SOLD_TO{cost:2000000.0}]->(CSK),(t47)-[:SOLD_TO{cost:160000000.0}]->(DC),(t48)-[:SOLD_TO{cost:107500000.0}]->(DC),(t49)-[:SOLD_TO{cost:90000000.0}]->(DC),(t50)-[:SOLD_TO{cost:75000000.0}]->(DC),(t51)-[:SOLD_TO{cost:65000000.0}]->(DC),(t52)-[:SOLD_TO{cost:65000000.0}]->(DC),(t53)-[:SOLD_TO{cost:62500000.0}]->(DC),(t54)-[:SOLD_TO{cost:52500000.0}]->(DC),(t55)-[:SOLD_TO{cost:42000000.0}]->(DC),(t56)-[:SOLD_TO{cost:28000000.0}]->(DC),(t57)-[:SOLD_TO{cost:20000000.0}]->(DC),(t58)-[:SOLD_TO{cost:20000000.0}]->(DC),(t59)-[:SOLD_TO{cost:20000000.0}]->(DC),(t60)-[:SOLD_TO{cost:11000000.0}]->(DC),(t61)-[:SOLD_TO{cost:11000000.0}]->(DC),(t62)-[:SOLD_TO{cost:6500000.0}]->(DC),(t63)-[:SOLD_TO{cost:5000000.0}]->(DC),(t64)-[:SOLD_TO{cost:5000000.0}]->(DC),(t65)-[:SOLD_TO{cost:5000000.0}]->(DC),(t66)-[:SOLD_TO{cost:5000000.0}]->(DC),(t67)-[:SOLD_TO{cost:2000000.0}]->(DC),(t68)-[:SOLD_TO{cost:2000000.0}]->(DC),(t69)-[:SOLD_TO{cost:2000000.0}]->(DC),(t70)-[:SOLD_TO{cost:2000000.0}]->(DC),(t71)-[:SOLD_TO{cost:122500000.0}]->(KKR),(t72)-[:SOLD_TO{cost:120000000.0}]->(KKR),(t73)-[:SOLD_TO{cost:80000000.0}]->(KKR),(t74)-[:SOLD_TO{cost:80000000.0}]->(KKR),(t75)-[:SOLD_TO{cost:80000000.0}]->(KKR),(t76)-[:SOLD_TO{cost:72500000.0}]->(KKR),(t77)-[:SOLD_TO{cost:72500000.0}]->(KKR),(t78)-[:SOLD_TO{cost:60000000.0}]->(KKR),(t79)-[:SOLD_TO{cost:20000000.0}]->(KKR),(t80)-[:SOLD_TO{cost:20000000.0}]->(KKR),(t81)-[:SOLD_TO{cost:15000000.0}]->(KKR),(t82)-[:SOLD_TO{cost:15000000.0}]->(KKR),(t83)-[:SOLD_TO{cost:10000000.0}]->(KKR),(t84)-[:SOLD_TO{cost:10000000.0}]->(KKR),(t85)-[:SOLD_TO{cost:6000000.0}]->(KKR),(t86)-[:SOLD_TO{cost:5500000.0}]->(KKR),(t87)-[:SOLD_TO{cost:5500000.0}]->(KKR),(t88)-[:SOLD_TO{cost:5000000.0}]->(KKR),(t89)-[:SOLD_TO{cost:4000000.0}]->(KKR),(t90)-[:SOLD_TO{cost:2000000.0}]->(KKR),(t91)-[:SOLD_TO{cost:2000000.0}]->(KKR),(t92)-[:SOLD_TO{cost:2000000.0}]->(KKR),(t93)-[:SOLD_TO{cost:2000000.0}]->(KKR),(t94)-[:SOLD_TO{cost:2000000.0}]->(KKR),(t95)-[:SOLD_TO{cost:2000000.0}]->(KKR),(t96)-[:SOLD_TO{cost:120000000.0}]->(PK),(t97)-[:SOLD_TO{cost:115000000.0}]->(PK),(t98)-[:SOLD_TO{cost:92500000.0}]->(PK),(t99)-[:SOLD_TO{cost:90000000.0}]->(PK),(t100)-[:SOLD_TO{cost:82500000.0}]->(PK),(t101)-[:SOLD_TO{cost:67500000.0}]->(PK),(t102)-[:SOLD_TO{cost:60000000.0}]->(PK),(t103)-[:SOLD_TO{cost:52500000.0}]->(PK),(t104)-[:SOLD_TO{cost:40000000.0}]->(PK),(t105)-[:SOLD_TO{cost:38000000.0}]->(PK),(t106)-[:SOLD_TO{cost:20000000.0}]->(PK),(t107)-[:SOLD_TO{cost:20000000.0}]->(PK),(t108)-[:SOLD_TO{cost:7500000.0}]->(PK),(t109)-[:SOLD_TO{cost:6000000.0}]->(PK),(t110)-[:SOLD_TO{cost:5500000.0}]->(PK),(t111)-[:SOLD_TO{cost:5000000.0}]->(PK),(t112)-[:SOLD_TO{cost:5000000.0}]->(PK),(t113)-[:SOLD_TO{cost:4000000.0}]->(PK),(t114)-[:SOLD_TO{cost:2500000.0}]->(PK),(t115)-[:SOLD_TO{cost:2000000.0}]->(PK),(t116)-[:SOLD_TO{cost:2000000.0}]->(PK),(t117)-[:SOLD_TO{cost:2000000.0}]->(PK),(t118)-[:SOLD_TO{cost:2000000.0}]->(PK),(t119)-[:SOLD_TO{cost:2000000.0}]->(PK),(t120)-[:SOLD_TO{cost:2000000.0}]->(PK),(t121)-[:SOLD_TO{cost:170000000.0}]->(LSG),(t122)-[:SOLD_TO{cost:100000000.0}]->(LSG),(t123)-[:SOLD_TO{cost:92000000.0}]->(LSG),(t124)-[:SOLD_TO{cost:87500000.0}]->(LSG),(t125)-[:SOLD_TO{cost:82500000.0}]->(LSG),(t126)-[:SOLD_TO{cost:75000000.0}]->(LSG),(t127)-[:SOLD_TO{cost:67500000.0}]->(LSG),(t128)-[:SOLD_TO{cost:57500000.0}]->(LSG),(t129)-[:SOLD_TO{cost:46000000.0}]->(LSG),(t130)-[:SOLD_TO{cost:40000000.0}]->(LSG),(t131)-[:SOLD_TO{cost:20000000.0}]->(LSG),(t132)-[:SOLD_TO{cost:20000000.0}]->(LSG),(t133)-[:SOLD_TO{cost:9000000.0}]->(LSG),(t134)-[:SOLD_TO{cost:5000000.0}]->(LSG),(t135)-[:SOLD_TO{cost:5000000.0}]->(LSG),(t136)-[:SOLD_TO{cost:5000000.0}]->(LSG),(t137)-[:SOLD_TO{cost:2000000.0}]->(LSG),(t138)-[:SOLD_TO{cost:2000000.0}]->(LSG),(t139)-[:SOLD_TO{cost:2000000.0}]->(LSG),(t140)-[:SOLD_TO{cost:2000000.0}]->(LSG),(t141)-[:SOLD_TO{cost:2000000.0}]->(LSG),(t142)-[:SOLD_TO{cost:2000000.0}]->(LSG),(t143)-[:SOLD_TO{cost:160000000.0}]->(MI),(t144)-[:SOLD_TO{cost:152500000.0}]->(MI),(t145)-[:SOLD_TO{cost:120000000.0}]->(MI),(t146)-[:SOLD_TO{cost:82500000.0}]->(MI),(t147)-[:SOLD_TO{cost:80000000.0}]->(MI),(t148)-[:SOLD_TO{cost:80000000.0}]->(MI),(t149)-[:SOLD_TO{cost:60000000.0}]->(MI),(t150)-[:SOLD_TO{cost:30000000.0}]->(MI),(t151)-[:SOLD_TO{cost:26000000.0}]->(MI),(t152)-[:SOLD_TO{cost:17000000.0}]->(MI),(t153)-[:SOLD_TO{cost:16000000.0}]->(MI),(t154)-[:SOLD_TO{cost:15000000.0}]->(MI),(t155)-[:SOLD_TO{cost:13000000.0}]->(MI),(t156)-[:SOLD_TO{cost:10000000.0}]->(MI),(t157)-[:SOLD_TO{cost:7500000.0}]->(MI),(t158)-[:SOLD_TO{cost:6500000.0}]->(MI),(t159)-[:SOLD_TO{cost:5000000.0}]->(MI),(t160)-[:SOLD_TO{cost:3000000.0}]->(MI),(t161)-[:SOLD_TO{cost:3000000.0}]->(MI),(t162)-[:SOLD_TO{cost:2000000.0}]->(MI),(t163)-[:SOLD_TO{cost:2000000.0}]->(MI),(t164)-[:SOLD_TO{cost:2000000.0}]->(MI),(t165)-[:SOLD_TO{cost:2000000.0}]->(MI),(t166)-[:SOLD_TO{cost:2000000.0}]->(MI),(t167)-[:SOLD_TO{cost:2000000.0}]->(MI),(t168)-[:SOLD_TO{cost:150000000.0}]->(RCB),(t169)-[:SOLD_TO{cost:110000000.0}]->(RCB),(t170)-[:SOLD_TO{cost:107500000.0}]->(RCB),(t171)-[:SOLD_TO{cost:107500000.0}]->(RCB),(t172)-[:SOLD_TO{cost:77500000.0}]->(RCB),(t173)-[:SOLD_TO{cost:70000000.0}]->(RCB),(t174)-[:SOLD_TO{cost:70000000.0}]->(RCB),(t175)-[:SOLD_TO{cost:55000000.0}]->(RCB),(t176)-[:SOLD_TO{cost:34000000.0}]->(RCB),(t177)-[:SOLD_TO{cost:24000000.0}]->(RCB),(t178)-[:SOLD_TO{cost:20000000.0}]->(RCB),(t179)-[:SOLD_TO{cost:10000000.0}]->(RCB),(t180)-[:SOLD_TO{cost:9500000.0}]->(RCB),(t181)-[:SOLD_TO{cost:8000000.0}]->(RCB),(t182)-[:SOLD_TO{cost:7500000.0}]->(RCB),(t183)-[:SOLD_TO{cost:7500000.0}]->(RCB),(t184)-[:SOLD_TO{cost:5000000.0}]->(RCB),(t185)-[:SOLD_TO{cost:3000000.0}]->(RCB),(t186)-[:SOLD_TO{cost:2500000.0}]->(RCB),(t187)-[:SOLD_TO{cost:2000000.0}]->(RCB),(t188)-[:SOLD_TO{cost:2000000.0}]->(RCB),(t189)-[:SOLD_TO{cost:2000000.0}]->(RCB),(t190)-[:SOLD_TO{cost:140000000.0}]->(RR),(t191)-[:SOLD_TO{cost:100000000.0}]->(RR),(t192)-[:SOLD_TO{cost:100000000.0}]->(RR),(t193)-[:SOLD_TO{cost:85000000.0}]->(RR),(t194)-[:SOLD_TO{cost:80000000.0}]->(RR),(t195)-[:SOLD_TO{cost:77500000.0}]->(RR),(t196)-[:SOLD_TO{cost:65000000.0}]->(RR),(t197)-[:SOLD_TO{cost:50000000.0}]->(RR),(t198)-[:SOLD_TO{cost:40000000.0}]->(RR),(t199)-[:SOLD_TO{cost:38000000.0}]->(RR),(t200)-[:SOLD_TO{cost:26000000.0}]->(RR),(t201)-[:SOLD_TO{cost:20000000.0}]->(RR),(t202)-[:SOLD_TO{cost:15000000.0}]->(RR),(t203)-[:SOLD_TO{cost:14000000.0}]->(RR),(t204)-[:SOLD_TO{cost:10000000.0}]->(RR),(t205)-[:SOLD_TO{cost:7500000.0}]->(RR),(t206)-[:SOLD_TO{cost:7500000.0}]->(RR),(t207)-[:SOLD_TO{cost:3000000.0}]->(RR),(t208)-[:SOLD_TO{cost:2000000.0}]->(RR),(t209)-[:SOLD_TO{cost:2000000.0}]->(RR),(t210)-[:SOLD_TO{cost:2000000.0}]->(RR),(t211)-[:SOLD_TO{cost:2000000.0}]->(RR),(t212)-[:SOLD_TO{cost:2000000.0}]->(RR),(t213)-[:SOLD_TO{cost:2000000.0}]->(RR),(t214)-[:SOLD_TO{cost:140000000.0}]->(SH),(t215)-[:SOLD_TO{cost:107500000.0}]->(SH),(t216)-[:SOLD_TO{cost:87500000.0}]->(SH),(t217)-[:SOLD_TO{cost:85000000.0}]->(SH),(t218)-[:SOLD_TO{cost:77500000.0}]->(SH),(t219)-[:SOLD_TO{cost:65000000.0}]->(SH),(t220)-[:SOLD_TO{cost:42000000.0}]->(SH),(t221)-[:SOLD_TO{cost:42000000.0}]->(SH),(t222)-[:SOLD_TO{cost:40000000.0}]->(SH),(t223)-[:SOLD_TO{cost:40000000.0}]->(SH),(t224)-[:SOLD_TO{cost:40000000.0}]->(SH),(t225)-[:SOLD_TO{cost:40000000.0}]->(SH),(t226)-[:SOLD_TO{cost:26000000.0}]->(SH),(t227)-[:SOLD_TO{cost:24000000.0}]->(SH),(t228)-[:SOLD_TO{cost:15000000.0}]->(SH),(t229)-[:SOLD_TO{cost:7500000.0}]->(SH),(t230)-[:SOLD_TO{cost:5000000.0}]->(SH),(t231)-[:SOLD_TO{cost:5000000.0}]->(SH),(t232)-[:SOLD_TO{cost:2000000.0}]->(SH),(t233)-[:SOLD_TO{cost:2000000.0}]->(SH),(t234)-[:SOLD_TO{cost:2000000.0}]->(SH),(t235)-[:SOLD_TO{cost:2000000.0}]->(SH),(t236)-[:SOLD_TO{cost:2000000.0}]->(SH)\""
      ]
     },
     "execution_count": 545,
     "metadata": {},
     "output_type": "execute_result"
    }
   ],
   "source": [
    "final_query"
   ]
  },
  {
   "cell_type": "markdown",
   "id": "49ea06b5",
   "metadata": {},
   "source": [
    "Create Query"
   ]
  },
  {
   "cell_type": "code",
   "execution_count": 490,
   "id": "dbe2beed",
   "metadata": {},
   "outputs": [],
   "source": [
    "neo4j_session = neo4j_python()\n",
    "neo4j_session.execute_query(final_query)"
   ]
  },
  {
   "cell_type": "code",
   "execution_count": 30,
   "id": "87433d3a",
   "metadata": {},
   "outputs": [],
   "source": [
    "session = neo4j_python()"
   ]
  },
  {
   "cell_type": "markdown",
   "id": "7fe7d933",
   "metadata": {},
   "source": [
    "Query to return the name of Top 5 expensive players sold in IPL 2022 Auction with team Name and cost"
   ]
  },
  {
   "cell_type": "code",
   "execution_count": 8,
   "id": "4f991a30",
   "metadata": {
    "scrolled": true
   },
   "outputs": [
    {
     "data": {
      "text/html": [
       "<div>\n",
       "<style scoped>\n",
       "    .dataframe tbody tr th:only-of-type {\n",
       "        vertical-align: middle;\n",
       "    }\n",
       "\n",
       "    .dataframe tbody tr th {\n",
       "        vertical-align: top;\n",
       "    }\n",
       "\n",
       "    .dataframe thead th {\n",
       "        text-align: right;\n",
       "    }\n",
       "</style>\n",
       "<table border=\"1\" class=\"dataframe\">\n",
       "  <thead>\n",
       "    <tr style=\"text-align: right;\">\n",
       "      <th></th>\n",
       "      <th>name</th>\n",
       "      <th>Cost</th>\n",
       "      <th>team</th>\n",
       "    </tr>\n",
       "  </thead>\n",
       "  <tbody>\n",
       "    <tr>\n",
       "      <th>0</th>\n",
       "      <td>KL Rahul</td>\n",
       "      <td>170000000.0</td>\n",
       "      <td>LSG</td>\n",
       "    </tr>\n",
       "    <tr>\n",
       "      <th>1</th>\n",
       "      <td>Ravindra Jadeja</td>\n",
       "      <td>160000000.0</td>\n",
       "      <td>CSK</td>\n",
       "    </tr>\n",
       "    <tr>\n",
       "      <th>2</th>\n",
       "      <td>Rishabh Pant</td>\n",
       "      <td>160000000.0</td>\n",
       "      <td>DC</td>\n",
       "    </tr>\n",
       "    <tr>\n",
       "      <th>3</th>\n",
       "      <td>Rohit Sharma</td>\n",
       "      <td>160000000.0</td>\n",
       "      <td>MI</td>\n",
       "    </tr>\n",
       "    <tr>\n",
       "      <th>4</th>\n",
       "      <td>Ishan Kishan</td>\n",
       "      <td>152500000.0</td>\n",
       "      <td>MI</td>\n",
       "    </tr>\n",
       "  </tbody>\n",
       "</table>\n",
       "</div>"
      ],
      "text/plain": [
       "              name         Cost team\n",
       "0         KL Rahul  170000000.0  LSG\n",
       "1  Ravindra Jadeja  160000000.0  CSK\n",
       "2     Rishabh Pant  160000000.0   DC\n",
       "3     Rohit Sharma  160000000.0   MI\n",
       "4     Ishan Kishan  152500000.0   MI"
      ]
     },
     "execution_count": 8,
     "metadata": {},
     "output_type": "execute_result"
    }
   ],
   "source": [
    "session.return_df(\"MATCH (p:PLAYER) -[r:SOLD_TO]-> (t:TEAM)\\\n",
    "                   RETURN p.name AS name, r.cost AS Cost, t.name as team\\\n",
    "                   ORDER BY Cost DESC LIMIT 5\")"
   ]
  },
  {
   "cell_type": "markdown",
   "id": "2ee7130c",
   "metadata": {},
   "source": [
    "Query to return Players aquiered by Mumbai Indians in decending order by their buying cost"
   ]
  },
  {
   "cell_type": "code",
   "execution_count": 10,
   "id": "bca702a8",
   "metadata": {},
   "outputs": [
    {
     "data": {
      "text/html": [
       "<div>\n",
       "<style scoped>\n",
       "    .dataframe tbody tr th:only-of-type {\n",
       "        vertical-align: middle;\n",
       "    }\n",
       "\n",
       "    .dataframe tbody tr th {\n",
       "        vertical-align: top;\n",
       "    }\n",
       "\n",
       "    .dataframe thead th {\n",
       "        text-align: right;\n",
       "    }\n",
       "</style>\n",
       "<table border=\"1\" class=\"dataframe\">\n",
       "  <thead>\n",
       "    <tr style=\"text-align: right;\">\n",
       "      <th></th>\n",
       "      <th>name</th>\n",
       "      <th>Cost</th>\n",
       "    </tr>\n",
       "  </thead>\n",
       "  <tbody>\n",
       "    <tr>\n",
       "      <th>0</th>\n",
       "      <td>Rohit Sharma</td>\n",
       "      <td>160000000.0</td>\n",
       "    </tr>\n",
       "    <tr>\n",
       "      <th>1</th>\n",
       "      <td>Ishan Kishan</td>\n",
       "      <td>152500000.0</td>\n",
       "    </tr>\n",
       "    <tr>\n",
       "      <th>2</th>\n",
       "      <td>Jasprit Bumrah</td>\n",
       "      <td>120000000.0</td>\n",
       "    </tr>\n",
       "    <tr>\n",
       "      <th>3</th>\n",
       "      <td>Tim David</td>\n",
       "      <td>82500000.0</td>\n",
       "    </tr>\n",
       "    <tr>\n",
       "      <th>4</th>\n",
       "      <td>Suryakumar Yadav</td>\n",
       "      <td>80000000.0</td>\n",
       "    </tr>\n",
       "  </tbody>\n",
       "</table>\n",
       "</div>"
      ],
      "text/plain": [
       "               name         Cost\n",
       "0      Rohit Sharma  160000000.0\n",
       "1      Ishan Kishan  152500000.0\n",
       "2    Jasprit Bumrah  120000000.0\n",
       "3         Tim David   82500000.0\n",
       "4  Suryakumar Yadav   80000000.0"
      ]
     },
     "execution_count": 10,
     "metadata": {},
     "output_type": "execute_result"
    }
   ],
   "source": [
    "session.return_df(\"MATCH (p:PLAYER) -[r:SOLD_TO]-> (t:TEAM{name: 'MI' })\\\n",
    "                   RETURN p.name AS name, r.cost AS Cost\\\n",
    "                   ORDER BY Cost DESC LIMIT 5\")"
   ]
  },
  {
   "cell_type": "markdown",
   "id": "97ed755b",
   "metadata": {},
   "source": [
    "Query to return Colleagues of 'Ravindra Jadeja'"
   ]
  },
  {
   "cell_type": "code",
   "execution_count": 32,
   "id": "5e6c3cd7",
   "metadata": {},
   "outputs": [
    {
     "data": {
      "text/html": [
       "<div>\n",
       "<style scoped>\n",
       "    .dataframe tbody tr th:only-of-type {\n",
       "        vertical-align: middle;\n",
       "    }\n",
       "\n",
       "    .dataframe tbody tr th {\n",
       "        vertical-align: top;\n",
       "    }\n",
       "\n",
       "    .dataframe thead th {\n",
       "        text-align: right;\n",
       "    }\n",
       "</style>\n",
       "<table border=\"1\" class=\"dataframe\">\n",
       "  <thead>\n",
       "    <tr style=\"text-align: right;\">\n",
       "      <th></th>\n",
       "      <th>Colleagues</th>\n",
       "    </tr>\n",
       "  </thead>\n",
       "  <tbody>\n",
       "    <tr>\n",
       "      <th>0</th>\n",
       "      <td>Chris Jordan</td>\n",
       "    </tr>\n",
       "    <tr>\n",
       "      <th>1</th>\n",
       "      <td>Mitchell Santner</td>\n",
       "    </tr>\n",
       "    <tr>\n",
       "      <th>2</th>\n",
       "      <td>C.Hari Nishaanth</td>\n",
       "    </tr>\n",
       "    <tr>\n",
       "      <th>3</th>\n",
       "      <td>Moeen Ali</td>\n",
       "    </tr>\n",
       "    <tr>\n",
       "      <th>4</th>\n",
       "      <td>Ambati Rayudu</td>\n",
       "    </tr>\n",
       "    <tr>\n",
       "      <th>5</th>\n",
       "      <td>Dwaine Pretorius</td>\n",
       "    </tr>\n",
       "    <tr>\n",
       "      <th>6</th>\n",
       "      <td>Dwayne Bravo</td>\n",
       "    </tr>\n",
       "    <tr>\n",
       "      <th>7</th>\n",
       "      <td>N. Jagadeesan</td>\n",
       "    </tr>\n",
       "    <tr>\n",
       "      <th>8</th>\n",
       "      <td>Rajvardhan Hangargekar</td>\n",
       "    </tr>\n",
       "    <tr>\n",
       "      <th>9</th>\n",
       "      <td>K.M. Asif</td>\n",
       "    </tr>\n",
       "    <tr>\n",
       "      <th>10</th>\n",
       "      <td>Mukesh Choudhary</td>\n",
       "    </tr>\n",
       "    <tr>\n",
       "      <th>11</th>\n",
       "      <td>Tushar Deshpande</td>\n",
       "    </tr>\n",
       "    <tr>\n",
       "      <th>12</th>\n",
       "      <td>K.Bhagath Varma</td>\n",
       "    </tr>\n",
       "    <tr>\n",
       "      <th>13</th>\n",
       "      <td>Robin Uthappa</td>\n",
       "    </tr>\n",
       "    <tr>\n",
       "      <th>14</th>\n",
       "      <td>Ruturaj Gaikwad</td>\n",
       "    </tr>\n",
       "    <tr>\n",
       "      <th>15</th>\n",
       "      <td>Shivam Dube</td>\n",
       "    </tr>\n",
       "    <tr>\n",
       "      <th>16</th>\n",
       "      <td>Subhranshu Senapati</td>\n",
       "    </tr>\n",
       "    <tr>\n",
       "      <th>17</th>\n",
       "      <td>Maheesh Theekshana</td>\n",
       "    </tr>\n",
       "    <tr>\n",
       "      <th>18</th>\n",
       "      <td>MS Dhoni</td>\n",
       "    </tr>\n",
       "    <tr>\n",
       "      <th>19</th>\n",
       "      <td>Prashant Solanki</td>\n",
       "    </tr>\n",
       "    <tr>\n",
       "      <th>20</th>\n",
       "      <td>Devon Conway</td>\n",
       "    </tr>\n",
       "    <tr>\n",
       "      <th>21</th>\n",
       "      <td>Deepak Chahar</td>\n",
       "    </tr>\n",
       "    <tr>\n",
       "      <th>22</th>\n",
       "      <td>Adam Milne</td>\n",
       "    </tr>\n",
       "    <tr>\n",
       "      <th>23</th>\n",
       "      <td>Simarjeet Singh</td>\n",
       "    </tr>\n",
       "  </tbody>\n",
       "</table>\n",
       "</div>"
      ],
      "text/plain": [
       "                Colleagues\n",
       "0             Chris Jordan\n",
       "1         Mitchell Santner\n",
       "2         C.Hari Nishaanth\n",
       "3                Moeen Ali\n",
       "4            Ambati Rayudu\n",
       "5         Dwaine Pretorius\n",
       "6             Dwayne Bravo\n",
       "7            N. Jagadeesan\n",
       "8   Rajvardhan Hangargekar\n",
       "9                K.M. Asif\n",
       "10        Mukesh Choudhary\n",
       "11        Tushar Deshpande\n",
       "12         K.Bhagath Varma\n",
       "13           Robin Uthappa\n",
       "14         Ruturaj Gaikwad\n",
       "15             Shivam Dube\n",
       "16     Subhranshu Senapati\n",
       "17      Maheesh Theekshana\n",
       "18                MS Dhoni\n",
       "19        Prashant Solanki\n",
       "20            Devon Conway\n",
       "21           Deepak Chahar\n",
       "22              Adam Milne\n",
       "23         Simarjeet Singh"
      ]
     },
     "execution_count": 32,
     "metadata": {},
     "output_type": "execute_result"
    }
   ],
   "source": [
    "session.return_df(\"MATCH (p1:PLAYER{name: 'Ravindra Jadeja'}) -[r:COLLEAGUE]-> (p2:PLAYER)\\\n",
    "                   RETURN p2.name as Colleagues\" )"
   ]
  },
  {
   "cell_type": "markdown",
   "id": "c65aca26",
   "metadata": {},
   "source": [
    "Query to return Colleagues of 'Rishabh Pant' who has sold for more than 5 cr rupees"
   ]
  },
  {
   "cell_type": "code",
   "execution_count": 35,
   "id": "9ec21690",
   "metadata": {},
   "outputs": [
    {
     "data": {
      "text/html": [
       "<div>\n",
       "<style scoped>\n",
       "    .dataframe tbody tr th:only-of-type {\n",
       "        vertical-align: middle;\n",
       "    }\n",
       "\n",
       "    .dataframe tbody tr th {\n",
       "        vertical-align: top;\n",
       "    }\n",
       "\n",
       "    .dataframe thead th {\n",
       "        text-align: right;\n",
       "    }\n",
       "</style>\n",
       "<table border=\"1\" class=\"dataframe\">\n",
       "  <thead>\n",
       "    <tr style=\"text-align: right;\">\n",
       "      <th></th>\n",
       "      <th>name</th>\n",
       "      <th>cost</th>\n",
       "    </tr>\n",
       "  </thead>\n",
       "  <tbody>\n",
       "    <tr>\n",
       "      <th>0</th>\n",
       "      <td>Axar Patel</td>\n",
       "      <td>90000000.0</td>\n",
       "    </tr>\n",
       "    <tr>\n",
       "      <th>1</th>\n",
       "      <td>Mitchell Marsh</td>\n",
       "      <td>65000000.0</td>\n",
       "    </tr>\n",
       "    <tr>\n",
       "      <th>2</th>\n",
       "      <td>Anrich Nortje</td>\n",
       "      <td>65000000.0</td>\n",
       "    </tr>\n",
       "    <tr>\n",
       "      <th>3</th>\n",
       "      <td>David Warner</td>\n",
       "      <td>62500000.0</td>\n",
       "    </tr>\n",
       "    <tr>\n",
       "      <th>4</th>\n",
       "      <td>Prithvi Shaw</td>\n",
       "      <td>75000000.0</td>\n",
       "    </tr>\n",
       "    <tr>\n",
       "      <th>5</th>\n",
       "      <td>Syed Khaleel Ahmed</td>\n",
       "      <td>52500000.0</td>\n",
       "    </tr>\n",
       "    <tr>\n",
       "      <th>6</th>\n",
       "      <td>Shardul Thakur</td>\n",
       "      <td>107500000.0</td>\n",
       "    </tr>\n",
       "  </tbody>\n",
       "</table>\n",
       "</div>"
      ],
      "text/plain": [
       "                 name         cost\n",
       "0          Axar Patel   90000000.0\n",
       "1      Mitchell Marsh   65000000.0\n",
       "2       Anrich Nortje   65000000.0\n",
       "3        David Warner   62500000.0\n",
       "4        Prithvi Shaw   75000000.0\n",
       "5  Syed Khaleel Ahmed   52500000.0\n",
       "6      Shardul Thakur  107500000.0"
      ]
     },
     "execution_count": 35,
     "metadata": {},
     "output_type": "execute_result"
    }
   ],
   "source": [
    "session.return_df(\"MATCH (p1:PLAYER{name: 'Rishabh Pant'}) -[r:COLLEAGUE]-> (p2:PLAYER)\\\n",
    "                   MATCH (p3:PLAYER) -[rt:SOLD_TO]-> (t1:TEAM)\\\n",
    "                   WHERE p3.name IN p2.name AND rt.cost>50000000\\\n",
    "                   RETURN p3.name as name , rt.cost as cost\" )"
   ]
  },
  {
   "cell_type": "markdown",
   "id": "86936e11",
   "metadata": {},
   "source": [
    "Query to return money spent by each team in IPL auction 2022"
   ]
  },
  {
   "cell_type": "code",
   "execution_count": 40,
   "id": "4c90dbbf",
   "metadata": {},
   "outputs": [
    {
     "data": {
      "text/html": [
       "<div>\n",
       "<style scoped>\n",
       "    .dataframe tbody tr th:only-of-type {\n",
       "        vertical-align: middle;\n",
       "    }\n",
       "\n",
       "    .dataframe tbody tr th {\n",
       "        vertical-align: top;\n",
       "    }\n",
       "\n",
       "    .dataframe thead th {\n",
       "        text-align: right;\n",
       "    }\n",
       "</style>\n",
       "<table border=\"1\" class=\"dataframe\">\n",
       "  <thead>\n",
       "    <tr style=\"text-align: right;\">\n",
       "      <th></th>\n",
       "      <th>name</th>\n",
       "      <th>spent</th>\n",
       "    </tr>\n",
       "  </thead>\n",
       "  <tbody>\n",
       "    <tr>\n",
       "      <th>0</th>\n",
       "      <td>MI</td>\n",
       "      <td>899000000.0</td>\n",
       "    </tr>\n",
       "    <tr>\n",
       "      <th>1</th>\n",
       "      <td>SH</td>\n",
       "      <td>899000000.0</td>\n",
       "    </tr>\n",
       "    <tr>\n",
       "      <th>2</th>\n",
       "      <td>GT</td>\n",
       "      <td>896500000.0</td>\n",
       "    </tr>\n",
       "    <tr>\n",
       "      <th>3</th>\n",
       "      <td>LSG</td>\n",
       "      <td>894000000.0</td>\n",
       "    </tr>\n",
       "    <tr>\n",
       "      <th>4</th>\n",
       "      <td>RR</td>\n",
       "      <td>890500000.0</td>\n",
       "    </tr>\n",
       "    <tr>\n",
       "      <th>5</th>\n",
       "      <td>RCB</td>\n",
       "      <td>884500000.0</td>\n",
       "    </tr>\n",
       "    <tr>\n",
       "      <th>6</th>\n",
       "      <td>CSK</td>\n",
       "      <td>870500000.0</td>\n",
       "    </tr>\n",
       "    <tr>\n",
       "      <th>7</th>\n",
       "      <td>DC</td>\n",
       "      <td>864000000.0</td>\n",
       "    </tr>\n",
       "    <tr>\n",
       "      <th>8</th>\n",
       "      <td>PK</td>\n",
       "      <td>845500000.0</td>\n",
       "    </tr>\n",
       "    <tr>\n",
       "      <th>9</th>\n",
       "      <td>KKR</td>\n",
       "      <td>815500000.0</td>\n",
       "    </tr>\n",
       "  </tbody>\n",
       "</table>\n",
       "</div>"
      ],
      "text/plain": [
       "  name        spent\n",
       "0   MI  899000000.0\n",
       "1   SH  899000000.0\n",
       "2   GT  896500000.0\n",
       "3  LSG  894000000.0\n",
       "4   RR  890500000.0\n",
       "5  RCB  884500000.0\n",
       "6  CSK  870500000.0\n",
       "7   DC  864000000.0\n",
       "8   PK  845500000.0\n",
       "9  KKR  815500000.0"
      ]
     },
     "execution_count": 40,
     "metadata": {},
     "output_type": "execute_result"
    }
   ],
   "source": [
    "session.return_df(\"MATCH (t:TEAM)<-[rt:SOLD_TO]-(p:PLAYER)\\\n",
    "                       RETURN t.name as name , sum(rt.cost) as spent\\\n",
    "                       ORDER BY spent DESC\" )"
   ]
  },
  {
   "cell_type": "code",
   "execution_count": null,
   "id": "7ec6c6f3",
   "metadata": {},
   "outputs": [],
   "source": []
  },
  {
   "cell_type": "code",
   "execution_count": null,
   "id": "13bb3152",
   "metadata": {},
   "outputs": [],
   "source": []
  }
 ],
 "metadata": {
  "kernelspec": {
   "display_name": "Python 3",
   "language": "python",
   "name": "python3"
  },
  "language_info": {
   "codemirror_mode": {
    "name": "ipython",
    "version": 3
   },
   "file_extension": ".py",
   "mimetype": "text/x-python",
   "name": "python",
   "nbconvert_exporter": "python",
   "pygments_lexer": "ipython3",
   "version": "3.6.5"
  }
 },
 "nbformat": 4,
 "nbformat_minor": 5
}
